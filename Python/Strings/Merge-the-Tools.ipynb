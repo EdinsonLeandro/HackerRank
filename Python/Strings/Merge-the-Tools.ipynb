{
 "cells": [
  {
   "cell_type": "markdown",
   "id": "9184e485",
   "metadata": {},
   "source": [
    "# Merge-the-Tools!\n",
    "\n",
    "Follow this [link](https://www.hackerrank.com/challenges/merge-the-tools/problem) to read the challenge in HackerRank web.\n",
    "\n",
    "---"
   ]
  },
  {
   "cell_type": "markdown",
   "id": "adf32ea0",
   "metadata": {},
   "source": [
    "Consider the following:\n",
    "\n",
    "- A string, $s$, of length $n$ where $s=c_0c_1 ... c_{n-1}$.\n",
    "\n",
    "- An integer, $k$, where $k$ is a factor of $n$.\n",
    "\n",
    "We can split $s$ into $\\frac{n}{k}$ substrings where each subtring, $t_i$, consists of a contiguous block of $k$ characters in $s$. Then, use each $t_i$ to create string $u_i$ such that:\n",
    "\n",
    "- The characters in $u_i$ are a subsequence of the characters in $t_i$.\n",
    "\n",
    "- Any repeat occurrence of a character is removed from the string such that each character in $u_i$ occurs exactly once. In other words, if the character at some index $j$ in $t_i$ occurs at a previous index $< j$ in $t_i$, then do not include the character in string $u_i$.\n",
    "\n",
    "Given $s$ and $k$, print $\\frac{n}{k}$ lines where each line $i$ denotes string $u_i$.\n",
    "\n",
    "<b>Example</b>\n",
    "\n",
    "**s='AAABCADDE'**\n",
    "\n",
    "**k=3**\n",
    "\n",
    "There are three substrings of length $3$ to consider: 'AAA', 'BCA' and 'DDE'. The first substring is all 'A' characters, so $u_1 = 'A'$. The second substring has all distinct characters, so $u_2 = 'BCA'$. The third substring has $2$ different characters, so $u_3 = 'DE'$. Note that a subsequence maintains the original order of characters encountered. The order of characters in each subsequence shown is important.\n",
    "\n",
    "<b>Function Description</b>\n",
    "\n",
    "Complete the merge_the_tools function in the editor below.\n",
    "\n",
    "merge_the_tools has the following parameters:\n",
    "\n",
    "- string s: the string to analyze.\n",
    "\n",
    "- int k: the size of substrings to analyze.\n",
    "\n",
    "<b>Prints</b>\n",
    "\n",
    "Print each subsequence on a new line. There will be $\\frac{n}{k}$ of them. No return value is expected.\n",
    "\n",
    "<b>Input Format</b>\n",
    "\n",
    "The first line contains a single string, $s$.\n",
    "The second line contains an integer, $k$, the length of each substring.\n",
    "\n",
    "<b>Constraints</b>\n",
    "\n",
    "- $1 \\leq n \\leq 10^4$\n",
    "\n",
    "- $1 \\leq k \\leq n$\n",
    "\n",
    "- It is guaranteed that $n$ is a multiple of $k$.\n",
    "\n",
    "<b>Sample Input</b>\n",
    "\n",
    "<code>     STDIN       Function</code>\n",
    "\n",
    "<code>     AABCAAADA   s = 'AABCAAADA'\n",
    "     3           k = 3</code>\n",
    "\n",
    "<b>Sample Output</b>\n",
    "\n",
    "<code>     AB\n",
    "     CA\n",
    "     AD</code>\n",
    "\n",
    "<b>Explanation</b>\n",
    "\n",
    "Split $s$ into $\\frac{n}{k} = \\frac{9}{3} = 3$ equal parts of length $k=3$. Convert each $t_i$ to $u_i$ by removing any subsequent occurrences of non-distinct characters in $t_i$:\n",
    "\n",
    "- $t_0 = \"AAB\" \\rightarrow $u_0 = \"AB\"$\n",
    "\n",
    "- $t_1 = \"CAA\" \\rightarrow $u_1 = \"CA\"$\n",
    "\n",
    "- $t_2 = \"ADA\" \\rightarrow $u_2 = \"AD\"$\n",
    "\n",
    "Print each $u_i$ on a new line.\n",
    "\n",
    "---"
   ]
  },
  {
   "cell_type": "markdown",
   "id": "fc64f5ef",
   "metadata": {},
   "source": [
    "## Solution.\n",
    "\n",
    "First, it defined a function to find the unique values in a string in order to eliminate any repeat occurrence. Then, it used a list comprehension to obtain a list of substrings.\n",
    "\n",
    "The length of substring after remove occurrence will be $\\frac{n}{k}$. The selection of each substring in the for loop will be fine always because in the constraints it is guaranteed that $n$ is a multiple of $k$.\n",
    "\n",
    "At the end, use the built-in <code>print</code> function using a new line separator <code>\"\\n\"</code>.\n",
    " ."
   ]
  },
  {
   "cell_type": "code",
   "execution_count": 1,
   "id": "538970f6",
   "metadata": {},
   "outputs": [
    {
     "name": "stdout",
     "output_type": "stream",
     "text": [
      "AABCAAADA\n",
      "3\n",
      "AB\n",
      "CA\n",
      "AD\n"
     ]
    }
   ],
   "source": [
    "def unique(substring):\n",
    "    \"\"\"\n",
    "    Return a word with unique strings. Any repeat occurrence of a character is removed.\n",
    "    \"\"\"\n",
    "    unique_str = '' \n",
    "\n",
    "    for item in substring:\n",
    "        if item.upper() not in unique_str: \n",
    "            unique_str += item.upper()\n",
    "            \n",
    "    return unique_str\n",
    "\n",
    "\n",
    "def merge_the_tools(string, k):\n",
    "    n = len(string)\n",
    "    factor = int(n/k)\n",
    "    \n",
    "    # Print all values of list using asterisk (*) before list and separator is a new line \"\\n\"\n",
    "    print(*[unique(string[0 + k*item : k + k*item]) for item in range(0, factor)], sep='\\n')\n",
    "\n",
    "if __name__ == '__main__':\n",
    "    string, k = input(), int(input())\n",
    "    merge_the_tools(string, k)    "
   ]
  },
  {
   "cell_type": "code",
   "execution_count": null,
   "id": "057dbce5",
   "metadata": {},
   "outputs": [],
   "source": []
  }
 ],
 "metadata": {
  "kernelspec": {
   "display_name": "Python 3 (ipykernel)",
   "language": "python",
   "name": "python3"
  },
  "language_info": {
   "codemirror_mode": {
    "name": "ipython",
    "version": 3
   },
   "file_extension": ".py",
   "mimetype": "text/x-python",
   "name": "python",
   "nbconvert_exporter": "python",
   "pygments_lexer": "ipython3",
   "version": "3.9.7"
  }
 },
 "nbformat": 4,
 "nbformat_minor": 5
}
