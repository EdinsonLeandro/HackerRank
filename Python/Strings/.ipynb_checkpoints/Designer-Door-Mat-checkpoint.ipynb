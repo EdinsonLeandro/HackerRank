{
 "cells": [
  {
   "cell_type": "markdown",
   "id": "9184e485",
   "metadata": {},
   "source": [
    "# Designer Door Mat\n",
    "\n",
    "Follow this [link](https://www.hackerrank.com/challenges/designer-door-mat/problem) to read the challenge in HackerRank web.\n",
    "\n",
    "---"
   ]
  },
  {
   "cell_type": "markdown",
   "id": "adf32ea0",
   "metadata": {},
   "source": [
    "Mr. Vincent works in a door mat manufacturing company. One day, he designed a new door mat with the following specifications:\n",
    "\n",
    "- Mat size must be $N x M$. ($N$ is an odd natural number, and $M$ is $3$ times $N$.)\n",
    "\n",
    "- The design should have 'WELCOME' written in the center.\n",
    "\n",
    "- The design pattern should only use |, . and - characters.\n",
    "\n",
    "<b>Sample Designs</b>\n",
    "\n",
    "<code>    Size: 7 x 21 \n",
    "    ---------.|.---------\n",
    "    ------.|..|..|.------\n",
    "    ---.|..|..|..|..|.---\n",
    "    -------WELCOME-------\n",
    "    ---.|..|..|..|..|.---\n",
    "    ------.|..|..|.------\n",
    "    ---------.|.---------</code>\n",
    "    \n",
    "<code>    Size: 11 x 33\n",
    "    ---------------.|.---------------\n",
    "    ------------.|..|..|.------------\n",
    "    ---------.|..|..|..|..|.---------\n",
    "    ------.|..|..|..|..|..|..|.------\n",
    "    ---.|..|..|..|..|..|..|..|..|.---\n",
    "    -------------WELCOME-------------\n",
    "    ---.|..|..|..|..|..|..|..|..|.---\n",
    "    ------.|..|..|..|..|..|..|.------\n",
    "    ---------.|..|..|..|..|.---------\n",
    "    ------------.|..|..|.------------\n",
    "    ---------------.|.---------------</code>\n",
    "\n",
    "<b>Input Format</b>\n",
    "\n",
    "A single line containing the space separated values of $N$ and $M$.\n",
    "\n",
    "<b>Constraints</b>\n",
    "\n",
    "- $5 < N < 101$\n",
    "\n",
    "- $15 < M < 303$\n",
    "\n",
    "<b>Ouput format</b>\n",
    "\n",
    "Output the design pattern.\n",
    "\n",
    "<b>Sample Input</b>\n",
    "\n",
    "<code>     9 27</code>\n",
    "\n",
    "<b>Sample Output</b>\n",
    "\n",
    "<code>------------.|.------------\n",
    "---------.|..|..|.---------\n",
    "------.|..|..|..|..|.------\n",
    "---.|..|..|..|..|..|..|.---\n",
    "----------WELCOME----------\n",
    "---.|..|..|..|..|..|..|.---\n",
    "------.|..|..|..|..|.------\n",
    "---------.|..|..|.---------\n",
    "------------.|.------------</code>\n",
    "                        \n",
    "---"
   ]
  },
  {
   "attachments": {},
   "cell_type": "markdown",
   "id": "fc64f5ef",
   "metadata": {},
   "source": [
    "## Solution."
   ]
  },
  {
   "cell_type": "code",
   "execution_count": 1,
   "id": "18d4a62a",
   "metadata": {},
   "outputs": [
    {
     "name": "stdout",
     "output_type": "stream",
     "text": [
      "9 27\n",
      "------------.|.------------\n",
      "---------.|..|..|.---------\n",
      "------.|..|..|..|..|.------\n",
      "---.|..|..|..|..|..|..|.---\n",
      "----------WELCOME----------\n",
      "---.|..|..|..|..|..|..|.---\n",
      "------.|..|..|..|..|.------\n",
      "---------.|..|..|.---------\n",
      "------------.|.------------\n"
     ]
    }
   ],
   "source": [
    "# Enter your code here. Read input from STDIN. Print output to STDOUT\n",
    "if __name__ == '__main__':\n",
    "    N, M = input().split()\n",
    "    N, M = int(N) , int(M)\n",
    "\n",
    "# Upper part\n",
    "for item in range(1,N,2):\n",
    "    print(('.|.'*item).center(M,'-'))\n",
    "\n",
    "# \"Welcome\" line\n",
    "print('WELCOME'.center(M,'-'))\n",
    "\n",
    "# Lower part\n",
    "for item in range(N-2,0,-2):\n",
    "    print(('.|.'*item).center(M,'-'))"
   ]
  },
  {
   "cell_type": "code",
   "execution_count": null,
   "id": "7a057e24",
   "metadata": {},
   "outputs": [],
   "source": []
  }
 ],
 "metadata": {
  "kernelspec": {
   "display_name": "Python 3 (ipykernel)",
   "language": "python",
   "name": "python3"
  },
  "language_info": {
   "codemirror_mode": {
    "name": "ipython",
    "version": 3
   },
   "file_extension": ".py",
   "mimetype": "text/x-python",
   "name": "python",
   "nbconvert_exporter": "python",
   "pygments_lexer": "ipython3",
   "version": "3.9.7"
  }
 },
 "nbformat": 4,
 "nbformat_minor": 5
}
