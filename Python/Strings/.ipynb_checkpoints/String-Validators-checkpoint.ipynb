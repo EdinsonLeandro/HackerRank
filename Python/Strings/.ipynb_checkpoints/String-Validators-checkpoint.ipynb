{
 "cells": [
  {
   "cell_type": "markdown",
   "id": "9184e485",
   "metadata": {},
   "source": [
    "# String-Validators\n",
    "\n",
    "Follow this [link](https://www.hackerrank.com/challenges/string-validators/problem) to read the challenge in HackerRank web.\n",
    "\n",
    "---"
   ]
  },
  {
   "cell_type": "markdown",
   "id": "adf32ea0",
   "metadata": {},
   "source": [
    "You are given a string $S$.\n",
    "\n",
    "Your task is to find out if the string $S$ contains: alphanumeric characters, alphabetical characters, digits, lowercase and uppercase characters.\n",
    "\n",
    "<b>Input Format</b>\n",
    "\n",
    "A single line containing a string $S$.\n",
    "\n",
    "<b>Constraints</b>\n",
    "\n",
    "$1 \\leq len(S) \\leq 1000$\n",
    "\n",
    "<b>Ouput format</b>\n",
    "\n",
    "In the first line, print <code>True</code> if $S$ has any alphanumeric characters. Otherwise, print <code>False</code>.\n",
    "\n",
    "In the second line, print <code>True</code> if $S$ has any alphabetical characters. Otherwise, print <code>False</code>.\n",
    "\n",
    "In the third line, print <code>True</code> if $S$ has any digits. Otherwise, print <code>False</code>.\n",
    "\n",
    "In the fourth line, print <code>True</code> if $S$ has any lowercase characters. Otherwise, print <code>False</code>.\n",
    "\n",
    "In the fifth line, print <code>True</code> if $S$ has any uppercase characters. Otherwise, print <code>False</code>.\n",
    "\n",
    "<b>Sample Input</b>\n",
    "\n",
    "<code>     qA2</code>\n",
    "\n",
    "<b>Sample Output</b>\n",
    "\n",
    "<code>     True\n",
    "     True\n",
    "     True\n",
    "     True\n",
    "     True</code>\n",
    "\n",
    "---"
   ]
  },
  {
   "cell_type": "markdown",
   "id": "fc64f5ef",
   "metadata": {},
   "source": [
    "## Solution.\n",
    "\n",
    "The easy way is use **eval()** function to evaluate each condition."
   ]
  },
  {
   "cell_type": "code",
   "execution_count": 1,
   "id": "18d4a62a",
   "metadata": {},
   "outputs": [
    {
     "name": "stdout",
     "output_type": "stream",
     "text": [
      "qA2\n",
      "True\n",
      "True\n",
      "True\n",
      "True\n",
      "True\n"
     ]
    }
   ],
   "source": [
    "if __name__ == '__main__':\n",
    "    s = input()\n",
    "\n",
    "evaluation = ['.isalnum()', '.isalpha()', '.isdigit()','.islower()','.isupper()']\n",
    "\n",
    "for item in evaluation:\n",
    "    condition = 0\n",
    "    \n",
    "    for letter in s:\n",
    "        my_func = 'letter' + item\n",
    "        condition += eval(my_func)\n",
    "    \n",
    "    if condition != 0:\n",
    "        print('True')\n",
    "    else:\n",
    "        print('False')"
   ]
  },
  {
   "cell_type": "code",
   "execution_count": null,
   "id": "7a057e24",
   "metadata": {},
   "outputs": [],
   "source": []
  }
 ],
 "metadata": {
  "kernelspec": {
   "display_name": "Python 3 (ipykernel)",
   "language": "python",
   "name": "python3"
  },
  "language_info": {
   "codemirror_mode": {
    "name": "ipython",
    "version": 3
   },
   "file_extension": ".py",
   "mimetype": "text/x-python",
   "name": "python",
   "nbconvert_exporter": "python",
   "pygments_lexer": "ipython3",
   "version": "3.9.7"
  }
 },
 "nbformat": 4,
 "nbformat_minor": 5
}
