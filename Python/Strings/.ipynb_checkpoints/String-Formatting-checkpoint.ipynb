{
 "cells": [
  {
   "cell_type": "markdown",
   "id": "9184e485",
   "metadata": {},
   "source": [
    "# String Formatting\n",
    "\n",
    "Follow this [link](https://www.hackerrank.com/challenges/python-string-formatting/problem) to read the challenge in HackerRank web.\n",
    "\n",
    "---"
   ]
  },
  {
   "cell_type": "markdown",
   "id": "adf32ea0",
   "metadata": {},
   "source": [
    "Given an integer, $n$, print the following values for each integer $i$ from $1$ to $n$:\n",
    "\n",
    "1. Decimal\n",
    "\n",
    "2. Octal\n",
    "\n",
    "3. Hexadecimal (capitalized)\n",
    "\n",
    "4. Binary\n",
    "\n",
    "<b>Function Description</b>\n",
    "\n",
    "Complete the print_formatted function in the editor below.\n",
    "\n",
    "print_formatted has the following parameters:\n",
    "\n",
    "- int number: the maximum value to print.\n",
    "\n",
    "<b>Prints</b>\n",
    "\n",
    "The four values must be printed on a single line in the order specified above for each $i$ from $1$ to $number$. Each value should be space-padded to match the width of the binary value of $number$ and the values should be separated by a single space.\n",
    "\n",
    "<b>Input Format</b>\n",
    "\n",
    "A single integer denoting $n$.\n",
    "\n",
    "<b>Constraints</b>\n",
    "\n",
    "$1 \\leq n \\leq 99$\n",
    "\n",
    "<b>Sample Input</b>\n",
    "\n",
    "<code>     17</code>\n",
    "\n",
    "<b>Sample Output</b>\n",
    "\n",
    "<code>    1     1     1     1\n",
    "    2     2     2    10\n",
    "    3     3     3    11\n",
    "    4     4     4   100\n",
    "    5     5     5   101\n",
    "    6     6     6   110\n",
    "    7     7     7   111\n",
    "    8    10     8  1000\n",
    "    9    11     9  1001\n",
    "   10    12     A  1010\n",
    "   11    13     B  1011\n",
    "   12    14     C  1100\n",
    "   13    15     D  1101\n",
    "   14    16     E  1110\n",
    "   15    17     F  1111\n",
    "   16    20    10 10000\n",
    "   17    21    11 10001</code>\n",
    "\n",
    "---"
   ]
  },
  {
   "cell_type": "markdown",
   "id": "fc64f5ef",
   "metadata": {},
   "source": [
    "## Solution.\n",
    "\n",
    "Use bult-in functions **int, oct, hex, bin**."
   ]
  },
  {
   "cell_type": "code",
   "execution_count": 2,
   "id": "18d4a62a",
   "metadata": {},
   "outputs": [
    {
     "name": "stdout",
     "output_type": "stream",
     "text": [
      "17\n",
      "    1     1     1     1\n",
      "    2     2     2    10\n",
      "    3     3     3    11\n",
      "    4     4     4   100\n",
      "    5     5     5   101\n",
      "    6     6     6   110\n",
      "    7     7     7   111\n",
      "    8    10     8  1000\n",
      "    9    11     9  1001\n",
      "   10    12     A  1010\n",
      "   11    13     B  1011\n",
      "   12    14     C  1100\n",
      "   13    15     D  1101\n",
      "   14    16     E  1110\n",
      "   15    17     F  1111\n",
      "   16    20    10 10000\n",
      "   17    21    11 10001\n"
     ]
    }
   ],
   "source": [
    "def print_formatted(number):\n",
    "    \n",
    "    size = len(bin(number)[2:])\n",
    "    \n",
    "    for item in range(1,number + 1):\n",
    "        print('{}'.format(int(item)).rjust(size),\n",
    "              '{}'.format(oct(item)[2:]).rjust(size),\n",
    "              '{}'.format(hex(item)[2:].upper()).rjust(size),\n",
    "              '{}'.format(bin(item)[2:]).rjust(size))\n",
    "\n",
    "if __name__ == '__main__':\n",
    "    n = int(input())\n",
    "    print_formatted(n)"
   ]
  },
  {
   "cell_type": "code",
   "execution_count": null,
   "id": "7a057e24",
   "metadata": {},
   "outputs": [],
   "source": []
  }
 ],
 "metadata": {
  "kernelspec": {
   "display_name": "Python 3 (ipykernel)",
   "language": "python",
   "name": "python3"
  },
  "language_info": {
   "codemirror_mode": {
    "name": "ipython",
    "version": 3
   },
   "file_extension": ".py",
   "mimetype": "text/x-python",
   "name": "python",
   "nbconvert_exporter": "python",
   "pygments_lexer": "ipython3",
   "version": "3.9.7"
  }
 },
 "nbformat": 4,
 "nbformat_minor": 5
}
