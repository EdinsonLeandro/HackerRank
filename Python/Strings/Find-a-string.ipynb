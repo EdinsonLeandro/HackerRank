{
 "cells": [
  {
   "cell_type": "markdown",
   "id": "9184e485",
   "metadata": {},
   "source": [
    "# Find a string\n",
    "\n",
    "Follow this [link](https://www.hackerrank.com/challenges/find-a-string/problem) to read the challenge in HackerRank web.\n",
    "\n",
    "---"
   ]
  },
  {
   "cell_type": "markdown",
   "id": "adf32ea0",
   "metadata": {},
   "source": [
    "In this challenge, the user enters a string and a substring. You have to print the number of times that the substring occurs in the given string. String traversal will take place from left to right, not from right to left.\n",
    "\n",
    "**NOTE:** String letters are case-sensitive.\n",
    "\n",
    "<b>Input Format</b>\n",
    "\n",
    "The first line of input contains the original string. The next line contains the substring.\n",
    "\n",
    "<b>Constraints</b>\n",
    "\n",
    "$1 \\leq len(string) \\leq 200$\n",
    "\n",
    "Each character in the string is an ascii character.\n",
    "\n",
    "<b>Ouput format</b>\n",
    "\n",
    "Output the integer number indicating the total number of occurrences of the substring in the original string.\n",
    "\n",
    "<b>Sample Input</b>\n",
    "\n",
    "<code>     ABCDCDC\n",
    "     CDC</code>\n",
    "\n",
    "<b>Sample Output</b>\n",
    "\n",
    "<code>     2</code>\n",
    "\n",
    "<b>Concept</b>\n",
    "\n",
    "Some string processing examples, [such as these](https://www.thelearningpoint.net/computer-science/learning-python-programming-and-data-structures/learning-python-programming-and-data-structures--tutorial-12--string-manipulation), might be useful.\n",
    "\n",
    "There are a couple of new concepts:\n",
    "\n",
    "In Python, the length of a string is found by the function <code>len(s)</code>, where  is the string.\n",
    "\n",
    "To traverse through the length of a string, use a for loop:\n",
    "\n",
    "```python\n",
    "for i in range(0, len(s)):\n",
    "    print (s[i])\n",
    "```\n",
    "\n",
    "A range function is used to loop over some length:\n",
    "\n",
    "<code>     range (0, 5)</code>\n",
    "\n",
    "Here, the range loops over $0$ to $4.5$ is excluded.\n",
    "\n",
    "---"
   ]
  },
  {
   "cell_type": "markdown",
   "id": "fc64f5ef",
   "metadata": {},
   "source": [
    "## Solution."
   ]
  },
  {
   "cell_type": "code",
   "execution_count": 1,
   "id": "18d4a62a",
   "metadata": {},
   "outputs": [
    {
     "name": "stdout",
     "output_type": "stream",
     "text": [
      "ABCDCDC\n",
      "CDC\n",
      "2\n"
     ]
    }
   ],
   "source": [
    "def count_substring(string, sub_string):\n",
    "    mylist = []\n",
    "    for item in range(len(string)):\n",
    "        mylist.append(string[item:].find(sub_string))\n",
    "        \n",
    "    return mylist.count(0)\n",
    "\n",
    "if __name__ == '__main__':\n",
    "    string = input().strip()\n",
    "    sub_string = input().strip()\n",
    "    \n",
    "    count = count_substring(string, sub_string)\n",
    "    print(count)"
   ]
  },
  {
   "cell_type": "code",
   "execution_count": null,
   "id": "7a057e24",
   "metadata": {},
   "outputs": [],
   "source": []
  }
 ],
 "metadata": {
  "kernelspec": {
   "display_name": "Python 3 (ipykernel)",
   "language": "python",
   "name": "python3"
  },
  "language_info": {
   "codemirror_mode": {
    "name": "ipython",
    "version": 3
   },
   "file_extension": ".py",
   "mimetype": "text/x-python",
   "name": "python",
   "nbconvert_exporter": "python",
   "pygments_lexer": "ipython3",
   "version": "3.9.7"
  }
 },
 "nbformat": 4,
 "nbformat_minor": 5
}
