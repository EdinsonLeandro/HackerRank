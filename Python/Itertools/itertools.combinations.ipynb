{
 "cells": [
  {
   "cell_type": "markdown",
   "id": "52c7398e",
   "metadata": {},
   "source": [
    "# itertools.combinations()\n",
    "\n",
    "Follow this [link](https://www.hackerrank.com/challenges/itertools-combinations/problem) to read the challenge in HackerRank web.\n",
    "\n",
    "---"
   ]
  },
  {
   "cell_type": "markdown",
   "id": "f1707514",
   "metadata": {},
   "source": [
    "<b>Task</b>\n",
    "\n",
    "You are given a string $S$.\n",
    "\n",
    "Your task is to print all possible combinations, up to size $k$ of the string in lexicographic sorted order.\n",
    "\n",
    "<b>Input Format</b>\n",
    "\n",
    "A single line containing the space separated string $S$ and the integer value $k$ separated by a space.\n",
    "\n",
    "<b>Constraints</b>\n",
    "\n",
    "$0 < k \\leq len(S)$\n",
    "\n",
    "The string contains only UPPERCASE characters.\n",
    "\n",
    "<b>Output Format</b>\n",
    "\n",
    "Print the different combinations of string $S$ on separate lines.\n",
    "\n",
    "<b>Sample Input</b>\n",
    "\n",
    "<code>     HACK 2</code>\n",
    "\n",
    "<b>Sample Output</b>\n",
    "\n",
    "<code>     A\n",
    "     C\n",
    "     H\n",
    "     K\n",
    "     AC\n",
    "     AH\n",
    "     AK\n",
    "     CH\n",
    "     CK\n",
    "     HK</code>\n",
    "\n",
    "---"
   ]
  },
  {
   "cell_type": "markdown",
   "id": "f7c13114",
   "metadata": {},
   "source": [
    "## Solution.\n",
    "\n",
    "Use **combinations()** function from **itertools** package."
   ]
  },
  {
   "cell_type": "code",
   "execution_count": 1,
   "id": "52b7499f",
   "metadata": {},
   "outputs": [
    {
     "name": "stdout",
     "output_type": "stream",
     "text": [
      "HACK 2\n",
      "A\n",
      "C\n",
      "H\n",
      "K\n",
      "AC\n",
      "AH\n",
      "AK\n",
      "CH\n",
      "CK\n",
      "HK\n"
     ]
    }
   ],
   "source": [
    "# Enter your code here. Read input from STDIN. Print output to STDOUT\n",
    "\n",
    "from itertools import combinations\n",
    "\n",
    "if __name__ == '__main__':\n",
    "    # Input data\n",
    "    string, k = input().split()\n",
    "    k = int(k)\n",
    "    \n",
    "    # Sort string\n",
    "    string = sorted(string)\n",
    "    \n",
    "    # Use for loop to print all possible combinations.\n",
    "    for element in range(1, k+1):\n",
    "        [print(''.join(item)) for item in list(combinations(string,element))]"
   ]
  },
  {
   "cell_type": "code",
   "execution_count": null,
   "id": "61f4a90d",
   "metadata": {},
   "outputs": [],
   "source": []
  }
 ],
 "metadata": {
  "kernelspec": {
   "display_name": "Python 3",
   "language": "python",
   "name": "python3"
  },
  "language_info": {
   "codemirror_mode": {
    "name": "ipython",
    "version": 3
   },
   "file_extension": ".py",
   "mimetype": "text/x-python",
   "name": "python",
   "nbconvert_exporter": "python",
   "pygments_lexer": "ipython3",
   "version": "3.6.13"
  }
 },
 "nbformat": 4,
 "nbformat_minor": 5
}
