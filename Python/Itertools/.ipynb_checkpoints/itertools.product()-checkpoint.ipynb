{
 "cells": [
  {
   "cell_type": "markdown",
   "id": "52c7398e",
   "metadata": {},
   "source": [
    "# itertools.product()\n",
    "\n",
    "Follow this [link](https://www.hackerrank.com/challenges/itertools-product/problem) to read the challenge in HackerRank web.\n",
    "\n",
    "---"
   ]
  },
  {
   "cell_type": "markdown",
   "id": "f1707514",
   "metadata": {},
   "source": [
    "<b>Task</b>\n",
    "\n",
    "You are given a two lists $A$ and $B$. Your task is to compute their cartesian product $A X B$.\n",
    "\n",
    "<b>Example</b>\n",
    "\n",
    "<code>     A = [1, 2]\n",
    "     B = [3, 4]\n",
    "     AxB = [(1, 3), (1, 4), (2, 3), (2, 4)]</code>\n",
    "\n",
    "**Note:** $A$ and $B$ are sorted lists, and the cartesian product's tuples should be output in sorted order.\n",
    "\n",
    "<b>Input Format</b>\n",
    "\n",
    "The first line contains the space separated elements of list $A$.\n",
    "\n",
    "The second line contains the space separated elements of list $B$.\n",
    "\n",
    "Both lists have no duplicate integer elements.\n",
    "\n",
    "<b>Constraints</b>\n",
    "\n",
    "$0 < A < 30$\n",
    "\n",
    "$0 < B < 30$\n",
    "\n",
    "<b>Output Format</b>\n",
    "\n",
    "Output the space separated tuples of the cartesian product.\n",
    "\n",
    "<b>Sample Input</b>\n",
    "\n",
    "<code>     1 2\n",
    "     3 4</code>\n",
    "\n",
    "<b>Sample Output</b>\n",
    "\n",
    "<code>      (1, 3) (1, 4) (2, 3) (2, 4)</code>\n",
    "\n",
    "---"
   ]
  },
  {
   "cell_type": "markdown",
   "id": "f7c13114",
   "metadata": {},
   "source": [
    "## Solution.\n",
    "\n",
    "Use **product()** function from **itertools** package."
   ]
  },
  {
   "cell_type": "code",
   "execution_count": 1,
   "id": "52b7499f",
   "metadata": {},
   "outputs": [
    {
     "name": "stdout",
     "output_type": "stream",
     "text": [
      "1 2\n",
      "3 4\n",
      "(1, 3) (1, 4) (2, 3) (2, 4)\n"
     ]
    }
   ],
   "source": [
    "# Enter your code here. Read input from STDIN. Print output to STDOUT\n",
    "\n",
    "from itertools import product\n",
    "\n",
    "if __name__ == '__main__':\n",
    "    A = list(map(int, input().split()))\n",
    "    B = list(map(int, input().split()))\n",
    "\n",
    "print(*list(product(A,B)))"
   ]
  },
  {
   "cell_type": "code",
   "execution_count": null,
   "id": "61f4a90d",
   "metadata": {},
   "outputs": [],
   "source": []
  }
 ],
 "metadata": {
  "kernelspec": {
   "display_name": "Python 3 (ipykernel)",
   "language": "python",
   "name": "python3"
  },
  "language_info": {
   "codemirror_mode": {
    "name": "ipython",
    "version": 3
   },
   "file_extension": ".py",
   "mimetype": "text/x-python",
   "name": "python",
   "nbconvert_exporter": "python",
   "pygments_lexer": "ipython3",
   "version": "3.9.7"
  }
 },
 "nbformat": 4,
 "nbformat_minor": 5
}
