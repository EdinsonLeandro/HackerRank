{
 "cells": [
  {
   "cell_type": "markdown",
   "id": "52c7398e",
   "metadata": {},
   "source": [
    "# itertools.permutations()\n",
    "\n",
    "Follow this [link](https://www.hackerrank.com/challenges/itertools-permutations/problem) to read the challenge in HackerRank web.\n",
    "\n",
    "---"
   ]
  },
  {
   "cell_type": "markdown",
   "id": "f1707514",
   "metadata": {},
   "source": [
    "<b>Task</b>\n",
    "\n",
    "You are given a string $S$.\n",
    "\n",
    "Your task is to print all possible permutations of size $k$ of the string in lexicographic sorted order.\n",
    "\n",
    "<b>Input Format</b>\n",
    "\n",
    "A single line containing the space separated string $S$ and the integer value $k$.\n",
    "\n",
    "<b>Constraints</b>\n",
    "\n",
    "$0 < k < len(S)$\n",
    "\n",
    "The string contains only UPPERCASE characters.\n",
    "\n",
    "<b>Output Format</b>\n",
    "\n",
    "Print the permutations of the string $S$ on separate lines.\n",
    "\n",
    "<b>Sample Input</b>\n",
    "\n",
    "<code>     HACK 2</code>\n",
    "\n",
    "<b>Sample Output</b>\n",
    "\n",
    "<code>      AC\n",
    "     AH\n",
    "     AK\n",
    "     CA\n",
    "     CH\n",
    "     CK\n",
    "     HA\n",
    "     HC\n",
    "     HK\n",
    "     KA\n",
    "     KC\n",
    "     KH</code>\n",
    "\n",
    "<b>Explanation</b>\n",
    "\n",
    "All possible size $2$ permutations of the string **\"HACK\"** are printed in lexicographic sorted order.\n",
    "\n",
    "---"
   ]
  },
  {
   "cell_type": "markdown",
   "id": "f7c13114",
   "metadata": {},
   "source": [
    "## Solution.\n",
    "\n",
    "Use **permutations()** function from **itertools** package. **permutations()** returns a tuple with items. We have to join it before print."
   ]
  },
  {
   "cell_type": "code",
   "execution_count": 1,
   "id": "52b7499f",
   "metadata": {},
   "outputs": [
    {
     "name": "stdout",
     "output_type": "stream",
     "text": [
      "HACK 2\n",
      "AC\n",
      "AH\n",
      "AK\n",
      "CA\n",
      "CH\n",
      "CK\n",
      "HA\n",
      "HC\n",
      "HK\n",
      "KA\n",
      "KC\n",
      "KH\n"
     ]
    }
   ],
   "source": [
    "# Enter your code here. Read input from STDIN. Print output to STDOUT\n",
    "from itertools import permutations\n",
    "\n",
    "if __name__ == '__main__':\n",
    "    # Input data\n",
    "    string, k = input().split()\n",
    "    k = int(k)\n",
    "    \n",
    "    # Sort string\n",
    "    string = sorted(string)\n",
    "    \n",
    "    # Use list comprehension to print permutations\n",
    "    [print(''.join(item)) for item in list(permutations(string,k))]"
   ]
  },
  {
   "cell_type": "code",
   "execution_count": null,
   "id": "8df49eca",
   "metadata": {},
   "outputs": [],
   "source": []
  }
 ],
 "metadata": {
  "kernelspec": {
   "display_name": "Python 3 (ipykernel)",
   "language": "python",
   "name": "python3"
  },
  "language_info": {
   "codemirror_mode": {
    "name": "ipython",
    "version": 3
   },
   "file_extension": ".py",
   "mimetype": "text/x-python",
   "name": "python",
   "nbconvert_exporter": "python",
   "pygments_lexer": "ipython3",
   "version": "3.9.7"
  }
 },
 "nbformat": 4,
 "nbformat_minor": 5
}
