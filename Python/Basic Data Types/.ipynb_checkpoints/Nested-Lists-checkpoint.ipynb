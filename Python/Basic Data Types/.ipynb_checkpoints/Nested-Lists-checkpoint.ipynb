{
 "cells": [
  {
   "cell_type": "markdown",
   "id": "9184e485",
   "metadata": {},
   "source": [
    "# Nested Lists\n",
    "\n",
    "Follow this [link](https://www.hackerrank.com/challenges/nested-list/problem) to read the challenge in HackerRank web.\n",
    "\n",
    "---"
   ]
  },
  {
   "cell_type": "markdown",
   "id": "adf32ea0",
   "metadata": {},
   "source": [
    "Given the names and grades for each student in a class of $N$ students, store them in a nested list and print the name(s) of any student(s) having the second lowest grade.\n",
    "\n",
    "<b>Note:</b> If there are multiple students with the second lowest grade, order their names alphabetically and print each name on a new line.\n",
    "\n",
    "<b>Example</b>\n",
    "\n",
    "$records = [ [\"chi\", 20.0] , [\"beta\", 50.0] , [\"alpha\", 50.0]]$\n",
    "\n",
    "The ordered list of scores is $[20.0 , 50.0]$, so the second lowest score is $50.0$. There are two students with that score: $[\"beta\" , \"alpha\"]$. Ordered alphabetically, the names are printed as:\n",
    "\n",
    "<code>     alpha\n",
    "     beta</code>\n",
    "\n",
    "<b>Input Format</b>\n",
    "\n",
    "The first line contains an integer, $N$, the number of students.\n",
    "\n",
    "The $2N$ subsequent lines describe each student over $2$ lines.\n",
    "\n",
    "- The first line contains a student's name.\n",
    "\n",
    "- The second line contains their grade.\n",
    "\n",
    "<b>Constraints</b>\n",
    "\n",
    "- 2 \\leq N \\leq5\n",
    "\n",
    "- There will always be one or more students having the second lowest grade.\n",
    "\n",
    "<b>Ouput Format</b>\n",
    "\n",
    "Print the name(s) of any student(s) having the second lowest grade in. If there are multiple students, order their names alphabetically and print each one on a new line.\n",
    "\n",
    "<b>Sample Input 0</b>\n",
    "\n",
    "<code>     5\n",
    "     Harry\n",
    "     37.21\n",
    "     Berry\n",
    "     37.21\n",
    "     Tina\n",
    "     37.2\n",
    "     Akriti\n",
    "     41\n",
    "     Harsh\n",
    "     39</code>\n",
    "\n",
    "<b>Sample Output 0</b>\n",
    "\n",
    "<code>     Berry\n",
    "     Harry</code>\n",
    "\n",
    "<b>Explanation 0</b>\n",
    "\n",
    "There are $5$ students in this class whose names and grades are assembled to build the following list:\n",
    "\n",
    "<code>python students = [['Harry', 37.21], ['Berry', 37.21], ['Tina', 37.2], ['Akriti', 41], ['Harsh', 39]] </code>\n",
    "\n",
    "The lowest grade of $37.2$ belongs to Tina. The second lowest grade of #37.21# belongs to both Harry and Berry, so we order their names alphabetically and print each name on a new line.\n",
    "\n",
    "---"
   ]
  },
  {
   "cell_type": "markdown",
   "id": "fc64f5ef",
   "metadata": {},
   "source": [
    "## Solution."
   ]
  },
  {
   "cell_type": "code",
   "execution_count": 4,
   "id": "18d4a62a",
   "metadata": {},
   "outputs": [
    {
     "name": "stdout",
     "output_type": "stream",
     "text": [
      "5\n",
      "Harry\n",
      "37.21\n",
      "Berry\n",
      "37.21\n",
      "Tina\n",
      "37.2\n",
      "Akriti\n",
      "41\n",
      "Harsh\n",
      "39\n",
      "Berry\n",
      "Harry\n"
     ]
    }
   ],
   "source": [
    "students = []\n",
    "\n",
    "if __name__ == '__main__':\n",
    "    for _ in range(int(input())):\n",
    "        name = input()\n",
    "        score = float(input())\n",
    "        students.append([name,score])\n",
    "\n",
    "# Sort list with key. Use lambda function to indicate to how to sort.\n",
    "students_sort = sorted(students, key=lambda x : x[1])\n",
    "\n",
    "#Determine the position of second lowest. The position will be \"result\"\n",
    "for item in range(len(students_sort)-1):\n",
    "    if students_sort[item][1] != students_sort[item+1][1]:\n",
    "        result = item+1\n",
    "        break   \n",
    "\n",
    "# \"preeliminary\" select only data with second lowest scores.\n",
    "preeliminary = [students_sort[result]]\n",
    "\n",
    "# Use list comprehension to append new data\n",
    "mylist = [preeliminary.append(students_sort[i+1]) for i in range(result,len(students_sort)-1) if (students_sort[i][1] == students_sort[i+1][1] and students_sort[i]==preeliminary[0])]\n",
    "\n",
    "# Sort list by first element\n",
    "result_sorted = sorted(preeliminary, key=lambda x : x[0])\n",
    "\n",
    "for item in result_sorted:\n",
    "    print(item[0])"
   ]
  },
  {
   "cell_type": "code",
   "execution_count": null,
   "id": "7a057e24",
   "metadata": {},
   "outputs": [],
   "source": []
  }
 ],
 "metadata": {
  "kernelspec": {
   "display_name": "Python 3 (ipykernel)",
   "language": "python",
   "name": "python3"
  },
  "language_info": {
   "codemirror_mode": {
    "name": "ipython",
    "version": 3
   },
   "file_extension": ".py",
   "mimetype": "text/x-python",
   "name": "python",
   "nbconvert_exporter": "python",
   "pygments_lexer": "ipython3",
   "version": "3.9.7"
  }
 },
 "nbformat": 4,
 "nbformat_minor": 5
}
