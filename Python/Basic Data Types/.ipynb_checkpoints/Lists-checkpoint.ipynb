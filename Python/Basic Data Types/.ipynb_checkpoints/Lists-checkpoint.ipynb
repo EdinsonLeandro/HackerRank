{
 "cells": [
  {
   "cell_type": "markdown",
   "id": "9184e485",
   "metadata": {},
   "source": [
    "# Lists\n",
    "\n",
    "Follow this [link](https://www.hackerrank.com/challenges/python-lists/problem) to read the challenge in HackerRank web.\n",
    "\n",
    "---"
   ]
  },
  {
   "cell_type": "markdown",
   "id": "adf32ea0",
   "metadata": {},
   "source": [
    "Consider a list (<code>list = []</code>). You can perform the following commands:\n",
    "\n",
    "1. <code>insert i e</code>: Insert integer $e$ at position $i$.\n",
    "2. <code>print</code>: Print the list.\n",
    "3. <code>remove e</code>: Delete the first occurrence of integer $e$.\n",
    "4. <code>append e</code>: Insert integer  at the end of the list.\n",
    "5. <code>sort</code>: Sort the list.\n",
    "6. <code>pop</code>: Pop the last element from the list.\n",
    "7. <code>reverse</code>: Reverse the list.\n",
    "\n",
    "Initialize your list and read in the value of $n$ followed by $n$ lines of commands where each command will be of the $7$ types listed above. Iterate through each command in order and perform the corresponding operation on your list.\n",
    "\n",
    "<b>Example</b>\n",
    "\n",
    "$N = 4$\n",
    "\n",
    "$append 1$\n",
    "\n",
    "$append 2$\n",
    "\n",
    "$insert 3 1$\n",
    "\n",
    "$print$\n",
    "\n",
    "- $append 1$: Append $1$ to the list $arr = [1]$.\n",
    "\n",
    "- $append 2$: Append $2$ to the list $arr = [1, 2]$.\n",
    "\n",
    "- $insert 3 1$: Insert $3$ at index $1$, $arr = [1, 3, 2]$.\n",
    "\n",
    "- $print$: Print the array.\n",
    "\n",
    "Output\n",
    "\n",
    "<code>     [1, 3, 2]</code>\n",
    "\n",
    "<b>Input Format</b>\n",
    "\n",
    "The first line contains an integer, $n$, denoting the number of commands.\n",
    "\n",
    "Each line $i$ of the $n$ subsequent lines contains one of the commands described above.\n",
    "\n",
    "<b>Constraints</b>\n",
    "\n",
    "- The elements added to the list must be integers.\n",
    "\n",
    "<b>Ouput Format</b>\n",
    "\n",
    "For each command of type print, print the list on a new line.\n",
    "\n",
    "<b>Sample Input 0</b>\n",
    "\n",
    "<code>     12\n",
    "     insert 0 5\n",
    "     insert 1 10\n",
    "     insert 0 6\n",
    "     print\n",
    "     remove 6\n",
    "     append 9\n",
    "     append 1\n",
    "     sort\n",
    "     print\n",
    "     pop\n",
    "     reverse\n",
    "     print</code>\n",
    "\n",
    "<b>Sample Output 0</b>\n",
    "\n",
    "<code>     [6, 5, 10]\n",
    "     [1, 5, 9, 10]\n",
    "     [9, 5, 1]</code>\n",
    "\n",
    "---"
   ]
  },
  {
   "cell_type": "markdown",
   "id": "fc64f5ef",
   "metadata": {},
   "source": [
    "## Solution.\n",
    "\n",
    "The solution use **eval()** function. It is used to evaluate text strings that may contain expressions or different types of data structures that can be used with Python, such as lists, tuples, dictionaries and other objects that support assignment."
   ]
  },
  {
   "cell_type": "code",
   "execution_count": 1,
   "id": "18d4a62a",
   "metadata": {},
   "outputs": [
    {
     "name": "stdout",
     "output_type": "stream",
     "text": [
      "12\n",
      "insert 0 5\n",
      "insert 1 10\n",
      "insert 0 6\n",
      "print\n",
      "[6, 5, 10]\n",
      "remove 6\n",
      "append 9\n",
      "append 1\n",
      "sort\n",
      "print\n",
      "[1, 5, 9, 10]\n",
      "pop\n",
      "reverse\n",
      "print\n",
      "[9, 5, 1]\n"
     ]
    }
   ],
   "source": [
    "mylist = []\n",
    "\n",
    "if __name__ == '__main__':\n",
    "    N = int(input())\n",
    "    for item in range(N):\n",
    "        function, *line = input().split()\n",
    "        mark = tuple(map(int, line))\n",
    "        \n",
    "        if function != 'print':\n",
    "            evaluation = 'mylist'+'.'+function+'{}'.format(mark)\n",
    "            eval(evaluation)\n",
    "        else:\n",
    "            print(mylist)"
   ]
  },
  {
   "cell_type": "code",
   "execution_count": null,
   "id": "7a057e24",
   "metadata": {},
   "outputs": [],
   "source": []
  }
 ],
 "metadata": {
  "kernelspec": {
   "display_name": "Python 3 (ipykernel)",
   "language": "python",
   "name": "python3"
  },
  "language_info": {
   "codemirror_mode": {
    "name": "ipython",
    "version": 3
   },
   "file_extension": ".py",
   "mimetype": "text/x-python",
   "name": "python",
   "nbconvert_exporter": "python",
   "pygments_lexer": "ipython3",
   "version": "3.9.7"
  }
 },
 "nbformat": 4,
 "nbformat_minor": 5
}
