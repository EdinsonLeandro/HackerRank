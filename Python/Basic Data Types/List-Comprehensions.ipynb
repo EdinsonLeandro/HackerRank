{
 "cells": [
  {
   "cell_type": "markdown",
   "id": "9184e485",
   "metadata": {},
   "source": [
    "# List Comprehensions\n",
    "\n",
    "Follow this [link](https://www.hackerrank.com/challenges/list-comprehensions/problem) to read the challenge in HackerRank web.\n",
    "\n",
    "---"
   ]
  },
  {
   "cell_type": "markdown",
   "id": "adf32ea0",
   "metadata": {},
   "source": [
    "Let's learn about list comprehensions! You are given three integers $x,y$ and $z$ representing the dimensions of a cuboid along with an integer $n$. Print a list of all possible coordinates given by $i,j,k$ on a 3D grid where the sum of $i+j+k$ is not equal to $n$. Here, $0 \\leq i \\leq x ; 0 \\leq j \\leq y ; 0\\leq k \\leq z$. Please use list comprehensions rather than multiple loops, as a learning\n",
    "\n",
    "<b>Example</b>\n",
    "\n",
    "$x=1$\n",
    "\n",
    "$y=1$\n",
    "\n",
    "$z=2$\n",
    "\n",
    "$n=3$\n",
    "\n",
    "All permutations of $[i,j,k]$ are:\n",
    "\n",
    "$[[0,0,0], [0,0,1], [0,0,2], [0,1,0], [0,1,1], [0,1,2] , [1,0,0], [1,0,1], [1,0,2], [1,1,0], [1,1,1], [1,1,2]]$.\n",
    "\n",
    "Print an array of the elements that do not sum to $n=3$.\n",
    "\n",
    "$[[0,0,0], [0,0,1], [0,0,2], [0,1,0], [0,1,1], [1,0,0], [1,0,1], [1,1,0], [1,1,2]]$.\n",
    "\n",
    "<b>Input Format</b>\n",
    "\n",
    "Four integers $x,y,z$ and $n$, each on a separate line.\n",
    "\n",
    "<b>Constraints</b>\n",
    "\n",
    "Print the list in lexicographic increasing order.\n",
    "\n",
    "<b>Sample Input 0</b>\n",
    "\n",
    "<code>     1\n",
    "     1\n",
    "     1\n",
    "     2</code>\n",
    "\n",
    "<b>Sample Output 0</b>\n",
    "\n",
    "<code>     [[0, 0, 0], [0, 0, 1], [0, 1, 0], [1, 0, 0], [1, 1, 1]]</code>\n",
    "\n",
    "<b>Explanation 0</b>\n",
    "\n",
    "Each variable $x,y$ and $z$ will have values of $0$ or $1$. All permutations of lists in the form\n",
    "\n",
    "$[i,j,k] = [[0, 0, 0], [0, 0, 1], [0, 1, 0], [0, 1, 1], [1, 0, 0], [1, 0, 1], [1, 1, 0], [1, 1, 1]]$.\n",
    "\n",
    "Remove all arrays that sum to $n=2$ to leave only the valid permutations.\n",
    "\n",
    "<b>Sample Input 1</b>\n",
    "\n",
    "<code>     2\n",
    "     2\n",
    "     2\n",
    "     2</code>\n",
    "\n",
    "<b>Sample Output 1</b>\n",
    "\n",
    "<code>[[0, 0, 0], [0, 0, 1], [0, 1, 0], [0, 1, 2], [0, 2, 1], [0, 2, 2], [1, 0, 0], [1, 0, 2], [1, 1, 1], [1, 1, 2], [1, 2, 0], [1, 2, 1], [1, 2, 2], [2, 0, 1], [2, 0, 2], [2, 1, 0], [2, 1, 1], [2, 1, 2], [2, 2, 0], [2, 2, 1], [2, 2, 2]] </code>\n",
    "\n",
    "---"
   ]
  },
  {
   "cell_type": "markdown",
   "id": "fc64f5ef",
   "metadata": {},
   "source": [
    "## Solution.\n",
    "\n",
    "This requires a nested list comprehension."
   ]
  },
  {
   "cell_type": "code",
   "execution_count": 1,
   "id": "18d4a62a",
   "metadata": {},
   "outputs": [
    {
     "name": "stdout",
     "output_type": "stream",
     "text": [
      "2\n",
      "2\n",
      "2\n",
      "2\n",
      "[[0, 0, 0], [0, 0, 1], [0, 1, 0], [0, 1, 2], [0, 2, 1], [0, 2, 2], [1, 0, 0], [1, 0, 2], [1, 1, 1], [1, 1, 2], [1, 2, 0], [1, 2, 1], [1, 2, 2], [2, 0, 1], [2, 0, 2], [2, 1, 0], [2, 1, 1], [2, 1, 2], [2, 2, 0], [2, 2, 1], [2, 2, 2]]\n"
     ]
    }
   ],
   "source": [
    "if __name__ == '__main__':\n",
    "    x = int(input())\n",
    "    y = int(input())\n",
    "    z = int(input())\n",
    "    n = int(input())\n",
    "\n",
    "# List comprehension     \n",
    "print([ [ i, j, k] for i in range(x + 1) for j in range(y + 1) for k in range(z + 1) if ( ( i + j + k) != n )])"
   ]
  },
  {
   "cell_type": "code",
   "execution_count": null,
   "id": "7a057e24",
   "metadata": {},
   "outputs": [],
   "source": []
  }
 ],
 "metadata": {
  "kernelspec": {
   "display_name": "Python 3 (ipykernel)",
   "language": "python",
   "name": "python3"
  },
  "language_info": {
   "codemirror_mode": {
    "name": "ipython",
    "version": 3
   },
   "file_extension": ".py",
   "mimetype": "text/x-python",
   "name": "python",
   "nbconvert_exporter": "python",
   "pygments_lexer": "ipython3",
   "version": "3.9.7"
  }
 },
 "nbformat": 4,
 "nbformat_minor": 5
}
