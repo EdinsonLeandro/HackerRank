{
 "cells": [
  {
   "cell_type": "markdown",
   "id": "9184e485",
   "metadata": {},
   "source": [
    "# Finding the percentage\n",
    "\n",
    "Follow this [link](https://www.hackerrank.com/challenges/finding-the-percentage/problem) to read the challenge in HackerRank web.\n",
    "\n",
    "---"
   ]
  },
  {
   "cell_type": "markdown",
   "id": "adf32ea0",
   "metadata": {},
   "source": [
    "The provided code stub will read in a dictionary containing key/value pairs of name:[marks] for a list of students. Print the average of the marks array for the student name provided, showing 2 places after the decimal.\n",
    "\n",
    "<b>Example</b>\n",
    "\n",
    "**marks key : value pairs are**\n",
    "\n",
    "$'alpha' : [20,30,40]$\n",
    "\n",
    "$'beta' : [30,50,70]$\n",
    "\n",
    "**query_name = 'beta'**\n",
    "\n",
    "The **query_name** is 'beta'. beta's average score is $(30 + 50 + 70) / 3 = 50.0$.\n",
    "\n",
    "<b>Input Format</b>\n",
    "\n",
    "The first line contains the integer , the number of students' records. The next  lines contain the names and marks obtained by a student, each value separated by a space. The final line contains **query_name**, the name of a student to query.\n",
    "\n",
    "<b>Constraints</b>\n",
    "\n",
    "- 2 \\leq n \\leq 10\n",
    "\n",
    "- 0 \\leq marks[i] \\leq 100\n",
    "\n",
    "- length of marks arrays = 3\n",
    "\n",
    "<b>Ouput Format</b>\n",
    "\n",
    "Print one line: The average of the marks obtained by the particular student correct to 2 decimal places.\n",
    "\n",
    "<b>Sample Input 0</b>\n",
    "\n",
    "<code>     3\n",
    "     Krishna 67 68 69\n",
    "     Arjun 70 98 63\n",
    "     Malika 52 56 60\n",
    "     Malika</code>\n",
    "\n",
    "<b>Sample Output 0</b>\n",
    "\n",
    "<code>     56.0</code>\n",
    "\n",
    "<b>Explanation 0</b>\n",
    "\n",
    "Marks for Malika are ${52,56,60}$ whose average is $(52 + 56 + 60)/3 = 56$\n",
    "\n",
    "<b>Sample Input 1</b>\n",
    "\n",
    "<code>     2\n",
    "     Harsh 25 26.5 28\n",
    "     Anurag 26 28 30\n",
    "     Harsh</code>\n",
    "\n",
    "<b>Sample Output 1</b>\n",
    "\n",
    "<code>     26.50</code>\n",
    "\n",
    "---"
   ]
  },
  {
   "cell_type": "markdown",
   "id": "fc64f5ef",
   "metadata": {},
   "source": [
    "## Solution."
   ]
  },
  {
   "cell_type": "code",
   "execution_count": 1,
   "id": "18d4a62a",
   "metadata": {},
   "outputs": [
    {
     "name": "stdout",
     "output_type": "stream",
     "text": [
      "2\n",
      "Harsh 25 26.5 28\n",
      "Anurag 26 28 30\n",
      "Harsh\n",
      "26.50\n"
     ]
    }
   ],
   "source": [
    "if __name__ == '__main__':\n",
    "    n = int(input())\n",
    "    student_marks = {}\n",
    "    for _ in range(n):\n",
    "        name, *line = input().split()\n",
    "        scores = list(map(float, line))\n",
    "        student_marks[name] = scores\n",
    "    query_name = input()\n",
    "\n",
    "query = student_marks[query_name]\n",
    "\n",
    "print('{:.2f}'.format(sum(query)/len(query)))"
   ]
  },
  {
   "cell_type": "code",
   "execution_count": null,
   "id": "7a057e24",
   "metadata": {},
   "outputs": [],
   "source": []
  }
 ],
 "metadata": {
  "kernelspec": {
   "display_name": "Python 3 (ipykernel)",
   "language": "python",
   "name": "python3"
  },
  "language_info": {
   "codemirror_mode": {
    "name": "ipython",
    "version": 3
   },
   "file_extension": ".py",
   "mimetype": "text/x-python",
   "name": "python",
   "nbconvert_exporter": "python",
   "pygments_lexer": "ipython3",
   "version": "3.9.7"
  }
 },
 "nbformat": 4,
 "nbformat_minor": 5
}
