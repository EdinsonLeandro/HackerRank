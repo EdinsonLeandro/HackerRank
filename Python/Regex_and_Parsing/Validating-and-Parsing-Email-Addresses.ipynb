{
 "cells": [
  {
   "cell_type": "markdown",
   "id": "57cd9287",
   "metadata": {},
   "source": [
    "# Validating and Parsing Email Addresses\n",
    "\n",
    "Follow this [link](https://www.hackerrank.com/challenges/validating-named-email-addresses/problem) to read the challenge in HackerRank web.\n",
    "\n",
    "---"
   ]
  },
  {
   "cell_type": "markdown",
   "id": "47983530",
   "metadata": {},
   "source": [
    "A valid email address meets the following criteria:\n",
    "\n",
    "- It's composed of a username, domain name, and extension assembled in this format: <code>username@domain.extension</code>\n",
    "- The username starts with an English alphabetical character, and any subsequent characters consist of one or more of the following: [alphanumeric characters](https://en.wikipedia.org/wiki/Alphanumeric), <code>-</code>, <code>.</code>, and <code>_</code>.\n",
    "- The domain and extension contain only [English alphabetical characters](https://en.wikipedia.org/wiki/English_alphabet).\n",
    "- The extension is $1$, $2$, or $3$ characters in length.\n",
    "\n",
    "Given $n$ pairs of names and email addresses as input, print each name and email address pair having a valid email address on a new line.\n",
    "\n",
    "**Hint:** Try using Email.utils() to complete this challenge. For example, this code:\n",
    "\n",
    "<code>     import email.utils\n",
    "     print email.utils.parseaddr('DOSHI <DOSHI@hackerrank.com>')\n",
    "     print email.utils.formataddr(('DOSHI', 'DOSHI@hackerrank.com'))</code>\n",
    "\n",
    "produces this output:\n",
    "    \n",
    "<code>     ('DOSHI', 'DOSHI@hackerrank.com')\n",
    "      DOSHI <DOSHI@hackerrank.com></code>    \n",
    "    \n",
    "<b>Input Format</b>\n",
    "\n",
    "The first line contains a single integer, $n$, denoting the number of email address.\n",
    "Each line $i$ of the $n$ subsequent lines contains a name and an email address as two space-separated values following this format:\n",
    "\n",
    "<code>     name <user@email.com></code>     \n",
    "    \n",
    "<b>Constraints</b>\n",
    "\n",
    "$0 < n < 100$\n",
    "\n",
    "<b>Output Format</b>\n",
    "\n",
    "Print the space-separated name and email address pairs containing valid email addresses only. Each pair must be printed on a new line in the following format:\n",
    "\n",
    "<code>     name <user@email.com></code>\n",
    "    \n",
    "You must print each valid email address in the same order as it was received as input.\n",
    "    \n",
    "<b>Sample Input</b>\n",
    "\n",
    "<code>     2  \n",
    "     DEXTER dexter@hotmail.com\n",
    "     VIRUS virus!@variable.:p</code>\n",
    "\n",
    "<b>Sample Output</b>\n",
    "\n",
    "<code>     DEXTER <dexter@hotmail.com></code>\n",
    "    \n",
    "<b>Explanation</b>    \n",
    "\n",
    "dexter@hotmail.com is a valid email address, so we print the name and email address pair received as input on a new line.\n",
    "    \n",
    "virus!@variable.:p is not a valid email address because the username contains an exclamation point (!) and the extension contains a colon (:). As this email is not valid, we print nothing.\n",
    "    \n",
    "---"
   ]
  },
  {
   "cell_type": "markdown",
   "id": "d73434ee",
   "metadata": {},
   "source": [
    "## Solution.\n",
    "\n",
    "According to [documentation](https://docs.python.org/3/library/re.html) **re.match()** if zero or more characters at the beginning of string match the regular expression pattern, return a corresponding match object. Return None if the string does not match the pattern.\n",
    "\n",
    "This is the pattern to solve the challenge:\n",
    "\n",
    "```python\n",
    "pattern = r\"^[A-Za-z][\\w\\.-]+@[a-z]+\\.[a-z]{1,3}$\"\n",
    "```\n",
    "\n",
    "Explanation:\n",
    "\n",
    "- **^** and **\\$**: Anchor characters. Tell us where in the line the regex should match.\n",
    "- $[A-Za-z]$: Match uppercase and lowercase characters.\n",
    "- $[\\w\\.-]+$: Match any alphanumeric character including letters, numbers, underscores, period and hypen. With one or more repetitions.\n",
    "- $@[a-z]+$> Symbol $@$ followed by lowercase characters with one or more repetitions.\n",
    "- $\\.[a-z]\\{1,3\\}$: Period followed by lowercase characters with one to three repetitions."
   ]
  },
  {
   "cell_type": "code",
   "execution_count": 1,
   "id": "92363926",
   "metadata": {},
   "outputs": [
    {
     "name": "stdout",
     "output_type": "stream",
     "text": [
      "2\n",
      "DEXTER <dexter@hotmail.com>\n",
      "DEXTER <dexter@hotmail.com>\n",
      "VIRUS <virus!@variable.:p>\n"
     ]
    }
   ],
   "source": [
    "# Enter your code here. Read input from STDIN. Print output to STDOUT\n",
    "import email.utils as eu\n",
    "import re\n",
    "\n",
    "# Number of lines\n",
    "n_lines = int(input())\n",
    "pattern_email = r\"^[A-Za-z][\\w\\.-]+@[a-z]+\\.[a-z]{1,3}$\"\n",
    "\n",
    "for item in range(n_lines):\n",
    "    # Input data\n",
    "    input_data = input()\n",
    "    \n",
    "    # Parse email and split\n",
    "    _, e_mail = eu.parseaddr(input_data)\n",
    "    \n",
    "    # Print inputs with valid emails\n",
    "    print(input_data) if re.match(pattern_email, e_mail) else None"
   ]
  },
  {
   "cell_type": "code",
   "execution_count": null,
   "id": "277fee63",
   "metadata": {},
   "outputs": [],
   "source": []
  }
 ],
 "metadata": {
  "kernelspec": {
   "display_name": "Python 3 (ipykernel)",
   "language": "python",
   "name": "python3"
  },
  "language_info": {
   "codemirror_mode": {
    "name": "ipython",
    "version": 3
   },
   "file_extension": ".py",
   "mimetype": "text/x-python",
   "name": "python",
   "nbconvert_exporter": "python",
   "pygments_lexer": "ipython3",
   "version": "3.9.7"
  }
 },
 "nbformat": 4,
 "nbformat_minor": 5
}
