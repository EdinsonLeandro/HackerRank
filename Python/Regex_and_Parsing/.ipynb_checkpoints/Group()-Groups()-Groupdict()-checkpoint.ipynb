{
 "cells": [
  {
   "cell_type": "markdown",
   "id": "57cd9287",
   "metadata": {},
   "source": [
    "# Group(), Groups() & Groupdict()\n",
    "\n",
    "Follow this [link](https://www.hackerrank.com/challenges/re-group-groups/problem) to read the challenge in HackerRank web.\n",
    "\n",
    "---"
   ]
  },
  {
   "cell_type": "markdown",
   "id": "47983530",
   "metadata": {},
   "source": [
    "<b>Task</b>\n",
    "\n",
    "You are given a string $S$.\n",
    "Your task is to find the first occurrence of an alphanumeric character in $S$ (read from left to right) that has consecutive repetitions.\n",
    "\n",
    "<b>Input Format</b>\n",
    "\n",
    "A single line of input containing the string $S$.\n",
    "\n",
    "<b>Constraints</b>\n",
    "\n",
    "$0 < len(S) < 100$\n",
    "\n",
    "<b>Output Format</b>\n",
    "\n",
    "Print the first occurrence of the repeating character. If there are no repeating characters, print <code>-1</code>.\n",
    "\n",
    "<b>Sample Input</b>\n",
    "\n",
    "<code>     ..12345678910111213141516171820212223</code>\n",
    "\n",
    "<b>Sample Output</b>\n",
    "\n",
    "<code>     1</code>\n",
    "\n",
    "<b>Explanation </b>\n",
    "\n",
    "<code>..</code> is the first repeating character, but it is not alphanumeric.\n",
    "\n",
    "<code>1</code> is the first (from left to right) alphanumeric repeating character of the string in the substring <code>111</code>.\n",
    "\n",
    "---"
   ]
  },
  {
   "cell_type": "markdown",
   "id": "d73434ee",
   "metadata": {},
   "source": [
    "## Solution.\n",
    "\n",
    "According to [documentation](https://docs.python.org/3/library/re.html) **re.search()** scan through string looking for the first location where the regular expression pattern produces a match, and return a corresponding match object. Return None if no position in the string matches the pattern.\n",
    "\n",
    "Also, **Match.groups()** return a tuple containing all the subgroups of the match, from 1 up to however many groups are in the pattern. The default argument is used for groups that did not participate in the match; it defaults to None\n",
    "\n",
    "This is the pattern to solve the challenge:\n",
    "\n",
    "```python\n",
    "pattern = r'([A-Za-z0-9])\\1{1,}'\n",
    "```\n",
    "\n",
    "Explanation:\n",
    "- $([A-Za-z0-9])$: First group of the pattern, include uppercase characters, lowercase characters and digits.\n",
    "- $\\1$: Matches the contents of the group number one.\n",
    "- ${1,}$: Range of repetions. Start in one repetition. Does not specify the end."
   ]
  },
  {
   "cell_type": "code",
   "execution_count": 1,
   "id": "92363926",
   "metadata": {},
   "outputs": [
    {
     "name": "stdout",
     "output_type": "stream",
     "text": [
      "..12345678910111213141516171820212223\n",
      "1\n"
     ]
    }
   ],
   "source": [
    "# Enter your code here. Read input from STDIN. Print output to STDOUT\n",
    "import re\n",
    "\n",
    "pattern = r'([A-Za-z0-9])\\1{1,}'\n",
    "\n",
    "result = re.search(pattern, input())\n",
    "\n",
    "try:\n",
    "    print(result.groups()[0])\n",
    "except:\n",
    "    print('-1')"
   ]
  },
  {
   "cell_type": "code",
   "execution_count": null,
   "id": "9b75e510",
   "metadata": {},
   "outputs": [],
   "source": []
  }
 ],
 "metadata": {
  "kernelspec": {
   "display_name": "Python 3 (ipykernel)",
   "language": "python",
   "name": "python3"
  },
  "language_info": {
   "codemirror_mode": {
    "name": "ipython",
    "version": 3
   },
   "file_extension": ".py",
   "mimetype": "text/x-python",
   "name": "python",
   "nbconvert_exporter": "python",
   "pygments_lexer": "ipython3",
   "version": "3.9.7"
  }
 },
 "nbformat": 4,
 "nbformat_minor": 5
}
