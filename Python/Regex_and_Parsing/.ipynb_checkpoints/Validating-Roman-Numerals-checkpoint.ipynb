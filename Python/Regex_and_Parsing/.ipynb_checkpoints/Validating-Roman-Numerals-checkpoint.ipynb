{
 "cells": [
  {
   "cell_type": "markdown",
   "id": "57cd9287",
   "metadata": {},
   "source": [
    "# Validating Roman Numerals\n",
    "\n",
    "Follow this [link](https://www.hackerrank.com/challenges/validate-a-roman-number/problem) to read the challenge in HackerRank web.\n",
    "\n",
    "---"
   ]
  },
  {
   "cell_type": "markdown",
   "id": "47983530",
   "metadata": {},
   "source": [
    "You are given a string, and you have to validate whether it's a valid Roman numeral. If it is valid, print True. Otherwise, print False. Try to create a regular expression for a valid Roman numeral.\n",
    "\n",
    "<b>Input Format</b>\n",
    "\n",
    "A single line of input containing a string of Roman characters.\n",
    "\n",
    "<b>Output Format</b>\n",
    "\n",
    "Output a single line containing True or False according to the instructions above.\n",
    "\n",
    "<b>Constraints</b>\n",
    "\n",
    "The number will be between $1$ and $3999$ (both included).\n",
    "\n",
    "<b>Sample Input</b>\n",
    "\n",
    "<code>     CDXXI</code>\n",
    "\n",
    "<b>Sample Output</b>\n",
    "\n",
    "<code>     True</code>\n",
    "\n",
    "<b>References</b>\n",
    "\n",
    "Regular expressions are a key concept in any programming language. A quick explanation with Python examples is [available here](https://www.thelearningpoint.net/computer-science/learning-python-programming-and-data-structures/learning-python-programming-and-data-structures--tutorial-13--regular-expression-matching). You could also go through the link below to read more about regular expressions in Python.\n",
    "\n",
    "https://developers.google.com/edu/python/regular-expressions\n",
    "\n",
    "---"
   ]
  },
  {
   "cell_type": "markdown",
   "id": "d73434ee",
   "metadata": {},
   "source": [
    "## Solution.\n",
    "\n",
    "This is the pattern to solve the challenge:\n",
    "\n",
    "```python\n",
    "regex_pattern = r\"^M{0,3}(C[MD]|D?C{0,3})(X[CL]|L?X{0,3})(I[XV]|V?I{0,3})$\"\n",
    "```\n",
    "\n",
    "Explanation:\n",
    "- **M{0,3}**: Match thousands.\n",
    "- **C[MD]|D?C{0,3}**: Match Hundreds.\n",
    "- **X[CL]|L?X{0,3}**: Match Tens.\n",
    "- **I[XV]|V?I{0,3}**: Match Units.\n",
    "\n",
    "This [link](https://www.debuggex.com/r/Sf3WDxwcjtYHUZ1L) helps to understand regex patterns."
   ]
  },
  {
   "cell_type": "code",
   "execution_count": 1,
   "id": "92363926",
   "metadata": {},
   "outputs": [
    {
     "name": "stdout",
     "output_type": "stream",
     "text": [
      "aaadaa\n",
      "aa\n",
      "(0, 1)\n",
      "(1, 2)\n",
      "(4, 5)\n"
     ]
    }
   ],
   "source": [
    "regex_pattern = r\"^M{0,3}(C[MD]|D?C{0,3})(X[CL]|L?X{0,3})(I[XV]|V?I{0,3})$\"\n",
    "\n",
    "import re\n",
    "print(str(bool(re.match(regex_pattern, input()))))"
   ]
  },
  {
   "cell_type": "code",
   "execution_count": null,
   "id": "fd7af92a",
   "metadata": {},
   "outputs": [],
   "source": []
  }
 ],
 "metadata": {
  "kernelspec": {
   "display_name": "Python 3 (ipykernel)",
   "language": "python",
   "name": "python3"
  },
  "language_info": {
   "codemirror_mode": {
    "name": "ipython",
    "version": 3
   },
   "file_extension": ".py",
   "mimetype": "text/x-python",
   "name": "python",
   "nbconvert_exporter": "python",
   "pygments_lexer": "ipython3",
   "version": "3.9.7"
  }
 },
 "nbformat": 4,
 "nbformat_minor": 5
}
