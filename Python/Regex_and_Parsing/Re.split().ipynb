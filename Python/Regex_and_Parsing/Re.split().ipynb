{
 "cells": [
  {
   "cell_type": "markdown",
   "id": "57cd9287",
   "metadata": {},
   "source": [
    "# Re.split()\n",
    "\n",
    "Follow this [link](https://www.hackerrank.com/challenges/re-split/problem) to read the challenge in HackerRank web.\n",
    "\n",
    "---"
   ]
  },
  {
   "cell_type": "markdown",
   "id": "47983530",
   "metadata": {},
   "source": [
    "You are given a string $s$ consisting only of digits <code>0-9</code>, commas <code>,</code>, and dots <code>.</code>\n",
    "\n",
    "Your task is to complete the <code>regex_pattern</code> defined below, which will be used to re.split() all of the <code>,</code> and <code>.</code> symbols in $s$.\n",
    "\n",
    "It’s guaranteed that every comma and every dot in $s$ is preceeded and followed by a digit.\n",
    "\n",
    "<b>Sample Input 0</b>\n",
    "\n",
    "<code>     100,000,000.000</code>\n",
    "\n",
    "<b>Sample Output 0</b>\n",
    "\n",
    "<code>     100\n",
    "     000\n",
    "     000\n",
    "     000</code>\n",
    "\n",
    "---"
   ]
  },
  {
   "cell_type": "markdown",
   "id": "d73434ee",
   "metadata": {},
   "source": [
    "## Solution.\n",
    "\n",
    "According to [documentation](https://docs.python.org/3/library/re.html) **re.split()** Split string by the occurrences of pattern.\n",
    "\n",
    "This is the pattern to solve the challenge:\n",
    "\n",
    "```python\n",
    "pattern = r\"[\\.,]\"\n",
    "```\n",
    "\n",
    "Explanation:\n",
    "- $\"[\\.,]\"$: Match point and comma to split data."
   ]
  },
  {
   "cell_type": "code",
   "execution_count": 1,
   "id": "92363926",
   "metadata": {},
   "outputs": [
    {
     "name": "stdout",
     "output_type": "stream",
     "text": [
      "100,000,000.000\n",
      "100\n",
      "000\n",
      "000\n",
      "000\n"
     ]
    }
   ],
   "source": [
    "# Enter your code here. Read input from STDIN. Print output to STDOUT\n",
    "import re\n",
    "\n",
    "regex_pattern = r\"[\\.,]\"\n",
    "\n",
    "print(\"\\n\".join(re.split(regex_pattern, input())))"
   ]
  },
  {
   "cell_type": "code",
   "execution_count": null,
   "id": "277fee63",
   "metadata": {},
   "outputs": [],
   "source": []
  }
 ],
 "metadata": {
  "kernelspec": {
   "display_name": "Python 3 (ipykernel)",
   "language": "python",
   "name": "python3"
  },
  "language_info": {
   "codemirror_mode": {
    "name": "ipython",
    "version": 3
   },
   "file_extension": ".py",
   "mimetype": "text/x-python",
   "name": "python",
   "nbconvert_exporter": "python",
   "pygments_lexer": "ipython3",
   "version": "3.9.7"
  }
 },
 "nbformat": 4,
 "nbformat_minor": 5
}
