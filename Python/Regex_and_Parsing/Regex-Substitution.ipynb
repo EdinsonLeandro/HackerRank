{
 "cells": [
  {
   "cell_type": "markdown",
   "id": "57cd9287",
   "metadata": {},
   "source": [
    "# Regex-Substitution\n",
    "\n",
    "Follow this [link](https://www.hackerrank.com/challenges/re-sub-regex-substitution/problem) to read the challenge in HackerRank web.\n",
    "\n",
    "---"
   ]
  },
  {
   "cell_type": "markdown",
   "id": "47983530",
   "metadata": {},
   "source": [
    "<b>Task</b>\n",
    "\n",
    "You are given a text of $N$ lines. The text contains && and || symbols.\n",
    "\n",
    "Your task is to modify those symbols to the following:\n",
    "\n",
    "<code>     && → and\n",
    "     || → or</code>\n",
    "\n",
    "Both <code>&&</code> and <code>||</code> should have a space \" \" on both sides.\n",
    "\n",
    "<b>Input Format</b>\n",
    "\n",
    "The first line contains the integer, $N$.\n",
    "\n",
    "The next $N$ lines each contain a line of the text.\n",
    "\n",
    "<b>Constraints</b>\n",
    "\n",
    "$0 < N < 100$\n",
    "\n",
    "Neither <code>&&</code> or <code>||</code> occur in the start or end of each line.\n",
    "\n",
    "<b>Output Format</b>\n",
    "\n",
    "Output the modified text.\n",
    "\n",
    "<b>Sample Input</b>\n",
    "\n",
    "<code>     11\n",
    "     a = 1;\n",
    "     b = input();\n",
    "     if a + b > 0 && a - b < 0:\n",
    "         start()\n",
    "     elif a*b > 10 || a/b < 1:\n",
    "         stop()\n",
    "     print set(list(a)) | set(list(b)) \n",
    "     #Note do not change &&& or ||| or & or |\n",
    "     #Only change those '&&' which have space on both sides.\n",
    "     #Only change those '|| which have space on both sides.</code>\n",
    "\n",
    "<b>Sample Output</b>\n",
    "\n",
    "<code>     a = 1;\n",
    "     b = input();\n",
    "     if a + b > 0 and a - b < 0:\n",
    "         start()\n",
    "     elif a*b > 10 or a/b < 1:\n",
    "         stop()\n",
    "     print set(list(a)) | set(list(b)) \n",
    "     #Note do not change &&& or ||| or & or |\n",
    "     #Only change those '&&' which have space on both sides.\n",
    "     #Only change those '|| which have space on both sides.</code>\n",
    "\n",
    "---"
   ]
  },
  {
   "cell_type": "markdown",
   "id": "d73434ee",
   "metadata": {},
   "source": [
    "## Solution.\n",
    "\n",
    "According to [documentation](https://docs.python.org/3/library/re.html) **re.sub(pattern, repl, string, count=0, flags=0)** return the string obtained by replacing the leftmost non-overlapping occurrences of <code>pattern</code> in string by the replacement <code>repl</code>. If the pattern isn’t found, <code>string</code> is returned unchanged.\n",
    "\n",
    "This is the pattern to solve the challenge:\n",
    "\n",
    "```python\n",
    "pattern = r\"(?<=\\s)(\\&{2})(?=\\s)|(?<=\\s)(\\|{2})(?=\\s)\"\n",
    "```\n",
    "\n",
    "Explanation:\n",
    "- The symbol $\"?<=\"$ is a [positive lookbehind assertion](https://www.regular-expressions.info/lookaround.html). It matches if the current position in the string (symbols <code>&&</code> or <code>||</code>) is preceded by a match for the other pattern (<code>\\s</code> mean blank space). \n",
    "- The symbol $\\{2\\}$ specify only two repetitions of the symbol.\n",
    "- The symbol $\"?=\"$ is a [lookahead assertion](https://www.regular-expressions.info/lookaround.html). In this case, match the symbols <code>&&</code> or <code>||</code> only if they are followed by space (<code>\\s</code>)."
   ]
  },
  {
   "cell_type": "code",
   "execution_count": 2,
   "id": "92363926",
   "metadata": {},
   "outputs": [
    {
     "name": "stdout",
     "output_type": "stream",
     "text": [
      "11\n",
      "a = 1;\n",
      "a = 1;\n",
      "b = input();\n",
      "b = input();\n",
      "\n",
      "\n",
      "if a + b > 0 && a - b < 0:\n",
      "if a + b > 0 and a - b < 0:\n",
      "    start()\n",
      "    start()\n",
      "elif a*b > 10 || a/b < 1:\n",
      "elif a*b > 10 or a/b < 1:\n",
      "    stop()\n",
      "    stop()\n",
      "print set(list(a)) | set(list(b))\n",
      "print set(list(a)) | set(list(b))\n",
      "#Note do not change &&& or ||| or & or |\n",
      "#Note do not change &&& or ||| or & or |\n",
      "#Only change those '&&' which have space on both sides.\n",
      "#Only change those '&&' which have space on both sides.\n",
      "#Only change those '|| which have space on both sides.\n",
      "#Only change those '|| which have space on both sides.\n"
     ]
    }
   ],
   "source": [
    "# Enter your code here. Read input from STDIN. Print output to STDOUT\n",
    "import re\n",
    "\n",
    "# Number of lines\n",
    "n_lines = int(input())\n",
    "\n",
    "# Using positive lookbehind\n",
    "pattern = r\"(?<=\\s)(\\&{2})(?=\\s)|(?<=\\s)(\\|{2})(?=\\s)\"\n",
    "\n",
    "def replace_string(x):\n",
    "\n",
    "    if x.group(0)=='&&':\n",
    "        result = 'and'\n",
    "    \n",
    "    if x.group(0)=='||':\n",
    "        result = 'or'\n",
    "    \n",
    "    return result\n",
    "\n",
    "for item in range(n_lines):\n",
    "    string = input()\n",
    "    print(re.sub(pattern, replace_string, string))"
   ]
  },
  {
   "cell_type": "code",
   "execution_count": null,
   "id": "fd7af92a",
   "metadata": {},
   "outputs": [],
   "source": []
  }
 ],
 "metadata": {
  "kernelspec": {
   "display_name": "Python 3 (ipykernel)",
   "language": "python",
   "name": "python3"
  },
  "language_info": {
   "codemirror_mode": {
    "name": "ipython",
    "version": 3
   },
   "file_extension": ".py",
   "mimetype": "text/x-python",
   "name": "python",
   "nbconvert_exporter": "python",
   "pygments_lexer": "ipython3",
   "version": "3.9.7"
  }
 },
 "nbformat": 4,
 "nbformat_minor": 5
}
