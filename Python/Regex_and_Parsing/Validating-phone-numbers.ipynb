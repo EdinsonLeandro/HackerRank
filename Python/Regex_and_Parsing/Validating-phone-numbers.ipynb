{
 "cells": [
  {
   "cell_type": "markdown",
   "id": "57cd9287",
   "metadata": {},
   "source": [
    "# Validating phone numbers\n",
    "\n",
    "Follow this [link](https://www.hackerrank.com/challenges/validating-the-phone-number/problem) to read the challenge in HackerRank web.\n",
    "\n",
    "---"
   ]
  },
  {
   "cell_type": "markdown",
   "id": "47983530",
   "metadata": {},
   "source": [
    "Let's dive into the interesting topic of regular expressions! You are given some input, and you are required to check whether they are valid mobile numbers.\n",
    "\n",
    "A valid mobile number is a ten digit number starting with a $7$, $8$ or $9$.\n",
    "\n",
    "<b>Concept</b>\n",
    "\n",
    "A valid mobile number is a ten digit number starting with a $7$, $8$ or $9$.\n",
    "\n",
    "Regular expressions are a key concept in any programming language. A quick explanation with Python examples is [available here](https://www.thelearningpoint.net/computer-science/learning-python-programming-and-data-structures/learning-python-programming-and-data-structures--tutorial-13--regular-expression-matching). You could also go through the link below to read more about regular expressions in Python.\n",
    "\n",
    "https://developers.google.com/edu/python/regular-expressions\n",
    "\n",
    "<b>Input Format</b>\n",
    "\n",
    "The first line contains an integer $N$, the number of inputs.\n",
    "\n",
    "$N$ lines follow, each containing some string.\n",
    "\n",
    "<b>Constraints</b>\n",
    "\n",
    "$1 \\leq N \\leq 10$\n",
    "\n",
    "$2 \\leq len(Number) \\leq 15$\n",
    "\n",
    "<b>Output Format</b>\n",
    "\n",
    "For every string listed, print \"YES\" if it is a valid mobile number and \"NO\" if it is not on separate lines. Do not print the quotes.\n",
    "\n",
    "<b>Sample Input</b>\n",
    "\n",
    "<code>     2\n",
    "     9587456281\n",
    "     1252478965</code>\n",
    "\n",
    "<b>Sample Output</b>\n",
    "\n",
    "<code>     YES\n",
    "      NO</code>\n",
    "\n",
    "---"
   ]
  },
  {
   "cell_type": "markdown",
   "id": "d73434ee",
   "metadata": {},
   "source": [
    "## Solution.\n",
    "\n",
    "According to [documentation](https://docs.python.org/3/library/re.html) **re.match()** if zero or more characters at the beginning of string match the regular expression pattern, return a corresponding match object. Return None if the string does not match the pattern.\n",
    "\n",
    "This is the pattern to solve the challenge:\n",
    "\n",
    "```python\n",
    "pattern = r'^[789]{1}[0-9]{9}$'\n",
    "```\n",
    "\n",
    "Explanation:\n",
    "- **^** and **$**: Anchor characters. Tell us where in the line the regex should match.\n",
    "- **[789]{1}**: Makes sure that the string start with 7, 8 or 9. Only one repetition.\n",
    "- **[0-9]{9}**: A valid mobile number is a ten digit number. Because the first is 7, 8 or 9, the last &&9&& digits complete the mobile number."
   ]
  },
  {
   "cell_type": "code",
   "execution_count": 1,
   "id": "92363926",
   "metadata": {},
   "outputs": [
    {
     "name": "stdout",
     "output_type": "stream",
     "text": [
      "2\n",
      "9587456281\n",
      "YES\n",
      "1252478965\n",
      "NO\n"
     ]
    }
   ],
   "source": [
    "# Enter your code here. Read input from STDIN. Print output to STDOUT\n",
    "import re\n",
    "\n",
    "n_lines = int(input().strip())\n",
    "pattern= r'^[789]{1}[0-9]{9}$'\n",
    "\n",
    "for item in range(n_lines):\n",
    "    string = input().strip()\n",
    "    print('YES') if bool(re.match(pattern, string)) else print('NO')"
   ]
  },
  {
   "cell_type": "code",
   "execution_count": null,
   "id": "277fee63",
   "metadata": {},
   "outputs": [],
   "source": []
  }
 ],
 "metadata": {
  "kernelspec": {
   "display_name": "Python 3 (ipykernel)",
   "language": "python",
   "name": "python3"
  },
  "language_info": {
   "codemirror_mode": {
    "name": "ipython",
    "version": 3
   },
   "file_extension": ".py",
   "mimetype": "text/x-python",
   "name": "python",
   "nbconvert_exporter": "python",
   "pygments_lexer": "ipython3",
   "version": "3.9.7"
  }
 },
 "nbformat": 4,
 "nbformat_minor": 5
}
