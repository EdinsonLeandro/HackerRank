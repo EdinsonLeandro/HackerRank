{
 "cells": [
  {
   "cell_type": "markdown",
   "id": "57cd9287",
   "metadata": {},
   "source": [
    "# Re.start() & Re.end()\n",
    "\n",
    "Follow this [link](https://www.hackerrank.com/challenges/re-start-re-end/problem) to read the challenge in HackerRank web.\n",
    "\n",
    "---"
   ]
  },
  {
   "cell_type": "markdown",
   "id": "47983530",
   "metadata": {},
   "source": [
    "<b>Task</b>\n",
    "\n",
    "You are given a string $S$.\n",
    "\n",
    "Your task is to find the indices of the start and end of string $k$ in $S$.\n",
    "\n",
    "<b>Input Format</b>\n",
    "\n",
    "The first line contains the string $S$.\n",
    "\n",
    "The second line contains the string $k$.\n",
    "\n",
    "<b>Constraints</b>\n",
    "\n",
    "$0 < len(S) < 100$\n",
    "\n",
    "$0 < len(k) < len(S)$\n",
    "\n",
    "<b>Output Format</b>\n",
    "\n",
    "Print the tuple in this format: (start _index, end _index).\n",
    "\n",
    "If no match is found, print <code>(-1, -1)</code>.\n",
    "\n",
    "<b>Sample Input</b>\n",
    "\n",
    "<code>     aaadaa\n",
    "     aa</code>\n",
    "\n",
    "<b>Sample Output</b>\n",
    "\n",
    "<code>     (0, 1)  \n",
    "     (1, 2)\n",
    "     (4, 5)</code>\n",
    "\n",
    "---"
   ]
  },
  {
   "cell_type": "markdown",
   "id": "d73434ee",
   "metadata": {},
   "source": [
    "## Solution.\n",
    "\n",
    "According to [documentation](https://docs.python.org/3/library/re.html) **re.compile()** compile a regular expression pattern into a regular expression object, which can be used for matching using methods such as **match()**, **search()**, etc.\n",
    "\n",
    "Also, compiled regular expression objects support some methods and attributes, including **Pattern.search(string, pos)**. It scan through string looking for the first location where this regular expression produces a match. The optional second parameter **pos** gives an index in the string where the search is to start; it defaults to 0.:\n",
    "\n",
    "This second parameter is the key to the solution of the challenge, because it allow us to scan the \"string\" using the \"substring\" in each iteration of <code>while</code> loop."
   ]
  },
  {
   "cell_type": "code",
   "execution_count": 1,
   "id": "92363926",
   "metadata": {},
   "outputs": [
    {
     "name": "stdout",
     "output_type": "stream",
     "text": [
      "aaadaa\n",
      "aa\n",
      "(0, 1)\n",
      "(1, 2)\n",
      "(4, 5)\n"
     ]
    }
   ],
   "source": [
    "# Enter your code here. Read input from STDIN. Print output to STDOUT\n",
    "\n",
    "import re\n",
    "\n",
    "string = input().strip()\n",
    "substring = input().strip()\n",
    "\n",
    "# Compile a regular expression pattern.\n",
    "pattern = re.compile(substring)\n",
    "\n",
    "# Search using regex object\n",
    "result=pattern.search(string)\n",
    "\n",
    "if not result:\n",
    "    print((-1,-1))  \n",
    "\n",
    "while result:\n",
    "    print((result.start(),result.end()-1))\n",
    "    \n",
    "    # Search again using \"string\" for previous start position.\n",
    "    result=pattern.search(string, pos=result.start()+1)"
   ]
  },
  {
   "cell_type": "code",
   "execution_count": null,
   "id": "fd7af92a",
   "metadata": {},
   "outputs": [],
   "source": []
  }
 ],
 "metadata": {
  "kernelspec": {
   "display_name": "Python 3",
   "language": "python",
   "name": "python3"
  },
  "language_info": {
   "codemirror_mode": {
    "name": "ipython",
    "version": 3
   },
   "file_extension": ".py",
   "mimetype": "text/x-python",
   "name": "python",
   "nbconvert_exporter": "python",
   "pygments_lexer": "ipython3",
   "version": "3.6.13"
  }
 },
 "nbformat": 4,
 "nbformat_minor": 5
}
