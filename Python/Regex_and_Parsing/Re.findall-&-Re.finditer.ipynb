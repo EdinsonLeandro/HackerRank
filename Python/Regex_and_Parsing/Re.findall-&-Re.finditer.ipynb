{
 "cells": [
  {
   "cell_type": "markdown",
   "id": "57cd9287",
   "metadata": {},
   "source": [
    "# Re.findall() & Re.finditer()\n",
    "\n",
    "Follow this [link](https://www.hackerrank.com/challenges/re-findall-re-finditer/problem) to read the challenge in HackerRank web.\n",
    "\n",
    "---"
   ]
  },
  {
   "cell_type": "markdown",
   "id": "47983530",
   "metadata": {},
   "source": [
    "<b>Task</b>\n",
    "\n",
    "You are given a string $S$. It consists of alphanumeric characters, spaces and symbols(+,-).\n",
    "\n",
    "Your task is to find all the substrings of $S$ that contains $2$ or more vowels.\n",
    "\n",
    "Also, these substrings must lie in between $2$ consonants and should contain vowels only.\n",
    "\n",
    "**Note:**\n",
    "\n",
    "Vowels are defined as: <code>AEIOU</code> and <code>aeiou</code>.\n",
    "\n",
    "Consonants are defined as: <code>QWRTYPSDFGHJKLZXCVBNM</code> and <code>qwrtypsdfghjklzxcvbnm</code>.\n",
    "\n",
    "<b>Input Format</b>\n",
    "\n",
    "A single line of input containing string $S$.\n",
    "\n",
    "<b>Constraints</b>\n",
    "\n",
    "$0 < len(s) < 100$\n",
    "\n",
    "<b>Output Format</b>\n",
    "\n",
    "Print the matched substrings in their order of occurrence on separate lines.\n",
    "\n",
    "If no match is found, print <code>-1</code>.\n",
    "\n",
    "<b>Sample Input</b>\n",
    "\n",
    "<code>     rabcdeefgyYhFjkIoomnpOeorteeeeet</code>\n",
    "\n",
    "<b>Sample Output</b>\n",
    "\n",
    "<code>     ee\n",
    "     Ioo\n",
    "     Oeo\n",
    "     eeeee</code>\n",
    "\n",
    "<b>Explanation 0</b>\n",
    "\n",
    "**ee** is located between consonant $d$ and $f$.\n",
    "\n",
    "**Ioo** is located between consonant $k$ and $m$.\n",
    "\n",
    "**Oeo** is located between consonant $p$ and $r$.\n",
    "\n",
    "**eeeee** is located between consonant $t$ and $t$.\n",
    "\n",
    "---"
   ]
  },
  {
   "cell_type": "markdown",
   "id": "d73434ee",
   "metadata": {},
   "source": [
    "## Solution.\n",
    "\n",
    "According to [documentation](https://docs.python.org/3/library/re.html) **re.findall()** return all non-overlapping matches of pattern in string, as a list of strings or tuples. The string is scanned left-to-right, and matches are returned in the order found. Empty matches are included in the result.\n",
    "\n",
    "This is the pattern to solve the challenge:\n",
    "\n",
    "```python\n",
    "pattern = fr\"(?<=[{consonants}])(['{vowels}']{{2,}})(?=[{consonants}])\"\n",
    "```\n",
    "\n",
    "Where:\n",
    "\n",
    "```python\n",
    "consonants = 'QWRTYPSDFGHJKLZXCVBNMqwrtypsdfghjklzxcvbnm'\n",
    "vowels = 'AEIOUaeiou'\n",
    "```\n",
    "\n",
    "Explanation:\n",
    "- The symbol $\"?<=\"$ is a [positive lookbehind assertion](https://www.regular-expressions.info/lookaround.html). It matches if the current position in the string (vowels) is preceded by a match for the other pattern (consonants).\n",
    "- The symbol ${2,}$ specify a range of repetitions, two or more in this case.\n",
    "- The symbol $\"?=\"$ is a [lookahead assertion](https://www.regular-expressions.info/lookaround.html). In this case, match the group \"vowels\" only if they are followed by \"consonants\"."
   ]
  },
  {
   "cell_type": "code",
   "execution_count": 1,
   "id": "92363926",
   "metadata": {},
   "outputs": [
    {
     "name": "stdout",
     "output_type": "stream",
     "text": [
      "rabcdeefgyYhFjkIoomnpOeorteeeeet\n",
      "ee\n",
      "Ioo\n",
      "Oeo\n",
      "eeeee\n"
     ]
    }
   ],
   "source": [
    "# Enter your code here. Read input from STDIN. Print output to STDOUT\n",
    "\n",
    "import re\n",
    "\n",
    "string = input().strip()\n",
    "\n",
    "# Define vowels and consonants\n",
    "vowels = 'AEIOU'\n",
    "consonants = 'QWRTYPSDFGHJKLZXCVBNM'\n",
    "\n",
    "vowels += vowels.lower()\n",
    "consonants += consonants.lower()\n",
    "\n",
    "# Use Positive Lookahead to set pattern\n",
    "pattern = fr\"(?<=[{consonants}])(['{vowels}']{{2,}})(?=[{consonants}])\"\n",
    "\n",
    "# Find all values\n",
    "result = re.findall(pattern, string)\n",
    "\n",
    "print(*result, sep='\\n') if result else print(-1)"
   ]
  },
  {
   "cell_type": "code",
   "execution_count": null,
   "id": "fd7af92a",
   "metadata": {},
   "outputs": [],
   "source": []
  }
 ],
 "metadata": {
  "kernelspec": {
   "display_name": "Python 3",
   "language": "python",
   "name": "python3"
  },
  "language_info": {
   "codemirror_mode": {
    "name": "ipython",
    "version": 3
   },
   "file_extension": ".py",
   "mimetype": "text/x-python",
   "name": "python",
   "nbconvert_exporter": "python",
   "pygments_lexer": "ipython3",
   "version": "3.6.13"
  }
 },
 "nbformat": 4,
 "nbformat_minor": 5
}
