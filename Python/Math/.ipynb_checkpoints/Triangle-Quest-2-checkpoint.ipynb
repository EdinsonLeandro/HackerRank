{
 "cells": [
  {
   "cell_type": "markdown",
   "id": "c516519b",
   "metadata": {},
   "source": [
    "# Triangle Quest 2\n",
    "\n",
    "Follow this [link](https://www.hackerrank.com/challenges/triangle-quest-2/problem) to read the challenge in HackerRank web.\n",
    "\n",
    "---"
   ]
  },
  {
   "attachments": {},
   "cell_type": "markdown",
   "id": "bb8a3a2f",
   "metadata": {},
   "source": [
    "You are given a positive integer $N$.\n",
    "\n",
    "Your task is to print a palindromic triangle of size $N$.\n",
    "\n",
    "For example, a palindromic triangle of size $5$ is:\n",
    "\n",
    "<code>1\n",
    "121\n",
    "12321\n",
    "1234321\n",
    "123454321</code>\n",
    "\n",
    "You can't take more than two lines. The first line (a for-statement) is already written for you.\n",
    "\n",
    "You have to complete the code using exactly one print statement.\n",
    "\n",
    "**Note:**\n",
    "\n",
    "Using anything related to strings will give a score of $0$.\n",
    "\n",
    "Using more than one for-statement will give a score of $0$.\n",
    "\n",
    "<b>Input Format</b>\n",
    "\n",
    "A single line of input containing the integer $N$.\n",
    "\n",
    "<b>Constraints</b>\n",
    "\n",
    "$0 < N \\leq 10$\n",
    "\n",
    "<b>Output Format</b>\n",
    "\n",
    "Print the palindromic triangle of size $N$ as explained above.\n",
    "\n",
    "<b>Sample Input</b>\n",
    "\n",
    "<code>     5</code>\n",
    "\n",
    "<b>Sample Output</b>\n",
    "\n",
    "<code>1\n",
    "121\n",
    "12321\n",
    "1234321\n",
    "123454321</code>\n",
    "\n",
    "---"
   ]
  },
  {
   "cell_type": "markdown",
   "id": "033e16c4",
   "metadata": {},
   "source": [
    "## Solution.\n",
    "\n",
    "The challenge here is write the solution in one single line. You can realized that:\n",
    "- $1^2 = 1$\n",
    "- $11^2 = 121$\n",
    "- $111^2 = 12321$\n",
    "- $1111^2 = 1234321$\n",
    "- $11111^2 = 123454321$\n",
    "\n",
    "And so on. Therefore, you have to get 1, 11, 111, ... in each iteration of the loop."
   ]
  },
  {
   "cell_type": "code",
   "execution_count": 1,
   "id": "94f87c3e",
   "metadata": {},
   "outputs": [
    {
     "name": "stdout",
     "output_type": "stream",
     "text": [
      "5\n",
      "1\n",
      "121\n",
      "12321\n",
      "1234321\n",
      "123454321\n"
     ]
    }
   ],
   "source": [
    "for i in range(1,int(input())+1): #More than 2 lines will result in 0 score. Do not leave a blank line also\n",
    "    print((((10**i) - 1)//9)**2) "
   ]
  },
  {
   "cell_type": "code",
   "execution_count": null,
   "id": "5af1d342",
   "metadata": {},
   "outputs": [],
   "source": []
  }
 ],
 "metadata": {
  "kernelspec": {
   "display_name": "Python 3 (ipykernel)",
   "language": "python",
   "name": "python3"
  },
  "language_info": {
   "codemirror_mode": {
    "name": "ipython",
    "version": 3
   },
   "file_extension": ".py",
   "mimetype": "text/x-python",
   "name": "python",
   "nbconvert_exporter": "python",
   "pygments_lexer": "ipython3",
   "version": "3.9.7"
  }
 },
 "nbformat": 4,
 "nbformat_minor": 5
}
