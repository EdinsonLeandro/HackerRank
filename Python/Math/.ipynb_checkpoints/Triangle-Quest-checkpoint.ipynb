{
 "cells": [
  {
   "cell_type": "markdown",
   "id": "c516519b",
   "metadata": {},
   "source": [
    "# Triangle Quest\n",
    "\n",
    "Follow this [link](https://www.hackerrank.com/challenges/python-quest-1/problem) to read the challenge in HackerRank web.\n",
    "\n",
    "---"
   ]
  },
  {
   "cell_type": "markdown",
   "id": "bb8a3a2f",
   "metadata": {},
   "source": [
    "You are given a positive integer $N$. Print a numerical triangle of height $N-1$ like the one below:\n",
    "\n",
    "<code>     1\n",
    "     22\n",
    "     333\n",
    "     4444\n",
    "     55555\n",
    "     ......</code>\n",
    "\n",
    "Can you do it using only **arithmetic operations, a single for loop and print statement?**\n",
    "\n",
    "Use no more than two lines. The first line (the for statement) is already written for you. You have to complete the print statement.\n",
    "\n",
    "Note: Using anything related to strings will give a score of $0$.\n",
    "\n",
    "<b>Input Format</b>\n",
    "\n",
    "A single line containing the integer $N$.\n",
    "\n",
    "<b>Constraints</b>\n",
    "\n",
    "$0 < N \\leq 9$\n",
    "\n",
    "<b>Output Format</b>\n",
    "\n",
    "Print $N-1$ lines as explained above.\n",
    "\n",
    "<b>Sample Input</b>\n",
    "\n",
    "<code>     5</code>\n",
    "\n",
    "<b>Sample Output</b>\n",
    "\n",
    "<code>     1\n",
    "     22\n",
    "     333\n",
    "     4444</code>\n",
    "\n",
    "---"
   ]
  },
  {
   "cell_type": "markdown",
   "id": "033e16c4",
   "metadata": {},
   "source": [
    "## Solution.\n",
    "\n",
    "The challenge here is write the solution in one single line. You can realized that:\n",
    "- $10 // 9 = 1$\n",
    "- $100//9 = 11$\n",
    "- $1000//9 = 111$\n",
    "- $10000//9 = 1111$\n",
    "- $100000//9 = 11111$\n",
    "\n",
    "And so on. Therefore, you have to get 1, 11, 111, ... in each iteration of the loop."
   ]
  },
  {
   "cell_type": "code",
   "execution_count": 1,
   "id": "94f87c3e",
   "metadata": {},
   "outputs": [
    {
     "name": "stdout",
     "output_type": "stream",
     "text": [
      "5\n",
      "1\n",
      "22\n",
      "333\n",
      "4444\n"
     ]
    }
   ],
   "source": [
    "for i in range(1,int(input())): #More than 2 lines will result in 0 score.\n",
    "    print((10**i)//9 * i)"
   ]
  },
  {
   "cell_type": "code",
   "execution_count": null,
   "id": "bb33ae18",
   "metadata": {},
   "outputs": [],
   "source": []
  }
 ],
 "metadata": {
  "kernelspec": {
   "display_name": "Python 3 (ipykernel)",
   "language": "python",
   "name": "python3"
  },
  "language_info": {
   "codemirror_mode": {
    "name": "ipython",
    "version": 3
   },
   "file_extension": ".py",
   "mimetype": "text/x-python",
   "name": "python",
   "nbconvert_exporter": "python",
   "pygments_lexer": "ipython3",
   "version": "3.9.7"
  }
 },
 "nbformat": 4,
 "nbformat_minor": 5
}
