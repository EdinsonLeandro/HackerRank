{
 "cells": [
  {
   "cell_type": "markdown",
   "id": "c76f325e",
   "metadata": {},
   "source": [
    "# Athlete Sort\n",
    "\n",
    "Follow this [link](https://www.hackerrank.com/challenges/python-sort-sort/problem) to read the challenge in HackerRank web.\n",
    "\n",
    "---"
   ]
  },
  {
   "attachments": {
    "image.png": {
     "image/png": "[encoded data removed]"
    }
   },
   "cell_type": "markdown",
   "id": "b381bf47",
   "metadata": {},
   "source": [
    "You are given a spreadsheet that contains a list of $N$ athletes and their details (such as age, height, weight and so on). You are required to sort the data based on the $K^{th}$ attribute and print the final resulting table. Follow the example given below for better understanding.\n",
    "\n",
    "![image.png](attachment:image.png)\n",
    "\n",
    "Note that $K$ is indexed from $0$ to &M-1&, where $M$ is the number of attributes.\n",
    "\n",
    "**Note:** If two attributes are the same for different rows, for example, if two atheletes are of the same age, print the row that appeared first in the input.\n",
    "\n",
    "<b>Input Format</b>\n",
    "\n",
    "The first line contains $N$ and $M$ separated by a space.\n",
    "\n",
    "The next $N$ lines each contain $M$ elements.\n",
    "\n",
    "The last line contains $K$.\n",
    "\n",
    "<b>Constraints</b>\n",
    "\n",
    "$1 \\leq N, M \\leq 1000$\n",
    "\n",
    "$0 \\leq K < 100$\n",
    "\n",
    "$ Each element \\leq 1000$\n",
    "\n",
    "<b>Output Format</b>\n",
    "\n",
    "Print the $N$ lines of the sorted table. Each line should contain the space separated elements. Check the sample below for clarity.\n",
    "\n",
    "<b>Sample Input 0</b>\n",
    "\n",
    "<code>     5 3\n",
    "     10 2 5\n",
    "     7 1 0\n",
    "     9 9 9\n",
    "     1 23 12\n",
    "     6 5 9\n",
    "     1</code>\n",
    "\n",
    "<b>Sample Output 0</b>\n",
    "\n",
    "<code>     7 1 0\n",
    "     10 2 5\n",
    "     6 5 9\n",
    "     9 9 9\n",
    "     1 23 12</code>\n",
    "\n",
    "<b>Explanation 0</b>\n",
    "\n",
    "The details are sorted based on the second attribute, since $K$ is zero-indexed.\n",
    "\n",
    "---"
   ]
  },
  {
   "cell_type": "markdown",
   "id": "d6613e5e",
   "metadata": {},
   "source": [
    "## Solution.\n",
    "\n",
    "The **sort()** method sorts the list ascending by default. You can use a function to specify the sorting criteria(s). In this case, the criteria is the number of attribute."
   ]
  },
  {
   "cell_type": "code",
   "execution_count": 1,
   "id": "43fe23ae",
   "metadata": {},
   "outputs": [
    {
     "name": "stdout",
     "output_type": "stream",
     "text": [
      "5 3\n",
      "10 2 5\n",
      "7 1 0\n",
      "9 9 9\n",
      "1 23 12\n",
      "6 5 9\n",
      "1\n",
      "7 1 0\n",
      "10 2 5\n",
      "6 5 9\n",
      "9 9 9\n",
      "1 23 12\n"
     ]
    }
   ],
   "source": [
    "def athletes_details(data, column):\n",
    "    # Sort data by the number of column. This will be inplace\n",
    "    data.sort(key=lambda x: x[column])\n",
    "    \n",
    "    # Print results\n",
    "    for item in range(len(data)):\n",
    "        print(*data[item])\n",
    "\n",
    "\n",
    "if __name__ == '__main__':\n",
    "    nm = input().split()\n",
    "    \n",
    "    # Number of athletes\n",
    "    n = int(nm[0])\n",
    "    \n",
    "    # Number of details\n",
    "    m = int(nm[1])\n",
    "\n",
    "    arr = []\n",
    "    \n",
    "    # Append data\n",
    "    for _ in range(n):\n",
    "        arr.append(list(map(int, input().rstrip().split())))\n",
    "    \n",
    "    # Indicates columns to sort.\n",
    "    k = int(input())\n",
    "        \n",
    "    athletes_details(arr, k)"
   ]
  },
  {
   "cell_type": "code",
   "execution_count": null,
   "id": "017cc325",
   "metadata": {},
   "outputs": [],
   "source": []
  }
 ],
 "metadata": {
  "kernelspec": {
   "display_name": "Python 3 (ipykernel)",
   "language": "python",
   "name": "python3"
  },
  "language_info": {
   "codemirror_mode": {
    "name": "ipython",
    "version": 3
   },
   "file_extension": ".py",
   "mimetype": "text/x-python",
   "name": "python",
   "nbconvert_exporter": "python",
   "pygments_lexer": "ipython3",
   "version": "3.9.7"
  }
 },
 "nbformat": 4,
 "nbformat_minor": 5
}
