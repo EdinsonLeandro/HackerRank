{
 "cells": [
  {
   "cell_type": "markdown",
   "id": "c76f325e",
   "metadata": {},
   "source": [
    "# Any or All\n",
    "\n",
    "Follow this [link](https://www.hackerrank.com/challenges/any-or-all/problem) to read the challenge in HackerRank web.\n",
    "\n",
    "---"
   ]
  },
  {
   "cell_type": "markdown",
   "id": "b381bf47",
   "metadata": {},
   "source": [
    "<b>Task</b>\n",
    "\n",
    "You are given a space separated list of integers. If all the integers are positive, then you need to check if any integer is a [palindromic integer](https://en.wikipedia.org/wiki/Palindromic_number).\n",
    "\n",
    "<b>Input Format</b>\n",
    "\n",
    "The first line contains an integer $N$. $N$ is the total number of integers in the list.\n",
    "\n",
    "The second line contains the space separated list of $N$ integers.\n",
    "\n",
    "<b>Constraints</b>\n",
    "\n",
    "$0 < N < 100$\n",
    "\n",
    "<b>Output Format</b>\n",
    "\n",
    "Print <code>True</code> if all the conditions of the problem statement are satisfied. Otherwise, print <code>False</code>.\n",
    "\n",
    "<b>Sample Input</b>\n",
    "\n",
    "<code>     5\n",
    "     12 9 61 5 14</code>\n",
    "\n",
    "<b>Sample Output</b>\n",
    "\n",
    "<code>     True</code>\n",
    "\n",
    "<b>Explanation</b>\n",
    "\n",
    "**Condition 1:** All the integers in the list are positive.\n",
    "\n",
    "**Condition 2:** 5 is a palindromic integer.\n",
    "\n",
    "Hence, the output is True.\n",
    "\n",
    "Can you solve this challenge in 3 lines of code or less?\n",
    "\n",
    "There is no penalty for solutions that are correct but have more than 3 lines.\n",
    "\n",
    "---"
   ]
  },
  {
   "cell_type": "markdown",
   "id": "d6613e5e",
   "metadata": {},
   "source": [
    "## Solution.\n",
    "\n",
    "A palindromic number is a number (such as 16461) that remains the same when its digits are reversed. All numbers in base 10 (and indeed in any base) with one digit are palindromic, so there are ten decimal palindromic numbers with one digit:\n",
    "\n",
    "${0, 1, 2, 3, 4, 5, 6, 7, 8, 9}$\n",
    "\n",
    "The challenge is to solve in 3 lines of code or less. Here, the solution is in one single line.\n",
    "\n",
    "This part of the code check if all data are positive:\n",
    "\n",
    "```python\n",
    "all(list(map(lambda x: x>0, values)))\n",
    "```\n",
    "\n",
    "Also, this part of the code print \"True\" if any of the elements in data remains the same when digits are reversed:\n",
    "\n",
    "```python\n",
    "print(any(list(map(lambda x: str(x) == str(x)[::-1], values))))\n",
    "```"
   ]
  },
  {
   "cell_type": "code",
   "execution_count": 1,
   "id": "43fe23ae",
   "metadata": {},
   "outputs": [
    {
     "name": "stdout",
     "output_type": "stream",
     "text": [
      "5\n",
      "12 9 61 5 14\n",
      "True\n"
     ]
    }
   ],
   "source": [
    "# Enter your code here. Read input from STDIN. Print output to STDOUT\n",
    "\n",
    "if __name__ == '__main__':\n",
    "    # Total number of integers in the list\n",
    "    n = int(input().strip())\n",
    "    \n",
    "    # Separated list of \"n\" integers\n",
    "    values = list(map(int, input().split(' ')))\n",
    "    \n",
    "    # Check if all values are positives. Solve the challenge in one single line.\n",
    "    print(any(list(map(lambda x: str(x) == str(x)[::-1], values)))) if all(list(map(lambda x: x>0, values))) else print('False')"
   ]
  },
  {
   "cell_type": "code",
   "execution_count": null,
   "id": "ca886d36",
   "metadata": {},
   "outputs": [],
   "source": []
  }
 ],
 "metadata": {
  "kernelspec": {
   "display_name": "Python 3 (ipykernel)",
   "language": "python",
   "name": "python3"
  },
  "language_info": {
   "codemirror_mode": {
    "name": "ipython",
    "version": 3
   },
   "file_extension": ".py",
   "mimetype": "text/x-python",
   "name": "python",
   "nbconvert_exporter": "python",
   "pygments_lexer": "ipython3",
   "version": "3.9.7"
  }
 },
 "nbformat": 4,
 "nbformat_minor": 5
}
