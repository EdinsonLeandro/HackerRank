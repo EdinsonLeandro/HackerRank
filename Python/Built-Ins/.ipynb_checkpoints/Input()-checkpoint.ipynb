{
 "cells": [
  {
   "cell_type": "markdown",
   "id": "c76f325e",
   "metadata": {},
   "source": [
    "# Input()\n",
    "\n",
    "Follow this [link](https://www.hackerrank.com/challenges/input/problem) to read the challenge in HackerRank web.\n",
    "\n",
    "---"
   ]
  },
  {
   "cell_type": "markdown",
   "id": "b381bf47",
   "metadata": {},
   "source": [
    "<b>Task</b>\n",
    "\n",
    "You are given a polynomial $P$ of a single indeterminate (or variable), $x$.\n",
    "\n",
    "You are also given the values of $x$ and $k$. Your task is to verify if $P(x) = k$.\n",
    "\n",
    "<b>Constraints</b>\n",
    "\n",
    "All coefficients of polynomial $P$ are integers.\n",
    "\n",
    "$x$ and $y$ are also integers.\n",
    "\n",
    "<b>Input Format</b>\n",
    "\n",
    "The first line contains the space separated values of $x$ and $k$.\n",
    "\n",
    "The second line contains the polynomial $P$.\n",
    "\n",
    "<b>Output Format</b>\n",
    "\n",
    "Print <code>True</code> if $P(x)=k$. Otherwise, print <code>False</code>.\n",
    "\n",
    "<b>Sample Input</b>\n",
    "\n",
    "<code>     1 4\n",
    "     x** 3 + x**2 + x + 1</code>\n",
    "\n",
    "<b>Sample Output</b>\n",
    "\n",
    "<code>     True</code>\n",
    "\n",
    "<b>Explanation</b>\n",
    "\n",
    "$P(1) = 1^3 + 1^2 + 1 + 1 = 4 = k$\n",
    "\n",
    "Hence, the output is True.\n",
    "\n",
    "---"
   ]
  },
  {
   "cell_type": "markdown",
   "id": "d6613e5e",
   "metadata": {},
   "source": [
    "## Solution.\n",
    "\n",
    "Use **eval()** built-in function."
   ]
  },
  {
   "cell_type": "code",
   "execution_count": 1,
   "id": "43fe23ae",
   "metadata": {},
   "outputs": [
    {
     "name": "stdout",
     "output_type": "stream",
     "text": [
      "1 4\n",
      "x**3 + x**2 + x + 1\n",
      "True\n"
     ]
    }
   ],
   "source": [
    "if __name__ == '__main__':\n",
    "    # Get x and k values from user\n",
    "    x, k= list(map(int, input().split(' ')))\n",
    "    equation = input()\n",
    "    \n",
    "    print(eval(equation) == k)"
   ]
  },
  {
   "cell_type": "code",
   "execution_count": null,
   "id": "e0bac31c",
   "metadata": {},
   "outputs": [],
   "source": []
  }
 ],
 "metadata": {
  "kernelspec": {
   "display_name": "Python 3 (ipykernel)",
   "language": "python",
   "name": "python3"
  },
  "language_info": {
   "codemirror_mode": {
    "name": "ipython",
    "version": 3
   },
   "file_extension": ".py",
   "mimetype": "text/x-python",
   "name": "python",
   "nbconvert_exporter": "python",
   "pygments_lexer": "ipython3",
   "version": "3.9.7"
  }
 },
 "nbformat": 4,
 "nbformat_minor": 5
}
