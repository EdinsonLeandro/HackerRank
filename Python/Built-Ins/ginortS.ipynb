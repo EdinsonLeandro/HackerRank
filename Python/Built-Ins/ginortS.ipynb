{
 "cells": [
  {
   "cell_type": "markdown",
   "id": "c76f325e",
   "metadata": {},
   "source": [
    "# ginortS\n",
    "\n",
    "Follow this [link](https://www.hackerrank.com/challenges/ginorts/problem) to read the challenge in HackerRank web.\n",
    "\n",
    "---"
   ]
  },
  {
   "cell_type": "markdown",
   "id": "b381bf47",
   "metadata": {},
   "source": [
    "You are given a string $S$.\n",
    "\n",
    "$S$ contains alphanumeric characters only.\n",
    "\n",
    "Your task is to sort the string $S$ in the following manner:\n",
    "\n",
    "- All sorted lowercase letters are ahead of uppercase letters.\n",
    "- All sorted uppercase letters are ahead of digits.\n",
    "- All sorted odd digits are ahead of sorted even digits.\n",
    "\n",
    "<b>Input Format</b>\n",
    "\n",
    "A single line of input contains the string $S$.\n",
    "\n",
    "<b>Constraints</b>\n",
    "\n",
    "$0 < len(S) < 1000$\n",
    "\n",
    "<b>Output Format</b>\n",
    "\n",
    "Output the sorted string $S$.\n",
    "\n",
    "<b>Sample Input</b>\n",
    "\n",
    "<code>     Sorting1234</code>\n",
    "\n",
    "<b>Sample Output</b>\n",
    "\n",
    "<code>     ginortS1324</code>\n",
    "\n",
    "---"
   ]
  },
  {
   "cell_type": "markdown",
   "id": "d6613e5e",
   "metadata": {},
   "source": [
    "## Solution.\n",
    "\n",
    "I have separated the letters from the digits. I also separated the lowercase letters from the uppercase letters and the odd digits from the even digits. The sorting was done separately and the result was merged."
   ]
  },
  {
   "cell_type": "code",
   "execution_count": 1,
   "id": "43fe23ae",
   "metadata": {},
   "outputs": [
    {
     "name": "stdout",
     "output_type": "stream",
     "text": [
      "Sorting1234\n",
      "ginortS1324\n"
     ]
    }
   ],
   "source": [
    "# Enter your code here. Read input from STDIN. Print output to STDOUT\n",
    "\n",
    "def sort_function(string):\n",
    "    # Save odd and even digits\n",
    "    digits = [[] , []]\n",
    "    \n",
    "    # Save lowercase and uppercase letters\n",
    "    letters = [[] , []]\n",
    "    \n",
    "    for item in string:\n",
    "        if item.isdigit():\n",
    "            digits[1].append(item) if int(item)%2 == 0 else digits[0].append(item)\n",
    "        else:\n",
    "            letters[1].append(item) if item.isupper() else letters[0].append(item)\n",
    "    \n",
    "    # Sort values\n",
    "    digits = list(map(lambda x: sorted(x), digits))\n",
    "    letters = list(map(lambda x: sorted(x), letters))\n",
    "    \n",
    "    # Extend first element of the list with the second element. Inplace\n",
    "    digits[0].extend(digits[1])\n",
    "    letters[0].extend(letters[1])\n",
    "    \n",
    "    # Join and sum strings.\n",
    "    print(''.join(letters[0]) + ''.join(digits[0]) )\n",
    "\n",
    "    \n",
    "if __name__ == '__main__':\n",
    "    word = input().strip()\n",
    "    \n",
    "    sort_function(word)\n"
   ]
  },
  {
   "cell_type": "code",
   "execution_count": null,
   "id": "ca886d36",
   "metadata": {},
   "outputs": [],
   "source": []
  }
 ],
 "metadata": {
  "kernelspec": {
   "display_name": "Python 3 (ipykernel)",
   "language": "python",
   "name": "python3"
  },
  "language_info": {
   "codemirror_mode": {
    "name": "ipython",
    "version": 3
   },
   "file_extension": ".py",
   "mimetype": "text/x-python",
   "name": "python",
   "nbconvert_exporter": "python",
   "pygments_lexer": "ipython3",
   "version": "3.9.7"
  }
 },
 "nbformat": 4,
 "nbformat_minor": 5
}
