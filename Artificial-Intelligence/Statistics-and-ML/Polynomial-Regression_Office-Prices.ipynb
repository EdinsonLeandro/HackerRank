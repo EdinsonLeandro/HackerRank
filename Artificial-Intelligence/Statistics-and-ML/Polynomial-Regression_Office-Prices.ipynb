{
 "cells": [
  {
   "cell_type": "markdown",
   "metadata": {},
   "source": [
    "# Polynomial Regression: Office Prices\n",
    "\n",
    "Follow this [link](https://www.hackerrank.com/challenges/predicting-office-space-price/problem) to read the challenge on HackerRank's website.\n",
    "\n",
    "---"
   ]
  },
  {
   "cell_type": "markdown",
   "metadata": {},
   "source": [
    "## Problem\n",
    "Charlie wants to purchase office-space. He does a detailed survey of the offices and corporate complexes in the area, and tries to quantify a lot of factors, such as the distance of the offices from residential and other commercial areas, schools and workplaces; the reputation of the construction companies and builders involved in constructing the apartments; the distance of the offices from highways, freeways and important roads; the facilities around the office space and so on.\n",
    "\n",
    "Each of these factors are quantified, normalized and mapped to values on a scale of 0 to 1. Charlie then makes a table. Each row in the table corresponds to Charlie's observations for a particular house. If Charlie has observed and noted F features, the row contains F values separated by a single space, followed by the office-space price in dollars/square-foot. If Charlie makes observations for H houses, his observation table has (F+1) columns and H rows, and a total of (F+1) * H entries.\n",
    "\n",
    "Charlie does several such surveys and provides you with the tabulated data. At the end of these tables are some rows which have just F columns (the price per square foot is missing). Your task is to predict these prices. F can be any integer number between 1 and 5, both inclusive.\n",
    "\n",
    "There is one important observation which Charlie has made.\n",
    "\n",
    "- The prices per square foot, are (approximately) a polynomial function of the features in the observation table. This polynomial always has an order less than 4\n",
    "\n",
    "\n",
    "<b>Input Format</b>\n",
    "\n",
    "The first line contains two space separated integers, F and N. Over here, F is the number of observed features. N is the number of rows for which features as well as price per square-foot have been noted.\n",
    "This is followed by a table having F+1 columns and N rows with each row in a new line and each column separated by a single space. The last column is the price per square foot.\n",
    "\n",
    "The table is immediately followed by integer T followed by T rows containing F columns.\n",
    "\n",
    "\n",
    "<b>Constraints</b>\n",
    "- $1 \\leq F \\leq 5$\n",
    "- $5 \\leq N \\leq 100$\n",
    "- $1 \\leq T \\leq 100$\n",
    "- $0 \\leq Price Per Square Foot \\leq 10^6$\n",
    "- $0 \\leq Factor Values \\leq 1$\n",
    "\n",
    "\n",
    "<b>Output Format</b>\n",
    "\n",
    "T lines. Each line 'i' contains the predicted price for the 'i'th test case.\n",
    "\n",
    "\n",
    "<b>Sample Input</b>\n",
    "\n",
    "<code>2 100<br>0.44 0.68 511.14<br>0.99 0.23 717.1<br>0.84 0.29 607.91<br>0.28 0.45 270.4<br>0.07 0.83 289.88<br>0.66 0.8 830.85<br>0.73 0.92 1038.09<br>0.57 0.43 455.19<br>0.43 0.89 640.17<br>0.27 0.95 511.06<br>0.43 0.06 177.03<br>0.87 0.91 1242.52<br>0.78 0.69 891.37<br>0.9 0.94 1339.72<br>0.41 0.06 169.88<br>0.52 0.17 276.05<br>0.47 0.66 517.43<br>0.65 0.43 522.25<br>0.85 0.64 932.21<br>0.93 0.44 851.25<br>0.41 0.93 640.11<br>0.36 0.43 308.68<br>0.78 0.85 1046.05<br>0.69 0.07 332.4<br>0.04 0.52 171.85<br>0.17 0.15 109.55<br>0.68 0.13 361.97<br>0.84 0.6 872.21<br>0.38 0.4 303.7<br>0.12 0.65 256.38<br>0.62 0.17 341.2<br>0.79 0.97 1194.63<br>0.82 0.04 408.6<br>0.91 0.53 895.54<br>0.35 0.85 518.25<br>0.57 0.69 638.75<br>0.52 0.22 301.9<br>0.31 0.15 163.38<br>0.6 0.02 240.77<br>0.99 0.91 1449.05<br>0.48 0.76 609.0<br>0.3 0.19 174.59<br>0.58 0.62 593.45<br>0.65 0.17 355.96<br>0.6 0.69 671.46<br>0.95 0.76 1193.7<br>0.47 0.23 278.88<br>0.15 0.96 411.4<br>0.01 0.03 42.08<br>0.26 0.23 166.19<br>0.01 0.11 58.62<br>0.45 0.87 642.45<br>0.09 0.97 368.14<br>0.96 0.25 702.78<br>0.63 0.58 615.74<br>0.06 0.42 143.79<br>0.1 0.24 109.0<br>0.26 0.62 328.28<br>0.41 0.15 205.16<br>0.91 0.95 1360.49<br>0.83 0.64 905.83<br>0.44 0.64 487.33<br>0.2 0.4 202.76<br>0.43 0.12 202.01<br>0.21 0.22 148.87<br>0.88 0.4 745.3<br>0.31 0.87 503.04<br>0.99 0.99 1563.82<br>0.23 0.26 165.21<br>0.79 0.12 438.4<br>0.02 0.28 98.47<br>0.89 0.48 819.63<br>0.02 0.56 174.44<br>0.92 0.03 483.13<br>0.72 0.34 534.24<br>0.3 0.99 572.31<br>0.86 0.66 957.61<br>0.47 0.65 518.29<br>0.79 0.94 1143.49<br>0.82 0.96 1211.31<br>0.9 0.42 784.74<br>0.19 0.62 283.7<br>0.7 0.57 684.38<br>0.7 0.61 719.46<br>0.69 0.0 292.23<br>0.98 0.3 775.68<br>0.3 0.08 130.77<br>0.85 0.49 801.6<br>0.73 0.01 323.55<br>1.0 0.23 726.9<br>0.42 0.94 661.12<br>0.49 0.98 771.11<br>0.89 0.68 1016.14<br>0.22 0.46 237.69<br>0.34 0.5 325.89<br>0.99 0.13 636.22<br>0.28 0.46 272.12<br>0.87 0.36 696.65<br>0.23 0.87 434.53<br>0.77 0.36 593.86<br>4<br>0.05 0.54<br>0.91 0.91<br>0.31 0.76<br>0.51 0.31</code>\n",
    "\n",
    "\n",
    "<b>Sample Output</b>\n",
    "\n",
    "<code>180.38<br>1312.07<br>440.13<br>343.72</code>\n",
    "\n",
    "\n",
    "<b>Explanation</b>\n",
    "\n",
    "There are two features which have been noted by Charlie. There are 100 data points, for which he has taken note of the features, and the price per square foot (in the last column).\n",
    "\n",
    "At the end, are four rows where he knows the two features, you output the predicted price/square foot of the office space for every testcase.\n",
    "\n",
    "\n",
    "<b>Recommended Technique</b>\n",
    "\n",
    "Use a regression based technique. At this point, you are not expected to account for bias and variance trade-offs.\n",
    "\n",
    "\n",
    "<b>Scoring</b>\n",
    "\n",
    "For each test in a test case file we will compute the following:\n",
    "\n",
    "<code>d = Normalized Distance from expected answer<br>   = abs(Computed-Expected)/Expected</code>\n",
    "  \n",
    "  \n",
    "Since there can be multiple ways to approach this problem, which account for bias, variance, various subjective factors and \"noise\", we will take a realistic approach to scoring, and permit upto +/- 10% swing of our expected answer.\n",
    "\n",
    "<code>d_adjusted = max(d - 0.1, 0)<br>Score for each test = max(1-d_adjusted,0)<br>Score for the test case file == (Average of the scores for the tests it contains) * M</code>\n",
    "\n",
    "Where M is the Max possible score for the test case.\n",
    "\n",
    "Suppose we have a test case file with just one test. Suppose our expected answer is 10.\n",
    "\n",
    "And your answer is: 9.5\n",
    "\n",
    "d = (10 - 9.5) / 10 = 0.05\n",
    "\n",
    "d_adjusted = max(0.05 - 0.1,0) = 0\n",
    "\n",
    "Score = max(1-d_adjusted, 0) = max(1,0) = 1\n",
    "\n",
    "-----"
   ]
  },
  {
   "cell_type": "markdown",
   "metadata": {},
   "source": [
    "## Solution\n",
    "\n",
    "<b>Polynomial regression</b> is a special case of linear regression, by the fact that we create some polynomial features before creating a linear regression. This approach is need it here because the prices per square foot are a polynomial function of the features with an order greater than or equal to 1 and less than 4.\n",
    "\n",
    "Also, polynomial features generate a new feature matrix consisting of all polynomial combinations of the features with degree less than or equal to the specified degree.\n",
    "\n",
    "In order to solve this problem, from scikit-learn package I used:\n",
    "- PolynomialFeatures: To generate a feature matrix of all polynomial combinations of the features with degree less than or equal to 3.\n",
    "- Linear Regression: In order to perform this model.\n",
    "- make_pipeline: To return a pipeline taking Polynomial Features and Linear Regression as input.\n",
    "\n",
    "Also, I created a \"data\" folder and inside it two files: \"OfficePrices_TrainingData.txt\" and \"OfficePrices_TestData.txt\" in order to test the algorithm. However, into HackerRank website, the training and test data are introduced with \"input()\" method."
   ]
  },
  {
   "cell_type": "code",
   "execution_count": 1,
   "metadata": {},
   "outputs": [
    {
     "name": "stdin",
     "output_type": "stream",
     "text": [
      " 2 100\n",
      " 4\n"
     ]
    },
    {
     "name": "stdout",
     "output_type": "stream",
     "text": [
      "180.37682442542393\n",
      "1312.0650596555415\n",
      "440.129253297913\n",
      "343.71538007584223\n"
     ]
    }
   ],
   "source": [
    "## Import packages\n",
    "import numpy as np\n",
    "from sklearn.preprocessing import PolynomialFeatures\n",
    "from sklearn.pipeline import make_pipeline\n",
    "from sklearn.linear_model import LinearRegression\n",
    "\n",
    "# Input data.\n",
    "F, N = map(int, input().split())\n",
    "\n",
    "# Read training data from input\n",
    "#train_data = np.array([input().split() for item in range(N)], float)\n",
    "\n",
    "# Read training data from txt, just for practical purposes\n",
    "train_data = np.loadtxt('data/OfficePrices_TrainingData.txt')\n",
    "\n",
    "# Number of test cases.\n",
    "T = int(input().strip())\n",
    "\n",
    "# Read test data.\n",
    "#test_data = np.array([input().split() for item in range(T)], float)\n",
    "\n",
    "# Read test data from txt, just for practical purposes\n",
    "test_data = np.loadtxt('data/OfficePrices_TestData.txt')\n",
    "\n",
    "# Make pipeline\n",
    "polynomial_pipeline = make_pipeline(PolynomialFeatures(3), LinearRegression())\n",
    "\n",
    "# Train the model. The last column is the price per Square Foot (the target). The other columns are the features.\n",
    "# polynomial_pipeline.fit(X, Y)\n",
    "polynomial_pipeline.fit(train_data[:, :-1], train_data[:,-1])\n",
    "\n",
    "# Prediction over test data\n",
    "prediction = polynomial_pipeline.predict(test_data)\n",
    "\n",
    "# Print prediction\n",
    "print(*prediction, sep='\\n')"
   ]
  },
  {
   "cell_type": "code",
   "execution_count": null,
   "metadata": {},
   "outputs": [],
   "source": []
  }
 ],
 "metadata": {
  "kernelspec": {
   "display_name": "Python 3",
   "language": "python",
   "name": "python3"
  },
  "language_info": {
   "codemirror_mode": {
    "name": "ipython",
    "version": 3
   },
   "file_extension": ".py",
   "mimetype": "text/x-python",
   "name": "python",
   "nbconvert_exporter": "python",
   "pygments_lexer": "ipython3",
   "version": "3.8.5"
  }
 },
 "nbformat": 4,
 "nbformat_minor": 4
}
