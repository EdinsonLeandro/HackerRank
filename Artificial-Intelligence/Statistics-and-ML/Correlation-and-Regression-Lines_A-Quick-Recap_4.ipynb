{
 "cells": [
  {
   "cell_type": "markdown",
   "metadata": {},
   "source": [
    "# Correlation and Regression Lines - A Quick Recap #4\n",
    "\n",
    "Follow this [link](https://www.hackerrank.com/challenges/correlation-and-regression-lines-4/problem) to read the challenge on HackerRank's website.\n",
    "\n",
    "---"
   ]
  },
  {
   "cell_type": "markdown",
   "metadata": {},
   "source": [
    "## Problem.\n",
    "\n",
    "The two regression lines of a bivariate distribution are:\n",
    "\n",
    "$4x - 5y + 33 = 0$ (line of y on x)\n",
    "\n",
    "$20x - 9y - 107 = 0$ (line of x on y).\n",
    "\n",
    "Estimate the value of $x$ when $y = 7$. Compute the correct answer to one decimal place.\n",
    "\n",
    "<b>Output Format</b>\n",
    "\n",
    "In the text box, enter the floating point/decimal value required. Do not lead any leading or trailing spaces. Your answer may look like: 7.2\n",
    "\n",
    "This is <b>NOT</b> the actual answer - just the format in which you should provide your answer.\n",
    "\n",
    "---"
   ]
  },
  {
   "cell_type": "markdown",
   "metadata": {},
   "source": [
    "## Solution.\n",
    "Because we have to find the value of $x$ when $y$ is known, the value of $y$ is the independent variable and $x$ is depenpent variable. This correspond with the second equation, line of $x$ on $y$.\n",
    "\n",
    "So, in the 2nd equation, we use $y=7$ in order to get $x$."
   ]
  },
  {
   "cell_type": "code",
   "execution_count": 1,
   "metadata": {},
   "outputs": [
    {
     "name": "stdout",
     "output_type": "stream",
     "text": [
      "8.5\n"
     ]
    }
   ],
   "source": [
    "y = 7\n",
    "\n",
    "x = (107 + 9*y)/20\n",
    "\n",
    "print(x)"
   ]
  },
  {
   "cell_type": "code",
   "execution_count": null,
   "metadata": {},
   "outputs": [],
   "source": []
  }
 ],
 "metadata": {
  "kernelspec": {
   "display_name": "Python 3",
   "language": "python",
   "name": "python3"
  },
  "language_info": {
   "codemirror_mode": {
    "name": "ipython",
    "version": 3
   },
   "file_extension": ".py",
   "mimetype": "text/x-python",
   "name": "python",
   "nbconvert_exporter": "python",
   "pygments_lexer": "ipython3",
   "version": "3.8.5"
  }
 },
 "nbformat": 4,
 "nbformat_minor": 4
}
