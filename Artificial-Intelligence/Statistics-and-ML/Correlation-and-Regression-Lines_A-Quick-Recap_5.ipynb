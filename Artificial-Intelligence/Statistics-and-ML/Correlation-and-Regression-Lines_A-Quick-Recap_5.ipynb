{
 "cells": [
  {
   "cell_type": "markdown",
   "metadata": {},
   "source": [
    "# Correlation and Regression Lines - A Quick Recap #5\n",
    "\n",
    "Follow this [link](https://www.hackerrank.com/challenges/correlation-and-regression-lines-5/problem) to read the challenge on HackerRank's website.\n",
    "\n",
    "---"
   ]
  },
  {
   "cell_type": "markdown",
   "metadata": {},
   "source": [
    "## Problem.\n",
    "\n",
    "The two regression lines of a bivariate distribution are:\n",
    "\n",
    "$4x - 5y + 33 = 0$ (line of y on x)\n",
    "\n",
    "$20x - 9y - 107 = 0$ (line of x on y).\n",
    "\n",
    "Find the variance of $y$ when $\\sigma_x = 3$. Compute the correct answer to one decimal place.\n",
    "\n",
    "<b>Output Format</b>\n",
    "\n",
    "In the text box, enter the floating point or decimal value required. Do not lead any leading or trailing spaces. Your answer may look like: 7.2\n",
    "\n",
    "This is <b>NOT</b> the actual answer - just the format in which you should provide your answer.\n",
    "\n",
    "---"
   ]
  },
  {
   "cell_type": "markdown",
   "metadata": {},
   "source": [
    "## Solution.\n",
    "Recall the equation for slope in terms of covariance and variance (where $X$ is the independent variable):\n",
    "\n",
    "\\begin{equation}\n",
    "slope = \\frac{Cov(X,Y)}{Var(X)}\n",
    "\\end{equation}\n",
    "\n",
    "Also, in the first regression line, $x$ is the independent variable and $y$ is dependent variable. In the second, it is the opposite. Therefore, the equations on the lines in terms of slope and intercept and the slopes are:\n",
    "\n",
    "- Line 1:\n",
    "\\begin{array}{cc}\n",
    "Y = \\dfrac{4}{5} X + \\dfrac{33}{5} & & &  slope1 = \\dfrac{Cov(X,Y)}{Var(X)}\n",
    "\\end{array}\n",
    "\n",
    "- Line 2:\n",
    "\\begin{array}{cc}\n",
    "X = \\dfrac{9}{20} Y + \\dfrac{107}{20} & & &  slope2 = \\dfrac{Cov(X,Y)}{Var(Y)} \\\\\n",
    "\\end{array}\n",
    "\n",
    "So, because the slope1 and slope2 are known, and $Cov(X,Y)$ is the same in both slope equations, we get:\n",
    "\\begin{equation}\n",
    "Var(Y) = \\dfrac{slope1}{slope2} Var(X)\n",
    "\\end{equation}"
   ]
  },
  {
   "cell_type": "code",
   "execution_count": 1,
   "metadata": {},
   "outputs": [
    {
     "name": "stdout",
     "output_type": "stream",
     "text": [
      "16.0\n"
     ]
    }
   ],
   "source": [
    "# Slope definition\n",
    "slope_1 = 4/5\n",
    "slope_2 = 9/20\n",
    "\n",
    "# Standard deviation of x\n",
    "std_x = 3\n",
    "\n",
    "# Variance of x. Square of standard deviation\n",
    "var_x = std_x**2\n",
    "\n",
    "# Variance of y\n",
    "var_y = (slope_1 / slope_2) * var_x\n",
    "\n",
    "# Print result\n",
    "print(round(var_y, 1))"
   ]
  },
  {
   "cell_type": "code",
   "execution_count": null,
   "metadata": {},
   "outputs": [],
   "source": []
  }
 ],
 "metadata": {
  "kernelspec": {
   "display_name": "Python 3",
   "language": "python",
   "name": "python3"
  },
  "language_info": {
   "codemirror_mode": {
    "name": "ipython",
    "version": 3
   },
   "file_extension": ".py",
   "mimetype": "text/x-python",
   "name": "python",
   "nbconvert_exporter": "python",
   "pygments_lexer": "ipython3",
   "version": "3.8.5"
  }
 },
 "nbformat": 4,
 "nbformat_minor": 4
}
