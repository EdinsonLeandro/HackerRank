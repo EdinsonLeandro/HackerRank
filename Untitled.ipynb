{
 "cells": [
  {
   "cell_type": "code",
   "execution_count": 1,
   "metadata": {},
   "outputs": [],
   "source": [
    "def decryptPassword(s):\n",
    "    numbers = []\n",
    "    password = ''\n",
    "    item=0\n",
    "    while item <= len(s):\n",
    "        if s[item].isnumeric():\n",
    "            numbers.append(item)\n",
    "            item += 1\n",
    "        elif s[item].isupper():\n",
    "            password += s[item+1] + s[item]\n",
    "            item +=2\n",
    "        elif s[item]==0:\n",
    "            password += numbers[-1]\n",
    "            numbers.pop()\n",
    "            item += 1\n",
    "        elif s[item].islower():\n",
    "            password += s[item]\n",
    "            item += 1\n",
    "        else:\n",
    "            item += 1\n",
    "    \n",
    "    print(password)"
   ]
  },
  {
   "cell_type": "code",
   "execution_count": 5,
   "metadata": {},
   "outputs": [],
   "source": [
    "# 51Pa*0Lp*0e\n",
    "\n",
    "# aP1pL5e"
   ]
  },
  {
   "cell_type": "code",
   "execution_count": 23,
   "metadata": {},
   "outputs": [],
   "source": [
    "s = '51Pa*0Lp*0e'"
   ]
  },
  {
   "cell_type": "code",
   "execution_count": 24,
   "metadata": {},
   "outputs": [
    {
     "name": "stdout",
     "output_type": "stream",
     "text": [
      "['5']\n",
      "['5', '1']\n",
      "['5', '1']\n",
      "['5', '1']\n",
      "['5']\n",
      "['5']\n",
      "['5']\n",
      "[]\n",
      "[]\n"
     ]
    }
   ],
   "source": [
    "numbers = []\n",
    "password = ''\n",
    "item=0\n",
    "while item < len(s):\n",
    "    if s[item].isnumeric() and len(password)==0:\n",
    "        numbers.append(s[item])\n",
    "        item += 1\n",
    "    elif s[item].isupper():\n",
    "        try:\n",
    "            password += s[item+1] + s[item]\n",
    "        except:\n",
    "            password += s[-1]\n",
    "        item +=2\n",
    "    elif s[item]=='0':\n",
    "        password += numbers[-1]\n",
    "        numbers.pop()\n",
    "        item += 1\n",
    "    elif s[item].islower():\n",
    "        password += s[item]\n",
    "        item += 1\n",
    "    else:\n",
    "        item += 1\n",
    "    print(numbers)"
   ]
  },
  {
   "cell_type": "code",
   "execution_count": 25,
   "metadata": {},
   "outputs": [
    {
     "data": {
      "text/plain": [
       "'aP1pL5e'"
      ]
     },
     "execution_count": 25,
     "metadata": {},
     "output_type": "execute_result"
    }
   ],
   "source": [
    "password"
   ]
  },
  {
   "cell_type": "code",
   "execution_count": 32,
   "metadata": {},
   "outputs": [],
   "source": [
    "def decryptPassword(s):\n",
    "    numbers = []\n",
    "    password = ''\n",
    "    item=0\n",
    "    while item < len(s):\n",
    "        if s[item].isnumeric() and len(password)==0:\n",
    "            numbers.append(s[item])\n",
    "            item += 1\n",
    "        elif s[item].isupper():\n",
    "            try:\n",
    "                password += s[item+1] + s[item]\n",
    "            except:\n",
    "                password += s[-1]\n",
    "            item +=2\n",
    "        elif s[item]=='0':\n",
    "            password += numbers[-1]\n",
    "            numbers.pop()\n",
    "            item += 1\n",
    "        elif s[item].islower():\n",
    "            password += s[item]\n",
    "            item += 1\n",
    "        else:\n",
    "            item += 1\n",
    "    \n",
    "    print(password)"
   ]
  },
  {
   "cell_type": "code",
   "execution_count": 33,
   "metadata": {},
   "outputs": [
    {
     "ename": "IndexError",
     "evalue": "list index out of range",
     "output_type": "error",
     "traceback": [
      "\u001b[1;31m---------------------------------------------------------------------------\u001b[0m",
      "\u001b[1;31mIndexError\u001b[0m                                Traceback (most recent call last)",
      "\u001b[1;32m<ipython-input-33-214257d74dbb>\u001b[0m in \u001b[0;36m<module>\u001b[1;34m\u001b[0m\n\u001b[1;32m----> 1\u001b[1;33m \u001b[0mdecryptPassword\u001b[0m\u001b[1;33m(\u001b[0m\u001b[1;34m'51Pa*0Lp*0e'\u001b[0m\u001b[1;33m)\u001b[0m\u001b[1;33m\u001b[0m\u001b[1;33m\u001b[0m\u001b[0m\n\u001b[0m",
      "\u001b[1;32m<ipython-input-32-7fd763b04edb>\u001b[0m in \u001b[0;36mdecryptPassword\u001b[1;34m(s)\u001b[0m\n\u001b[0;32m     17\u001b[0m             \u001b[0mitem\u001b[0m \u001b[1;33m+=\u001b[0m\u001b[1;36m2\u001b[0m\u001b[1;33m\u001b[0m\u001b[1;33m\u001b[0m\u001b[0m\n\u001b[0;32m     18\u001b[0m         \u001b[1;32melif\u001b[0m \u001b[0ms\u001b[0m\u001b[1;33m[\u001b[0m\u001b[0mitem\u001b[0m\u001b[1;33m]\u001b[0m\u001b[1;33m==\u001b[0m\u001b[1;34m'0'\u001b[0m\u001b[1;33m:\u001b[0m\u001b[1;33m\u001b[0m\u001b[1;33m\u001b[0m\u001b[0m\n\u001b[1;32m---> 19\u001b[1;33m             \u001b[0mpassword\u001b[0m \u001b[1;33m+=\u001b[0m \u001b[0mnumbers\u001b[0m\u001b[1;33m[\u001b[0m\u001b[1;33m-\u001b[0m\u001b[1;36m1\u001b[0m\u001b[1;33m]\u001b[0m\u001b[1;33m\u001b[0m\u001b[1;33m\u001b[0m\u001b[0m\n\u001b[0m\u001b[0;32m     20\u001b[0m             \u001b[0mnumbers\u001b[0m\u001b[1;33m.\u001b[0m\u001b[0mpop\u001b[0m\u001b[1;33m(\u001b[0m\u001b[1;33m)\u001b[0m\u001b[1;33m\u001b[0m\u001b[1;33m\u001b[0m\u001b[0m\n\u001b[0;32m     21\u001b[0m             \u001b[0mitem\u001b[0m \u001b[1;33m+=\u001b[0m \u001b[1;36m1\u001b[0m\u001b[1;33m\u001b[0m\u001b[1;33m\u001b[0m\u001b[0m\n",
      "\u001b[1;31mIndexError\u001b[0m: list index out of range"
     ]
    }
   ],
   "source": [
    "decryptPassword('51Pa*0Lp*0e')"
   ]
  },
  {
   "cell_type": "code",
   "execution_count": null,
   "metadata": {},
   "outputs": [],
   "source": []
  },
  {
   "cell_type": "code",
   "execution_count": 46,
   "metadata": {},
   "outputs": [
    {
     "name": "stdin",
     "output_type": "stream",
     "text": [
      " 5\n",
      " 80\n",
      " 96\n",
      " 18\n",
      " 73\n",
      " 78\n"
     ]
    },
    {
     "name": "stdout",
     "output_type": "stream",
     "text": [
      "80\n",
      "96\n",
      "18\n",
      "75\n",
      "80\n"
     ]
    }
   ],
   "source": [
    "def gradingStudents(grades):\n",
    "    # Write your code here\n",
    "    # Define a function to round the number\n",
    "    def round_grade(number):\n",
    "        if number < 38:\n",
    "            return number\n",
    "        elif number%5 <= 2:\n",
    "            return number\n",
    "        else:\n",
    "            mod = number%5\n",
    "            return number + (5-mod)\n",
    "    \n",
    "    # Apply \"round_grade\" function to each element in \"grades\" list\n",
    "    return list(map(round_grade, grades))\n",
    "\n",
    "if __name__ == '__main__':\n",
    "\n",
    "    grades_count = int(input().strip())\n",
    "\n",
    "    grades = []\n",
    "\n",
    "    for _ in range(grades_count):\n",
    "        grades_item = int(input().strip())\n",
    "        grades.append(grades_item)\n",
    "\n",
    "    result = gradingStudents(grades)\n",
    "    \n",
    "    # Print results\n",
    "    print(*result, sep = \"\\n\")"
   ]
  },
  {
   "cell_type": "code",
   "execution_count": 41,
   "metadata": {},
   "outputs": [],
   "source": [
    "mylist = [78, 67, 38, 33]"
   ]
  },
  {
   "cell_type": "code",
   "execution_count": 42,
   "metadata": {},
   "outputs": [
    {
     "name": "stdout",
     "output_type": "stream",
     "text": [
      "80\n",
      "67\n",
      "40\n",
      "33\n"
     ]
    }
   ],
   "source": [
    "print(*list(map(round_grade, mylist)), sep = \"\\n\")"
   ]
  },
  {
   "cell_type": "code",
   "execution_count": null,
   "metadata": {},
   "outputs": [],
   "source": []
  },
  {
   "cell_type": "code",
   "execution_count": null,
   "metadata": {},
   "outputs": [],
   "source": []
  }
 ],
 "metadata": {
  "kernelspec": {
   "display_name": "Python 3 (ipykernel)",
   "language": "python",
   "name": "python3"
  },
  "language_info": {
   "codemirror_mode": {
    "name": "ipython",
    "version": 3
   },
   "file_extension": ".py",
   "mimetype": "text/x-python",
   "name": "python",
   "nbconvert_exporter": "python",
   "pygments_lexer": "ipython3",
   "version": "3.9.7"
  }
 },
 "nbformat": 4,
 "nbformat_minor": 4
}
