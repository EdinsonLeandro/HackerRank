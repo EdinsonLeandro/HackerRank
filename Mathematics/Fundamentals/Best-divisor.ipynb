{
 "cells": [
  {
   "cell_type": "markdown",
   "metadata": {},
   "source": [
    "# Best-Divisor\n",
    "\n",
    "Follow this [link](https://www.hackerrank.com/challenges/diwali-lights/problem) to read the challenge on HackerRank's website.\n",
    "\n",
    "---"
   ]
  },
  {
   "cell_type": "markdown",
   "metadata": {},
   "source": [
    "Kristen loves playing with and comparing numbers. She thinks that if she takes two different positive numbers, the one whose digits sum to a larger number is better than the other. If the sum of digits is equal for both numbers, then she thinks the smaller number is better. For example, Kristen thinks that $13$ is better than $31$ and that $12$ is better than $11$.\n",
    "\n",
    "Given an integer, $n$, can you find the divisor of $n$ that Kristin will consider to be the best?\n",
    "\n",
    "\n",
    "<b>Input Format</b>\n",
    "\n",
    "A single integer denoting $n$.\n",
    "\n",
    "\n",
    "<b>Constraints</b>\n",
    "- $0 < n < 10^5$\n",
    "\n",
    "\n",
    "<b>Output Format</b>\n",
    "\n",
    "Print an integer denoting the best divisor of $n$.\n",
    "\n",
    "\n",
    "<b>Sample Input</b>\n",
    "\n",
    "<code>12</code>\n",
    "\n",
    "\n",
    "<b>Sample Output</b>\n",
    "\n",
    "<code>6</code>\n",
    "\n",
    "\n",
    "<b>Explanation</b>\n",
    "\n",
    "The set of divisors of $12$ can be expressed as $ \\bigl\\{ 1, 2, 3, 4, 6, 12 \\bigr\\} $. The divisor whose digits sum to the largest number is $6$ (which, having only one digit, sums to itself). Thus, we print $6$ as our answer.\n",
    "\n",
    "---"
   ]
  },
  {
   "cell_type": "markdown",
   "metadata": {},
   "source": [
    "## Solution.\n",
    "\n",
    "First, the target is to get all the divisors for a given number N. I used a list comprehension into \"divisor\" function. Later, \"sum_digits\" is a list that contains the sum of the digits for each element in the list of divisors.\n",
    "\n",
    "Finally, from the list of divisors, I filterd only those in which the sum of the digits is equal to the maximum value."
   ]
  },
  {
   "cell_type": "code",
   "execution_count": 1,
   "metadata": {},
   "outputs": [
    {
     "name": "stdin",
     "output_type": "stream",
     "text": [
      " 100000\n"
     ]
    },
    {
     "name": "stdout",
     "output_type": "stream",
     "text": [
      "625\n"
     ]
    }
   ],
   "source": [
    "def best_divisor(N):\n",
    "    \n",
    "    # Find all the divisors for any single number\n",
    "    def divisor(n):\n",
    "        return [item for item in range(1, n+1) if n%item == 0]\n",
    "\n",
    "    # Find all the divisors for any single number N\n",
    "    list_divisor = divisor(N)\n",
    "\n",
    "    # Sum all the items into the list \"list_divisor\"\n",
    "    sum_digits = [sum(map(int, str(item))) for item in list_divisor]\n",
    "    \n",
    "    # From \"list_divisor\" list, filter only where the sum of its digits is equal to the maximum of \"sum_digits\" list\n",
    "    result = list(filter(lambda x: sum(map(int, str(x))) == max(sum_digits), list_divisor))\n",
    "\n",
    "    print(min(result))\n",
    "\n",
    "\n",
    "if __name__ == '__main__':\n",
    "    n = int(input().strip())\n",
    "    \n",
    "    best_divisor(n)"
   ]
  },
  {
   "cell_type": "code",
   "execution_count": null,
   "metadata": {},
   "outputs": [],
   "source": []
  }
 ],
 "metadata": {
  "kernelspec": {
   "display_name": "Python 3",
   "language": "python",
   "name": "python3"
  },
  "language_info": {
   "codemirror_mode": {
    "name": "ipython",
    "version": 3
   },
   "file_extension": ".py",
   "mimetype": "text/x-python",
   "name": "python",
   "nbconvert_exporter": "python",
   "pygments_lexer": "ipython3",
   "version": "3.8.5"
  }
 },
 "nbformat": 4,
 "nbformat_minor": 4
}
