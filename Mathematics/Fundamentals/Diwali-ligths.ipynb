{
 "cells": [
  {
   "cell_type": "markdown",
   "metadata": {},
   "source": [
    "# Diwali ligths\n",
    "\n",
    "Follow this [link](https://www.hackerrank.com/challenges/diwali-lights/problem) to read the challenge in HackerRank web.\n",
    "\n",
    "---"
   ]
  },
  {
   "cell_type": "markdown",
   "metadata": {},
   "source": [
    "## Problem.\n",
    "\n",
    "On the eve of Diwali, Hari is decorating his house with a serial light bulb set. The serial light bulb set has N bulbs placed sequentially on a string which is programmed to change patterns every second. If at least one bulb in the set is on at any given instant of time, how many different patterns of light can the serial light bulb set produce?\n",
    "\n",
    "Note: Lighting two bulbs $*-*$ is different from $**-$\n",
    "\n",
    "\n",
    "<b>Input Format</b>\n",
    "\n",
    "The first line contains the number of test cases T, T lines follow.\n",
    "\n",
    "Each line contains an integer N, the number of bulbs in the serial light bulb set.\n",
    "\n",
    "\n",
    "<b>Output Format</b>\n",
    "\n",
    "Print the total number of patterns modulo $10^5$\n",
    "\n",
    "\n",
    "<b>Constraints</b>\n",
    "- $1 \\leq T \\leq 1000$\n",
    "- $0 < N < 10^4$\n",
    "\n",
    "\n",
    "<b>Sample Input</b>\n",
    "\n",
    "<code>2\n",
    "1\n",
    "2</code>\n",
    "\n",
    "<b>Sample Output</b>\n",
    "\n",
    "<code>1\n",
    "3</code>\n",
    "\n",
    "\n",
    "<b>Explanation</b>\n",
    "\n",
    "Case 1: 1 bulb can be lit in only 1 way.\n",
    "\n",
    "Case 2: 2 bulbs can be lit in $-*$, $*-$, $**$ i.e. 3 ways.\n",
    "\n",
    "---"
   ]
  },
  {
   "cell_type": "markdown",
   "metadata": {},
   "source": [
    "## Solution.\n",
    "\n",
    "I could see two different ways to solve the problem:\n",
    "\n",
    "- Using permutation formula  -> $r^n$.  Where :\n",
    "    - $r$: Number of the cases that we can choose.\n",
    "    - $n$: Number of the elements.\n",
    "\n",
    "    Here $r=2$ (cases ON and OFF) and $n$ is the number of bulbs in the serial light bulb set (input data). However, as at least one bulb is \"ON\" at any given of time, we have to substract the case where all lights are \"OFF\". Therefore, the solution is:\n",
    "\\begin{equation}\n",
    "2^n - 1\n",
    "\\end{equation}\n",
    "\n",
    "\n",
    "- Find the pattern. Let's analyse all possible patterns of light for 1, 2 and 3 bulbs in the light bulb set (where \"$-$\" is OFF and \"$*$\" is ON):\n",
    "    \n",
    "    1 bulb -> &emsp; $-$ &ensp; $*$ &emsp; 2 patterns of light. \n",
    "\n",
    "    2 bulbs -> &emsp; $--$ &ensp; $-*$ &ensp; $*-$ &ensp; $**$ &emsp; 4 patterns of light.\n",
    "\n",
    "    3 bulbs -> &emsp; $---$ &ensp; $-*-$ &ensp; $--*$ &ensp; $*--$ &ensp; $**-$ &ensp; $-**$ &ensp; $*-*$ &ensp; $***$ &emsp; 8 patterns of light.\n",
    "    \n",
    "    You can see the pattern $2^n$ where $n$ is number of bulbs.  However, as at least one bulb is \"ON\" at any given of time, we have to substract the case where all lights are \"OFF\". Therefore:\n",
    "\\begin{equation}\n",
    "2^n - 1\n",
    "\\end{equation}"
   ]
  },
  {
   "cell_type": "code",
   "execution_count": 1,
   "metadata": {},
   "outputs": [
    {
     "name": "stdin",
     "output_type": "stream",
     "text": [
      " 2\n",
      " 1\n"
     ]
    },
    {
     "name": "stdout",
     "output_type": "stream",
     "text": [
      "1\n"
     ]
    },
    {
     "name": "stdin",
     "output_type": "stream",
     "text": [
      " 2\n"
     ]
    },
    {
     "name": "stdout",
     "output_type": "stream",
     "text": [
      "3\n"
     ]
    }
   ],
   "source": [
    "import math\n",
    "import os\n",
    "import random\n",
    "import re\n",
    "import sys\n",
    "\n",
    "#\n",
    "# Complete the 'lights' function below.\n",
    "#\n",
    "# The function is expected to return a LONG_INTEGER.\n",
    "# The function accepts INTEGER n as parameter.\n",
    "#\n",
    "\n",
    "def lights(n):\n",
    "    # Write your code here\n",
    "    # Add module 10^5  ->  %(10**5)\n",
    "    return (2**n - 1)%(10**5)\n",
    "    \n",
    "if __name__ == '__main__':\n",
    "\n",
    "    t = int(input().strip())\n",
    "\n",
    "    for t_itr in range(t):\n",
    "        n = int(input().strip())\n",
    "\n",
    "        result = lights(n)\n",
    "        \n",
    "        print(result)"
   ]
  },
  {
   "cell_type": "code",
   "execution_count": null,
   "metadata": {},
   "outputs": [],
   "source": []
  }
 ],
 "metadata": {
  "kernelspec": {
   "display_name": "Python 3",
   "language": "python",
   "name": "python3"
  },
  "language_info": {
   "codemirror_mode": {
    "name": "ipython",
    "version": 3
   },
   "file_extension": ".py",
   "mimetype": "text/x-python",
   "name": "python",
   "nbconvert_exporter": "python",
   "pygments_lexer": "ipython3",
   "version": "3.8.5"
  }
 },
 "nbformat": 4,
 "nbformat_minor": 4
}
