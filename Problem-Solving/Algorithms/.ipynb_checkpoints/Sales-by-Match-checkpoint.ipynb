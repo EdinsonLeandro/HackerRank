{
 "cells": [
  {
   "cell_type": "markdown",
   "metadata": {},
   "source": [
    "# Sales by Match\n",
    "\n",
    "Follow this [link](https://www.hackerrank.com/challenges/sock-merchant/problem) to read the challenge in HackerRank web.\n",
    "\n",
    "---"
   ]
  },
  {
   "attachments": {
    "image.png": {
     "image/png": "[encoded data removed]"
    }
   },
   "cell_type": "markdown",
   "metadata": {},
   "source": [
    "There is a large pile of socks that must be paired by color. Given an array of integers representing the color of each sock, determine how many pairs of socks with matching colors there are.\n",
    "\n",
    "<b>Example</b>\n",
    "\n",
    "$n=7$\n",
    "\n",
    "$ar = [1,2,1,2,1,3,2]$\n",
    "\n",
    "There is one pair of color $1$ and one of color $2$. There are three odd socks left, one of each color. The number of pairs is $2$.\n",
    "\n",
    "<b>Function Description</b>\n",
    "\n",
    "Complete the sockMerchant function in the editor below.\n",
    "\n",
    "sockMerchant has the following parameter(s):\n",
    "\n",
    "- int n: the number of socks in the pile\n",
    "- int ar[n]: the colors of each sock\n",
    "\n",
    "<b>Returns</b>\n",
    "\n",
    "- int: the number of pairs\n",
    "\n",
    "<b>Input Format</b>\n",
    "\n",
    "The first line contains an integer $n$, the number of socks represented in $ar$.\n",
    "\n",
    "The second line contains $n$ space-separated integers, $ar[i]$, the colors of the socks in the pile.\n",
    "\n",
    "<b>Constraints</b>\n",
    "\n",
    "- $1 \\leq n \\leq 100$\n",
    "- $0 \\leq ar[i] \\leq 100$ where $0 \\leq i < n$\n",
    "\n",
    "<b>Sample Input</b>\n",
    "\n",
    "<code>     STDIN                       Function\n",
    "     -----                       --------\n",
    "     9                           n = 9\n",
    "     10 20 20 10 10 30 50 10 20  ar = [10, 20, 20, 10, 10, 30, 50, 10, 20]</code>\n",
    "\n",
    "<b>Sample Output</b>\n",
    "\n",
    "<code>     3</code>\n",
    "\n",
    "<b>Explanation</b>\n",
    "\n",
    "![image.png](attachment:image.png)\n",
    "\n",
    "There are three pairs of socks.\n",
    "\n",
    "---"
   ]
  },
  {
   "cell_type": "markdown",
   "metadata": {},
   "source": [
    "## Solution\n",
    "\n",
    "Following the example:\n",
    "\n",
    "```python\n",
    "[10, 20, 20, 10, 10, 30, 50, 10, 20]\n",
    "```\n",
    "\n",
    "This line return the number of occurences of socks:\n",
    "\n",
    "```python\n",
    "repeated = list(map(lambda x: ar.count(x), set(ar)))\n",
    "         = [4, 3, 1, 1]\n",
    "```\n",
    "\n",
    "Divide each item of the list by two returns the number of pairs:\n",
    "\n",
    "```python\n",
    "divided = list(map(lambda x: x//2, repeated))\n",
    "        = [2, 1, 0, 0]\n",
    "```\n",
    "\n",
    "The answer is the sum of the elements in the list."
   ]
  },
  {
   "cell_type": "code",
   "execution_count": 1,
   "metadata": {},
   "outputs": [
    {
     "name": "stdout",
     "output_type": "stream",
     "text": [
      "9\n",
      "10 20 20 10 10 30 50 10 20\n",
      "3\n"
     ]
    }
   ],
   "source": [
    "#!/bin/python3\n",
    "\n",
    "import math\n",
    "import os\n",
    "import random\n",
    "import re\n",
    "import sys\n",
    "\n",
    "#\n",
    "# Complete the 'sockMerchant' function below.\n",
    "#\n",
    "# The function is expected to return an INTEGER.\n",
    "# The function accepts following parameters:\n",
    "#  1. INTEGER n\n",
    "#  2. INTEGER_ARRAY ar\n",
    "#\n",
    "\n",
    "def sockMerchant(n, ar):\n",
    "    # Write your code here\n",
    "    # Count the number of occurences of each value\n",
    "    repeated = list(map(lambda x: ar.count(x), set(ar)))\n",
    "    \n",
    "    # Divide each item by two\n",
    "    divided = list(map(lambda x: x//2, repeated))\n",
    "    \n",
    "    print(sum(divided))\n",
    "\n",
    "\n",
    "\n",
    "if __name__ == '__main__':\n",
    "    n = int(input().strip())\n",
    "\n",
    "    ar = list(map(int, input().rstrip().split()))\n",
    "\n",
    "    sockMerchant(n, ar)"
   ]
  },
  {
   "cell_type": "code",
   "execution_count": null,
   "metadata": {},
   "outputs": [],
   "source": []
  }
 ],
 "metadata": {
  "kernelspec": {
   "display_name": "Python 3 (ipykernel)",
   "language": "python",
   "name": "python3"
  },
  "language_info": {
   "codemirror_mode": {
    "name": "ipython",
    "version": 3
   },
   "file_extension": ".py",
   "mimetype": "text/x-python",
   "name": "python",
   "nbconvert_exporter": "python",
   "pygments_lexer": "ipython3",
   "version": "3.9.7"
  }
 },
 "nbformat": 4,
 "nbformat_minor": 4
}
