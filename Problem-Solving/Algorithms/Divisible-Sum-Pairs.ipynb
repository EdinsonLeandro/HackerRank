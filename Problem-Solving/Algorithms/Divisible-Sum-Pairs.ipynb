{
 "cells": [
  {
   "cell_type": "markdown",
   "metadata": {},
   "source": [
    "# Divisible Sum Pairs\n",
    "\n",
    "Follow this [link](https://www.hackerrank.com/challenges/divisible-sum-pairs/problem) to read the challenge in HackerRank web.\n",
    "\n",
    "---"
   ]
  },
  {
   "attachments": {},
   "cell_type": "markdown",
   "metadata": {},
   "source": [
    "Given an array of integers and a positive integer $k$, determine the number of $(i,j)$ pairs where $i<j$ and $ar[i] + ar[j]$  is divisible by $k$.\n",
    "\n",
    "**Example**\n",
    "\n",
    "$ar = [1,2,3,4,5,6]$\n",
    "\n",
    "$k = 5$\n",
    "\n",
    "Three pairs meet the criteria: $[1,4]$, $[2,3]$ and $[4,6]$.\n",
    "\n",
    "<b>Function Description</b>\n",
    "\n",
    "Complete the divisibleSumPairs function in the editor below.\n",
    "\n",
    "divisibleSumPairs has the following parameter(s):\n",
    "\n",
    "- int n: the length of array $ar$\n",
    "- int ar[n]: an array of integers\n",
    "- int k: the integer divisor\n",
    "\n",
    "<b>Returns</b>\n",
    "\n",
    "- int: the number of pairs\n",
    "\n",
    "<b>Input Format</b>\n",
    "\n",
    "The first line contains $2$ space-separated integers, $n$ and $k$.\n",
    "\n",
    "The second line contains $n$ space-separated integers, each a value of $arr[i]$.\n",
    "\n",
    "<b>Constraints</b>\n",
    "\n",
    "- $2 \\leq n \\leq 100$\n",
    "- $1 \\leq k \\leq 100$\n",
    "- $1 \\leq ar[i] \\leq 100$\n",
    "\n",
    "<b>Sample Input</b>\n",
    "\n",
    "<code>     STDIN           Function\n",
    "     -----           --------\n",
    "     6 3             n = 6, k = 3\n",
    "     1 3 2 6 1 2     ar = [1, 3, 2, 6, 1, 2]</code>\n",
    "\n",
    "<b>Sample Output</b>\n",
    "\n",
    "<code>     5</code>\n",
    "\n",
    "<b>Explanation 0</b>\n",
    "\n",
    "Here are the $5$ valid pairs when $k=3$:\n",
    "\n",
    "- $(0,2) \\rightarrow ar[0] + ar[2] = 1 + 2 = 3$.\n",
    "\n",
    "- $(0,5) \\rightarrow ar[0] + ar[5] = 1 + 2 = 3$.\n",
    "\n",
    "- $(1,3) \\rightarrow ar[1] + ar[3] = 3 + 6 = 9$.\n",
    "\n",
    "- $(2,4) \\rightarrow ar[2] + ar[4] = 2 + 1 = 3$.\n",
    "\n",
    "- $(4,5) \\rightarrow ar[4] + ar[5] = 1 + 2 = 3$.\n",
    "\n",
    "\n",
    "---"
   ]
  },
  {
   "cell_type": "markdown",
   "metadata": {},
   "source": [
    "## Solution"
   ]
  },
  {
   "cell_type": "code",
   "execution_count": 1,
   "metadata": {},
   "outputs": [
    {
     "name": "stdout",
     "output_type": "stream",
     "text": [
      "6 3\n",
      "1 3 2 6 1 2\n",
      "5\n"
     ]
    }
   ],
   "source": [
    "#!/bin/python3\n",
    "\n",
    "import math\n",
    "import os\n",
    "import random\n",
    "import re\n",
    "import sys\n",
    "\n",
    "#\n",
    "# Complete the 'divisibleSumPairs' function below.\n",
    "#\n",
    "# The function is expected to return an INTEGER.\n",
    "# The function accepts following parameters:\n",
    "#  1. INTEGER n\n",
    "#  2. INTEGER k\n",
    "#  3. INTEGER_ARRAY ar\n",
    "#\n",
    "\n",
    "def divisibleSumPairs(n, k, ar):\n",
    "    # Write your code here\n",
    "    \n",
    "    # Initialize \"value\"\n",
    "    value = 0\n",
    "    \n",
    "    # In each iteration, filter data where the numbers are divisible by \"k\".\n",
    "    for num in range(len(ar) - 1):\n",
    "        item = ar[num]\n",
    "        \n",
    "        # \"ar[num+1:]\" read array from different position in each loop\n",
    "        criteria = list(filter(lambda x: (item+x)%k == 0, ar[num+1:]))\n",
    "        value += len(criteria)\n",
    "    \n",
    "    print(value)\n",
    "    \n",
    "if __name__ == '__main__':\n",
    "\n",
    "    first_multiple_input = input().rstrip().split()\n",
    "\n",
    "    n = int(first_multiple_input[0])\n",
    "\n",
    "    k = int(first_multiple_input[1])\n",
    "\n",
    "    ar = list(map(int, input().rstrip().split()))\n",
    "\n",
    "    divisibleSumPairs(n, k, ar)"
   ]
  },
  {
   "cell_type": "code",
   "execution_count": null,
   "metadata": {},
   "outputs": [],
   "source": []
  }
 ],
 "metadata": {
  "kernelspec": {
   "display_name": "Python 3 (ipykernel)",
   "language": "python",
   "name": "python3"
  },
  "language_info": {
   "codemirror_mode": {
    "name": "ipython",
    "version": 3
   },
   "file_extension": ".py",
   "mimetype": "text/x-python",
   "name": "python",
   "nbconvert_exporter": "python",
   "pygments_lexer": "ipython3",
   "version": "3.9.7"
  }
 },
 "nbformat": 4,
 "nbformat_minor": 4
}
