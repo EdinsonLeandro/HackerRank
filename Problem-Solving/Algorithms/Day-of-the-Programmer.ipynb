{
 "cells": [
  {
   "cell_type": "markdown",
   "metadata": {},
   "source": [
    "# Day of the Programmer\n",
    "\n",
    "Follow this [link](https://www.hackerrank.com/challenges/day-of-the-programmer/problem) to read the challenge in HackerRank web.\n",
    "\n",
    "---"
   ]
  },
  {
   "cell_type": "markdown",
   "metadata": {},
   "source": [
    "Marie invented a [Time Machine](https://en.wikipedia.org/wiki/Time_travel) and wants to test it by time-traveling to visit Russia on the [Day of the Programmer](https://en.wikipedia.org/wiki/Programmer%27s_Day) (the 256th day of the year) during a year in the inclusive range from 1700 to 2700.\n",
    "\n",
    "From 1700 to 1917, Russia's official calendar was the [Julian calendar](https://en.wikipedia.org/wiki/Julian_calendar); since 1919 they used the [Gregorian calendar system](https://en.wikipedia.org/wiki/Gregorian_calendar). The transition from the Julian to Gregorian calendar system occurred in 1918, when the next day after January 31st was February 14th. This means that in 1918, February 14th was the 32nd day of the year in Russia.\n",
    "\n",
    "In both calendar systems, February is the only month with a variable amount of days; it has 29 days during a leap year, and 28 days during all other years. In the Julian calendar, leap years are divisible by 4; in the Gregorian calendar, leap years are either of the following:\n",
    "\n",
    "- Divisible by 400.\n",
    "- Divisible by 4 and not divisible by 100.\n",
    "\n",
    "Given a year, $y$, find the date of the 256th day of that year according to the official Russian calendar during that year. Then print it in the format <code>dd.mm.yyyy</code>, where dd is the two-digit day, mm is the two-digit month, and yyyy is $y$.\n",
    "\n",
    "For example, the given $year$ = 1984. 1984 is divisible by 4, so it is a leap year. The 256th day of a leap year after 1918 is September 12, so the answer is $12.09.1984$.\n",
    "\n",
    "<b>Function Description</b>\n",
    "\n",
    "Complete the dayOfProgrammer function in the editor below. It should return a string representing the date of the 256th day of the year given.\n",
    "\n",
    "dayOfProgrammer has the following parameter(s):\n",
    "\n",
    "- year: an integer\n",
    "\n",
    "<b>Input Format</b>\n",
    "\n",
    "A single integer denoting year y$$.\n",
    "\n",
    "<b>Constraints</b>\n",
    "\n",
    "- $1700 \\leq y \\leq 2700$\n",
    "\n",
    "<b>Output Format</b>\n",
    "\n",
    "Print the full date of Day of the Programmer during year $y$ in the format <code>dd.mm.yyyy</code>, where <code>dd</code> is the two-digit day, <code>mm</code> is the two-digit month, and <code>yyyy</code> is $y$.\n",
    "\n",
    "<b>Sample Input 0</b>\n",
    "\n",
    "<code>     2017</code>\n",
    "\n",
    "<b>Sample Output 0</b>\n",
    "\n",
    "<code>     13.09.2017</code>\n",
    "\n",
    "<b>Explanation 0</b>\n",
    "\n",
    "In the year $y$ = 2017, January has 31 days, February has 28 days, March has 31 days, April has 30 days, May has 31 days, June has 30 days, July has 31 days, and August has 31 days. When we sum the total number of days in the first eight months, we get 31 + 28 + 31 + 30 + 31 + 30 + 31 + 31 = 243. Day of the Programmer is the 256th day, so then calculate 256 - 243 = 13 to determine that it falls on day 13 of the 9th month (September). We then print the full date in the specified format, which is <code>13.09.2017</code>.\n",
    "\n",
    "<b>Sample Input 1</b>\n",
    "\n",
    "<code>     2016</code>\n",
    "\n",
    "<b>Sample Output 1</b>\n",
    "\n",
    "<code>     12.09.2016</code>\n",
    "\n",
    "<b>Explanation 1</b>\n",
    "\n",
    "Year $y$ = 2016 is a leap year, so February has 29 days but all the other months have the same number of days as in 2017. When we sum the total number of days in the first eight months, we get 31 + 29 + 31 + 30 + 31 + 30 + 31 + 31 = 244. Day of the Programmer is the 256th day, so then calculate 256 - 244 = 12 to determine that it falls on day 12 of the 9th month (September). We then print the full date in the specified format, which is <code>2.09.2016</code>.\n",
    "\n",
    "<b>Sample Input 2</b>\n",
    "\n",
    "<code>     1800</code>\n",
    "\n",
    "<b>Sample Output 2</b>\n",
    "\n",
    "<code>     12.09.1800</code>\n",
    "\n",
    "<b>Explanation 2</b>\n",
    "\n",
    "Since 1800 is leap year as per Julian calendar. Day lies on 12 September.\n",
    "\n",
    "---"
   ]
  },
  {
   "cell_type": "markdown",
   "metadata": {},
   "source": [
    "## Solution\n",
    "\n",
    "We need to establish a condition if the year is before or after 1917 (Julian or Gregorian calendar respectively). 1918 is a transition year between these calendars."
   ]
  },
  {
   "cell_type": "code",
   "execution_count": 1,
   "metadata": {},
   "outputs": [
    {
     "name": "stdout",
     "output_type": "stream",
     "text": [
      "1800\n",
      "12.09.1800\n"
     ]
    }
   ],
   "source": [
    "#!/bin/python3\n",
    "\n",
    "import math\n",
    "import os\n",
    "import random\n",
    "import re\n",
    "import sys\n",
    "\n",
    "#\n",
    "# Complete the 'dayOfProgrammer' function below.\n",
    "#\n",
    "# The function is expected to return a STRING.\n",
    "# The function accepts INTEGER year as parameter.\n",
    "#\n",
    "\n",
    "def dayOfProgrammer(year):\n",
    "    # Sum the number of days between Januany and August\n",
    "    jan_aug = 31 + 28 + 31 + 30 + 31 + 30 + 31 + 31\n",
    "    \n",
    "    # Write your code here\n",
    "    if year <= 1917:\n",
    "        # Julian calendar\n",
    "        if year%4 == 0:\n",
    "            jan_aug += 1\n",
    "            \n",
    "    elif year == 1918:\n",
    "        # Transition year\n",
    "        jan_aug -= 13\n",
    "        \n",
    "    else:\n",
    "        # Gregorian calendar\n",
    "        if (year%400 == 0) or (year%4 == 0 and year%100 != 0):\n",
    "            jan_aug += 1\n",
    "    \n",
    "    print('{}.09.{}'.format(256-jan_aug, year))    \n",
    "    \n",
    "    \n",
    "\n",
    "if __name__ == '__main__':\n",
    "    year = int(input().strip())\n",
    "\n",
    "    dayOfProgrammer(year)"
   ]
  },
  {
   "cell_type": "code",
   "execution_count": null,
   "metadata": {},
   "outputs": [],
   "source": []
  }
 ],
 "metadata": {
  "kernelspec": {
   "display_name": "Python 3 (ipykernel)",
   "language": "python",
   "name": "python3"
  },
  "language_info": {
   "codemirror_mode": {
    "name": "ipython",
    "version": 3
   },
   "file_extension": ".py",
   "mimetype": "text/x-python",
   "name": "python",
   "nbconvert_exporter": "python",
   "pygments_lexer": "ipython3",
   "version": "3.9.7"
  }
 },
 "nbformat": 4,
 "nbformat_minor": 4
}
