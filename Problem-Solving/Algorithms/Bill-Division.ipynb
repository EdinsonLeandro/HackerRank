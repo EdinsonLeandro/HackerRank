{
 "cells": [
  {
   "cell_type": "markdown",
   "metadata": {},
   "source": [
    "# Bill Division\n",
    "\n",
    "Follow this [link](https://www.hackerrank.com/challenges/bon-appetit/problem) to read the challenge in HackerRank web.\n",
    "\n",
    "---"
   ]
  },
  {
   "cell_type": "markdown",
   "metadata": {},
   "source": [
    "Two friends Anna and Brian, are deciding how to split the bill at a dinner. Each will only pay for the items they consume. Brian gets the check and calculates Anna's portion. You must determine if his calculation is correct.\n",
    "\n",
    "For example, assume the bill has the following prices: $bill= [2,4,6]$. Anna declines to eat item $k = bill[2]$ which costs $6$. If Brian calculates the bill correctly, Anna will pay $(2+4)/2 = 3$. If he includes the cost of $bill[2]$, he will calculate $(2+4+6)/2 = 6$. In the second case, he should refund  to Anna.\n",
    "\n",
    "<b>Function Description</b>\n",
    "\n",
    "Complete the bonAppetit function in the editor below. It should print <code>Bon Appetit</code> if the bill is fairly split. Otherwise, it should print the integer amount of money that Brian owes Anna.\n",
    "\n",
    "bonAppetit has the following parameter(s):\n",
    "\n",
    "- bill: an array of integers representing the cost of each item ordered\n",
    "- k: an integer representing the zero-based index of the item Anna doesn't eat\n",
    "- b: the amount of money that Anna contributed to the bill\n",
    "\n",
    "<b>Input Format</b>\n",
    "\n",
    "The first line contains two space-separated integers $n$ and $k$, the number of items ordered and the $0$-based index of the item that Anna did not eat.\n",
    "\n",
    "The second line contains $n$ space-separated integers $bill[1]$ where $0 \\leq i < n$.\n",
    "\n",
    "The third line contains an integer, $b$, the amount of money that Brian charged Anna for her share of the bill.\n",
    "\n",
    "<b>Constraints</b>\n",
    "\n",
    "- $2 \\leq n \\leq 10^5$\n",
    "- $0 \\leq k < n$\n",
    "- $0 \\leq bill[i] \\leq 10^4$\n",
    "- $0 \\leq b \\leq \\sum_{i=0}^{n-1} bill[i]$\n",
    "- The amount of money due Anna will always be an integer\n",
    "\n",
    "<b>Output Format</b>\n",
    "\n",
    "If Brian did not overcharge Anna, print <code>Bon Appetit</code> on a new line; otherwise, print the difference (i.e., $b_{charged} - b_{actual}$) that Brian must refund to Anna. This will always be an integer.\n",
    "\n",
    "<b>Sample Input 0</b>\n",
    "\n",
    "<code>     4 1\n",
    "     3 10 2 9\n",
    "     12</code>\n",
    "\n",
    "<b>Sample Output 0</b>\n",
    "\n",
    "<code>     5</code>\n",
    "\n",
    "<b>Explanation 0</b>\n",
    "\n",
    "Anna didn't eat item $bill[1]=10$, but she shared the rest of the items with Brian. The total cost of the shared items is $3+2+9=14$ and, split in half, the cost per person is $b_{actual}=7$. Brian charged her $b_{charged}=12$ for her portion of the bill. We print the amount Anna was overcharged, $b_{charged} - b_{actual} = 12 - 7 = 5$, on a new line.\n",
    "\n",
    "<b>Sample Input 1</b>\n",
    "\n",
    "<code>     4 1\n",
    "     3 10 2 9\n",
    "     7</code>\n",
    "\n",
    "<b>Sample Output 1</b>\n",
    "\n",
    "<code>     Bon Appetit</code>\n",
    "\n",
    "<b>Explanation 1</b>\n",
    "\n",
    "Anna didn't eat item $bill[1]=10$, but she shared the rest of the items with Brian. The total cost of the shared items is $3+2+9=14$ and, split in half, the cost per person is $b_{actual}=7$. Because $b_{actual}=b_{charged}=7$, we print <code>Bon Appetit</code> on a new line.\n",
    "\n",
    "---"
   ]
  },
  {
   "cell_type": "markdown",
   "metadata": {},
   "source": [
    "## Solution"
   ]
  },
  {
   "cell_type": "code",
   "execution_count": 1,
   "metadata": {},
   "outputs": [
    {
     "name": "stdout",
     "output_type": "stream",
     "text": [
      "4 1\n",
      "3 10 2 9\n",
      "12\n",
      "5\n"
     ]
    }
   ],
   "source": [
    "#!/bin/python3\n",
    "\n",
    "import math\n",
    "import os\n",
    "import random\n",
    "import re\n",
    "import sys\n",
    "\n",
    "#\n",
    "# Complete the 'bonAppetit' function below.\n",
    "#\n",
    "# The function accepts following parameters:\n",
    "#  1. INTEGER_ARRAY bill\n",
    "#  2. INTEGER k\n",
    "#  3. INTEGER b\n",
    "#\n",
    "\n",
    "def bonAppetit(bill, k, b):\n",
    "    # Remove k-th item\n",
    "    bill.pop(k)\n",
    "    \n",
    "    # Amount of money that Brian owes Anna\n",
    "    amount = b - int(sum(bill)/2)\n",
    "\n",
    "    print(amount) if amount != 0 else print('Bon Appetit')\n",
    "\n",
    "if __name__ == '__main__':\n",
    "    first_multiple_input = input().rstrip().split()\n",
    "\n",
    "    n = int(first_multiple_input[0])\n",
    "\n",
    "    k = int(first_multiple_input[1])\n",
    "\n",
    "    bill = list(map(int, input().rstrip().split()))\n",
    "\n",
    "    b = int(input().strip())\n",
    "\n",
    "    bonAppetit(bill, k, b)"
   ]
  },
  {
   "cell_type": "code",
   "execution_count": null,
   "metadata": {},
   "outputs": [],
   "source": []
  }
 ],
 "metadata": {
  "kernelspec": {
   "display_name": "Python 3 (ipykernel)",
   "language": "python",
   "name": "python3"
  },
  "language_info": {
   "codemirror_mode": {
    "name": "ipython",
    "version": 3
   },
   "file_extension": ".py",
   "mimetype": "text/x-python",
   "name": "python",
   "nbconvert_exporter": "python",
   "pygments_lexer": "ipython3",
   "version": "3.9.7"
  }
 },
 "nbformat": 4,
 "nbformat_minor": 4
}
