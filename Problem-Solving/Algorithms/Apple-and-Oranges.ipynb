{
 "cells": [
  {
   "cell_type": "markdown",
   "metadata": {},
   "source": [
    "# Apple and Oranges\n",
    "\n",
    "Follow this [link](https://www.hackerrank.com/challenges/apple-and-orange/problem) to read the challenge in HackerRank web.\n",
    "\n",
    "---"
   ]
  },
  {
   "cell_type": "markdown",
   "metadata": {},
   "source": [
    "Sam's house has an apple tree and an orange tree that yield an abundance of fruit. Using the information given below, determine the number of apples and oranges that land on Sam's house.\n",
    "\n",
    "In the diagram below:\n",
    "- The red region denotes the house, where $s$ is the start point, and $t$ is the endpoint. The apple tree is to the left of the house, and the orange tree is to its right.\n",
    "- Assume the trees are located on a single point, where the apple tree is at point $a$, and the orange tree is at point $b$.\n",
    "- When a fruit falls from its tree, it lands $d$ units of distance from its tree of origin along the $x$-axis. *A negative value of $d$ means the fruit fell $d$ units to the tree's left, and a positive value of $d$ means it falls $d$ units to the tree's right. *"
   ]
  },
  {
   "attachments": {
    "image.png": {
     "image/png": "[encoded data removed]"
    }
   },
   "cell_type": "markdown",
   "metadata": {},
   "source": [
    "![image.png](attachment:image.png)"
   ]
  },
  {
   "cell_type": "markdown",
   "metadata": {},
   "source": [
    "Given the value of $d$ for $m$ apples and $n$ oranges, determine how many apples and oranges will fall on Sam's house (i.e., in the inclusive range $[s,t]$)?\n",
    "\n",
    "For example, Sam's house is between $s=7$ and $t=10$. The apple tree is located at $a=4$ and the orange at $b=12$. There are $m=3$ apples and $n=3$ oranges. Apples are thrown $apples=[2,3,-4]$ units distance from $a$, and $oranges=[3,-2,-4]$ units distance. Adding each apple distance to the position of the tree, they land at $[4+2,4+3,4-4]$. Oranges land at $[12+3,12-2,12-4]$. One apple and two oranges land in the inclusive range $[7-10]$ so we print:\n",
    "\n",
    "<code>1<br>2</code>\n",
    "\n",
    "<b>Function Description</b>\n",
    "\n",
    "Complete the countApplesAndOranges function in the editor below. It should print the number of apples and oranges that land on Sam's house, each on a separate line.\n",
    "\n",
    "countApplesAndOranges has the following parameter(s):\n",
    "\n",
    "- s: integer, starting point of Sam's house location.\n",
    "- t: integer, ending location of Sam's house location.\n",
    "- a: integer, location of the Apple tree.\n",
    "- b: integer, location of the Orange tree.\n",
    "- apples: integer array, distances at which each apple falls from the tree.\n",
    "- oranges: integer array, distances at which each orange falls from the tree."
   ]
  },
  {
   "cell_type": "markdown",
   "metadata": {},
   "source": [
    "<b>Input Format</b>\n",
    "\n",
    "- The first line contains two space-separated integers denoting the respective values of $s$ and $t$.\n",
    "- The second line contains two space-separated integers denoting the respective values of $a$ and $b$.\n",
    "- The third line contains two space-separated integers denoting the respective values of $m$ and $n$.\n",
    "- The fourth line contains $m$ space-separated integers denoting the respective distances that each apple falls from point $a$.\n",
    "- The fifth line contains $n$ space-separated integers denoting the respective distances that each orange falls from point $b$.\n",
    "\n",
    "<b>Constraints</b>\n",
    "- $1 \\leq s,t,a,b,m,n \\leq 10^{5} $\n",
    "- $-10^{5} \\leq d \\leq 10^{5} $\n",
    "- $a < s < t < b$\n",
    "\n",
    "<b>Output Format</b>\n",
    "\n",
    "Print two integers on two different lines:\n",
    "- The first integer: the number of apples that fall on Sam's house.\n",
    "- The second integer: the number of oranges that fall on Sam's house.\n",
    "\n",
    "<b>Sample Input 0</b>\n",
    "\n",
    "<code>7 11\n",
    " 5 15\n",
    " 3 2\n",
    " -2 2 1\n",
    " 5 -6</code>\n",
    "    \n",
    "<b>Sample Output 0</b>\n",
    "\n",
    "<code> 1\n",
    " 1<code>\n",
    " \n",
    "---"
   ]
  },
  {
   "cell_type": "markdown",
   "metadata": {},
   "source": [
    "## Solution"
   ]
  },
  {
   "cell_type": "code",
   "execution_count": 28,
   "metadata": {},
   "outputs": [
    {
     "name": "stdout",
     "output_type": "stream",
     "text": [
      "7 11\n",
      "5 15\n",
      "3 2\n",
      "-2 2 1\n",
      "5 -6\n",
      "1\n",
      "1\n"
     ]
    }
   ],
   "source": [
    "import math\n",
    "import os\n",
    "import random\n",
    "import re\n",
    "import sys\n",
    "\n",
    "# Complete the countApplesAndOranges function below.\n",
    "def countApplesAndOranges(s, t, a, b, apples, oranges):\n",
    "    \n",
    "    # Sum the position of apple tree \"a\" and orange tree \"b\" to lists \"apples\" and \"oranges\" (distances for apples and \n",
    "    # oranges from trees)\n",
    "    apples_origin = list(map(lambda x: x+a, apples))\n",
    "    oranges_origin = list(map(lambda x: x+b, oranges))\n",
    "    \n",
    "    ## This part of code is unefficient. \n",
    "    # house = list(range(s, t+1))\n",
    "    # apples_origin = list(filter(lambda x: x in apples_origin,house))\n",
    "    # oranges_origin = list(filter(lambda x: x in oranges_origin,house))\n",
    "\n",
    "    apples_origin = list(filter(lambda x: x >= s and x <= t, apples_origin))\n",
    "    oranges_origin = list(filter(lambda x: x >= s and x <= t, oranges_origin))\n",
    "\n",
    "    print(len(apples_origin))\n",
    "    print(len(oranges_origin))\n",
    "\n",
    "\n",
    "if __name__ == '__main__':\n",
    "    st = input().split()\n",
    "\n",
    "    s = int(st[0])\n",
    "\n",
    "    t = int(st[1])\n",
    "\n",
    "    ab = input().split()\n",
    "\n",
    "    a = int(ab[0])\n",
    "\n",
    "    b = int(ab[1])\n",
    "\n",
    "    mn = input().split()\n",
    "\n",
    "    m = int(mn[0])\n",
    "\n",
    "    n = int(mn[1])\n",
    "\n",
    "    apples = list(map(int, input().rstrip().split()))\n",
    "\n",
    "    oranges = list(map(int, input().rstrip().split()))\n",
    "\n",
    "    countApplesAndOranges(s, t, a, b, apples, oranges)"
   ]
  },
  {
   "cell_type": "markdown",
   "metadata": {},
   "source": [
    "The factor here to consider is the execution time. When the size of the lists (apples and oranges) is too large, it takes a long time to perform a for loop to compare if each element is within the range defined by the interval [s,t].\n",
    "\n",
    "The proposed solution is to filter only those elements that are greater than or equal to \"s\" and less than or equal to \"t\". This reduce time execution drastically."
   ]
  }
 ],
 "metadata": {
  "kernelspec": {
   "display_name": "Python 3 (ipykernel)",
   "language": "python",
   "name": "python3"
  },
  "language_info": {
   "codemirror_mode": {
    "name": "ipython",
    "version": 3
   },
   "file_extension": ".py",
   "mimetype": "text/x-python",
   "name": "python",
   "nbconvert_exporter": "python",
   "pygments_lexer": "ipython3",
   "version": "3.9.7"
  }
 },
 "nbformat": 4,
 "nbformat_minor": 4
}
