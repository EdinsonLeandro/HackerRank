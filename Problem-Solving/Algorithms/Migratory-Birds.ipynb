{
 "cells": [
  {
   "cell_type": "markdown",
   "metadata": {},
   "source": [
    "# Migratory-Birds\n",
    "\n",
    "Follow this [link](https://www.hackerrank.com/challenges/migratory-birds/problem) to read the challenge in HackerRank web.\n",
    "\n",
    "---"
   ]
  },
  {
   "cell_type": "markdown",
   "metadata": {},
   "source": [
    "Given an array of bird sightings where every element represents a bird type id, determine the id of the most frequently sighted type. If more than 1 type has been spotted that maximum amount, return the smallest of their ids.\n",
    "\n",
    "**Example**\n",
    "\n",
    "$arr = [1,1,2,2,3]$\n",
    "\n",
    "There are two each of types $1$ and $2$, and one sighting of type $3$. Pick the lower of the two types seen twice: type $1$.\n",
    "\n",
    "<b>Function Description</b>\n",
    "\n",
    "Complete the migratoryBirds function in the editor below.\n",
    "\n",
    "migratoryBirds has the following parameter(s):\n",
    "\n",
    "- int arr[n]: the types of birds sighted.\n",
    "\n",
    "<b>Returns</b>\n",
    "\n",
    "- int: the lowest type id of the most frequently sighted birds\n",
    "\n",
    "<b>Input Format</b>\n",
    "\n",
    "- The first line contains an integer, $n$, the size of $arr$.\n",
    "\n",
    "- The second line describes $arr$ as $n$ space-separated integers, each a type number of the bird sighted.\n",
    "\n",
    "<b>Constraints</b>\n",
    "\n",
    "- $5 \\leq n \\leq 2 x 10^5$\n",
    "- It is guaranteed that each type is $1, 2, 3, 4, 5$.\n",
    "\n",
    "<b>Sample Input 0</b>\n",
    "\n",
    "<code>     6\n",
    "     1 4 4 4 5 3</code>\n",
    "\n",
    "<b>Sample Output 0</b>\n",
    "\n",
    "<code>     4</code>\n",
    "\n",
    "<b>Explanation 0</b>\n",
    "\n",
    "The different types of birds occur in the following frequencies:\n",
    "\n",
    "- Type $1$: $1$ bird\n",
    "- Type $2$: $0$ birds\n",
    "- Type $3$: $1$ bird\n",
    "- Type $4$: $3$ birds\n",
    "- Type $5$: $1$ bird\n",
    "\n",
    "The type number that occurs at the highest frequency is type $4$, so we print $4$ as our answer.\n",
    "\n",
    "<b>Sample Input 1</b>\n",
    "\n",
    "<code>     11\n",
    "     1 2 3 4 5 4 3 2 1 3 4</code>\n",
    "\n",
    "<b>Sample Output 1</b>\n",
    "\n",
    "<code>     3</code>\n",
    "\n",
    "<b>Explanation 1</b>\n",
    "\n",
    "The different types of birds occur in the following frequencies:\n",
    "\n",
    "- Type $1$: $2$ birds\n",
    "- Type $2$: $2$ birds\n",
    "- Type $3$: $3$ birds\n",
    "- Type $4$: $3$ birds\n",
    "- Type $5$: $4$ birds\n",
    "\n",
    "Two types have a frequency of $3$, and the lower of those is type $3$.\n",
    "\n",
    "---"
   ]
  },
  {
   "cell_type": "markdown",
   "metadata": {},
   "source": [
    "## Solution\n",
    "\n",
    "Go to this [link](https://www.geeksforgeeks.org/python-find-most-frequent-element-in-a-list/) to see an explanation of how to find most frequent element in a list."
   ]
  },
  {
   "cell_type": "code",
   "execution_count": 1,
   "metadata": {},
   "outputs": [
    {
     "name": "stdout",
     "output_type": "stream",
     "text": [
      "6\n",
      "1 4 4 4 5 3\n",
      "4\n"
     ]
    }
   ],
   "source": [
    "#!/bin/python3\n",
    "\n",
    "import math\n",
    "import os\n",
    "import random\n",
    "import re\n",
    "import sys\n",
    "\n",
    "#\n",
    "# Complete the 'migratoryBirds' function below.\n",
    "#\n",
    "# The function is expected to return an INTEGER.\n",
    "# The function accepts INTEGER_ARRAY arr as parameter.\n",
    "#\n",
    "\n",
    "def migratoryBirds(arr):\n",
    "    # Write your code here\n",
    "    print(max(set(arr), key = arr.count))\n",
    "\n",
    "if __name__ == '__main__':\n",
    "\n",
    "    arr_count = int(input().strip())\n",
    "\n",
    "    arr = list(map(int, input().rstrip().split()))\n",
    "\n",
    "    migratoryBirds(arr)"
   ]
  },
  {
   "cell_type": "code",
   "execution_count": null,
   "metadata": {},
   "outputs": [],
   "source": []
  }
 ],
 "metadata": {
  "kernelspec": {
   "display_name": "Python 3 (ipykernel)",
   "language": "python",
   "name": "python3"
  },
  "language_info": {
   "codemirror_mode": {
    "name": "ipython",
    "version": 3
   },
   "file_extension": ".py",
   "mimetype": "text/x-python",
   "name": "python",
   "nbconvert_exporter": "python",
   "pygments_lexer": "ipython3",
   "version": "3.9.7"
  }
 },
 "nbformat": 4,
 "nbformat_minor": 4
}
