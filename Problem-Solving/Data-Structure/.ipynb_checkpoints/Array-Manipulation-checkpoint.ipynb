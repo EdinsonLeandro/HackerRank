{
 "cells": [
  {
   "cell_type": "markdown",
   "metadata": {},
   "source": [
    "# Array Manipulation\n",
    "\n",
    "Follow this [link](https://www.hackerrank.com/challenges/crush/problem) to read the challenge in HackerRank web.\n",
    "\n",
    "---"
   ]
  },
  {
   "cell_type": "markdown",
   "metadata": {},
   "source": [
    "Starting with a 1-indexed array of zeros and a list of operations, for each operation add a value to each the array element between two given indices, inclusive. Once all operations have been performed, return the maximum value in the array.\n",
    "\n",
    "<b>Example</b>\n",
    "\n",
    "$n=10$\n",
    "\n",
    "$queries = [ [1,5,3] , [4,8,7] , [6,9,1]]$\n",
    "\n",
    "Queries are interpreted as follows:\n",
    "\n",
    "<code>    a b k\n",
    "    1 5 3\n",
    "    4 8 7\n",
    "    6 9 1</code>\n",
    "    \n",
    "Add the values of $k$ between the indices $a$ and $b$ inclusive:\n",
    "\n",
    "<code>index->\t 1  2  3  4  5  6  7  8  9  10\n",
    "            [0, 0, 0, 0, 0, 0, 0, 0, 0, 0]\n",
    "\t        [3, 3, 3, 3, 3, 0, 0, 0, 0, 0]\n",
    "\t        [3, 3, 3,10,10, 7, 7, 7, 0, 0]\n",
    "\t        [3, 3, 3,10,10, 8, 8, 8, 1, 0]</code>\n",
    "\n",
    "The largest value is $10$ after all operations are performed.\n",
    "\n",
    "<b>Function Description</b>\n",
    "\n",
    "Complete the function arrayManipulation in the editor below.\n",
    "\n",
    "arrayManipulation has the following parameters:\n",
    "\n",
    "- int n - the number of elements in the array.\n",
    "- int queries[q][3] - a two dimensional array of queries where each queries[i] contains three integers, a, b, and k.\n",
    "\n",
    "<b>Returns</b>\n",
    "\n",
    "- int - the maximum value in the resultant array\n",
    "\n",
    "<b>Input Format</b>\n",
    "\n",
    "The first line contains two space-separated integers $n$ and $m$, the size of the array and the number of operations.\n",
    "Each of the next $m$ lines contains three space-separated integers $a$, $b$ and $k$, the left index, right index and summand.\n",
    "\n",
    "<b>Constraints</b>\n",
    "- $3 \\leq n \\leq 10^7 $\n",
    "- $1 \\leq m \\leq 2*10^5 $\n",
    "- $1 \\leq a \\leq b \\leq n$\n",
    "- $0 \\leq k \\leq 10^9 $\n",
    "\n",
    "<b>Sample Input 1</b>\n",
    "\n",
    "<code>     5 3\n",
    "     1 2 100\n",
    "     2 5 100\n",
    "     3 4 100</code>\n",
    "    \n",
    "<b>Sample Output 1</b>\n",
    "\n",
    "<code>     200</code>\n",
    "    \n",
    "<b>Explanation 1</b>\n",
    "\n",
    "After the first update the list is <code>100  100  0  0  0</code>.\n",
    "\n",
    "After the second update list is <code>100  200  100  100  100</code>.\n",
    "\n",
    "After the third update list is <code>100  200  200  200  100</code>.\n",
    "\n",
    "The maximum value is $200$.\n",
    "\n",
    "---"
   ]
  },
  {
   "cell_type": "markdown",
   "metadata": {},
   "source": [
    "## Solution.\n"
   ]
  },
  {
   "cell_type": "code",
   "execution_count": 8,
   "metadata": {
    "scrolled": true
   },
   "outputs": [
    {
     "name": "stdout",
     "output_type": "stream",
     "text": [
      "5 3\n",
      "1 2 100\n",
      "2 5 100\n",
      "3 4 100\n",
      "200\n"
     ]
    }
   ],
   "source": [
    "def arrayManipulation(n, queries):\n",
    "    result = [0]*n\n",
    "    \n",
    "    # Number of operations:\n",
    "    m = len(queries)\n",
    "    \n",
    "    for i in range(m):\n",
    "        # Read left index, right index and summand (a, b, k)\n",
    "        a, b, k = queries[i][0], queries[i][1], queries[i][2]\n",
    "\n",
    "        result[a-1 : b] = map(lambda x: x + k, result[a-1 : b])\n",
    "\n",
    "    print(max(result))\n",
    "    \n",
    "    \n",
    "if __name__ == '__main__':\n",
    "    nm = input().split()\n",
    "\n",
    "    n = int(nm[0])\n",
    "\n",
    "    m = int(nm[1])\n",
    "\n",
    "    queries = []\n",
    "\n",
    "    for _ in range(m):\n",
    "        queries.append(list(map(int, input().rstrip().split())))\n",
    "    \n",
    "    arrayManipulation(n, queries)"
   ]
  },
  {
   "cell_type": "code",
   "execution_count": null,
   "metadata": {},
   "outputs": [],
   "source": []
  },
  {
   "cell_type": "code",
   "execution_count": 56,
   "metadata": {},
   "outputs": [],
   "source": [
    "import math"
   ]
  },
  {
   "cell_type": "code",
   "execution_count": 32,
   "metadata": {},
   "outputs": [],
   "source": [
    "def prefix_sum_array(arr):\n",
    "    # Add present element with previous element\n",
    "    for i in range(1, len(arr)):\n",
    "        arr[i] += arr[i - 1]\n",
    "    \n",
    "    return arr\n",
    "\n",
    "\n",
    "def arrayManipulation(n, queries):\n",
    "    result = [0]*(n+2)\n",
    "    \n",
    "    # Number of operations\n",
    "    m = len(queries)\n",
    "    \n",
    "    for i in range(m):\n",
    "        # Read left index, right index and summand (a, b, k)\n",
    "        a, b, k = queries[i][0], queries[i][1], int(queries[i][2])\n",
    "        \n",
    "        result[a] = result[a] + k\n",
    "        result[b+1] = result[b+1] - k\n",
    "\n",
    "    print(max(prefix_sum_array(result)))\n",
    "\n",
    "    \n",
    "# if __name__ == '__main__':\n",
    "#     nm = input().split()\n",
    "\n",
    "#     n = int(nm[0])\n",
    "\n",
    "#     m = int(nm[1])\n",
    "\n",
    "#     queries = []\n",
    "\n",
    "#     for _ in range(m):\n",
    "#         queries.append(list(map(int, input().rstrip().split())))\n",
    "    \n",
    "#     arrayManipulation(n, queries)"
   ]
  },
  {
   "cell_type": "code",
   "execution_count": null,
   "metadata": {},
   "outputs": [],
   "source": []
  },
  {
   "cell_type": "code",
   "execution_count": 20,
   "metadata": {},
   "outputs": [],
   "source": [
    "import math"
   ]
  },
  {
   "cell_type": "code",
   "execution_count": 31,
   "metadata": {},
   "outputs": [
    {
     "data": {
      "text/plain": [
       "4.9560627264776524"
      ]
     },
     "execution_count": 31,
     "metadata": {},
     "output_type": "execute_result"
    }
   ],
   "source": [
    "math.log(90378, 10)"
   ]
  },
  {
   "cell_type": "code",
   "execution_count": 29,
   "metadata": {},
   "outputs": [
    {
     "data": {
      "text/plain": [
       "90378"
      ]
     },
     "execution_count": 29,
     "metadata": {},
     "output_type": "execute_result"
    }
   ],
   "source": [
    "round(10**4.9560627264776524)"
   ]
  },
  {
   "cell_type": "code",
   "execution_count": null,
   "metadata": {},
   "outputs": [],
   "source": []
  },
  {
   "cell_type": "code",
   "execution_count": null,
   "metadata": {},
   "outputs": [],
   "source": []
  },
  {
   "cell_type": "code",
   "execution_count": null,
   "metadata": {},
   "outputs": [],
   "source": []
  },
  {
   "cell_type": "code",
   "execution_count": 2,
   "metadata": {},
   "outputs": [],
   "source": [
    "queries_test = []\n",
    "\n",
    "with open('test_case.txt','r') as file:\n",
    "    while True:\n",
    "        line = file.readline()\n",
    "        if line:\n",
    "            queries_test.append(list(map(int, line[:-1].split(\" \"))))\n",
    "        else:\n",
    "            break"
   ]
  },
  {
   "cell_type": "code",
   "execution_count": null,
   "metadata": {},
   "outputs": [],
   "source": []
  },
  {
   "cell_type": "code",
   "execution_count": 3,
   "metadata": {},
   "outputs": [],
   "source": [
    "import numpy as np\n",
    "queries2_array = np.array(queries_test)"
   ]
  },
  {
   "cell_type": "code",
   "execution_count": 4,
   "metadata": {},
   "outputs": [
    {
     "data": {
      "text/plain": [
       "(100000, 3)"
      ]
     },
     "execution_count": 4,
     "metadata": {},
     "output_type": "execute_result"
    }
   ],
   "source": [
    "queries2_array.shape"
   ]
  },
  {
   "cell_type": "code",
   "execution_count": 33,
   "metadata": {},
   "outputs": [
    {
     "name": "stdout",
     "output_type": "stream",
     "text": [
      "2497098385\n"
     ]
    }
   ],
   "source": [
    "# It takes too much time. I don't know yet how to solve it.\n",
    "# It is related with the size of array, not with the number of operations.\n",
    "\n",
    "arrayManipulation(10000000, queries2_array)"
   ]
  },
  {
   "cell_type": "code",
   "execution_count": null,
   "metadata": {},
   "outputs": [],
   "source": [
    "# 2497098385\n",
    "# 2497169732 -> target"
   ]
  },
  {
   "cell_type": "code",
   "execution_count": null,
   "metadata": {},
   "outputs": [],
   "source": [
    "# https://www.youtube.com/watch?v=hDhf04AJIRs&feature=youtu.be\n",
    "# https://www.geeksforgeeks.org/prefix-sum-array-implementation-applications-competitive-programming/"
   ]
  }
 ],
 "metadata": {
  "kernelspec": {
   "display_name": "Python 3 (ipykernel)",
   "language": "python",
   "name": "python3"
  },
  "language_info": {
   "codemirror_mode": {
    "name": "ipython",
    "version": 3
   },
   "file_extension": ".py",
   "mimetype": "text/x-python",
   "name": "python",
   "nbconvert_exporter": "python",
   "pygments_lexer": "ipython3",
   "version": "3.9.7"
  }
 },
 "nbformat": 4,
 "nbformat_minor": 4
}
