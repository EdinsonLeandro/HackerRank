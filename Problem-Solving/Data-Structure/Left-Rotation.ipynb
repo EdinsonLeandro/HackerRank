{
 "cells": [
  {
   "cell_type": "markdown",
   "id": "9ffa6a98",
   "metadata": {},
   "source": [
    "# Left Rotation\n",
    "\n",
    "Follow this [link](https://www.hackerrank.com/challenges/array-left-rotation/problem) to read the challenge in HackerRank web.\n",
    "\n",
    "---"
   ]
  },
  {
   "cell_type": "markdown",
   "id": "d0ce4adb",
   "metadata": {},
   "source": [
    "A left rotation operation on an array of size $n$ shifts each of the array's elements $1$ unit to the left. Given an integer, $d$, rotate the array that many steps left and return the result.\n",
    "\n",
    "<b>Example</b>\n",
    "\n",
    "$d = 2$\n",
    "\n",
    "$arr = [1,2,3,4,5]$\n",
    "\n",
    "After $2$ rotations, $arr' = [3,4,5,1,2]$.\n",
    "\n",
    "<b>Function Description</b>\n",
    "\n",
    "Complete the rotateLeft function in the editor below.\n",
    "\n",
    "rotateLeft has the following parameters:\n",
    "\n",
    "- int d: the amount to rotate by\n",
    "- int arr[n]: the array to rotate\n",
    "\n",
    "<b>Returns</b>\n",
    "\n",
    "- int[n]: the rotated array.\n",
    "\n",
    "<b>Input Format</b>\n",
    "\n",
    "The first line contains two space-separated integers that denote $n$, the number of integers, and $d$, the number of left rotations to perform.\n",
    "\n",
    "The second line contains  space-separated integers that describe $arr[]$.\n",
    "\n",
    "<b>Constraints</b>\n",
    "- $1 \\leq n \\leq 10^5 $\n",
    "- $1 \\leq d \\leq n $\n",
    "- $1 \\leq a[i] \\leq 10^6 $\n",
    "\n",
    "<b>Sample Input 0</b>\n",
    "\n",
    "<code>5 4\n",
    "1 2 3 4 5</code>\n",
    "    \n",
    "<b>Sample Output 0</b>\n",
    "\n",
    "<code>5 1 2 3 4<code>\n",
    "    \n",
    "<b>Explanation</b>\n",
    "\n",
    "To perform $d=4$ left rotations, the array undergoes the following sequence of changes:\n",
    "\n",
    "\\begin{equation}\n",
    "[1,2,3,4,5] \\rightarrow [2,3,4,5,1] \\rightarrow [3,4,5,1,2] \\rightarrow [4,5,1,2,3] \\rightarrow [5,1,2,3,4]\n",
    "\\end{equation}"
   ]
  },
  {
   "cell_type": "code",
   "execution_count": 2,
   "id": "a128a043",
   "metadata": {},
   "outputs": [
    {
     "name": "stdout",
     "output_type": "stream",
     "text": [
      "5 4\n",
      "1 2 3 4 5\n",
      "5 1 2 3 4\n"
     ]
    }
   ],
   "source": [
    "def left_rotation(a,d):\n",
    "    # a: List with elements to be rotated\n",
    "    # d: number of  rotations\n",
    "    \n",
    "    for item in range(d):\n",
    "        number_rotated = a.pop(0)\n",
    "        a.append(number_rotated)\n",
    "    \n",
    "    return a\n",
    "\n",
    "if __name__ == '__main__':\n",
    "    nd = input().split()\n",
    "\n",
    "    n = int(nd[0])\n",
    "\n",
    "    d = int(nd[1])\n",
    "\n",
    "    a = list(map(int, input().rstrip().split()))\n",
    "\n",
    "    mylist = left_rotation(a,d)\n",
    "\n",
    "    print(*mylist, sep=' ')"
   ]
  },
  {
   "cell_type": "code",
   "execution_count": null,
   "id": "b0130c8f",
   "metadata": {},
   "outputs": [],
   "source": []
  }
 ],
 "metadata": {
  "kernelspec": {
   "display_name": "Python 3 (ipykernel)",
   "language": "python",
   "name": "python3"
  },
  "language_info": {
   "codemirror_mode": {
    "name": "ipython",
    "version": 3
   },
   "file_extension": ".py",
   "mimetype": "text/x-python",
   "name": "python",
   "nbconvert_exporter": "python",
   "pygments_lexer": "ipython3",
   "version": "3.9.7"
  }
 },
 "nbformat": 4,
 "nbformat_minor": 5
}
