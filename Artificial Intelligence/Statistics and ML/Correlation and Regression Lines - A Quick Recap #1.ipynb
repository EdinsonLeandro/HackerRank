{
 "cells": [
  {
   "cell_type": "markdown",
   "metadata": {},
   "source": [
    "# Correlation and Regression Lines - A Quick Recap #1\n",
    "\n",
    "Follow this [link](https://www.hackerrank.com/challenges/correlation-and-regression-lines-6/problem) to read the challenge in HackerRank web.\n",
    "\n",
    "---"
   ]
  },
  {
   "cell_type": "markdown",
   "metadata": {},
   "source": [
    "## Problem.\n",
    "\n",
    "Here are the test scores of 10 students in physics and history:\n",
    "\n",
    "<code>Physics Scores  15  12  8   8   7   7   7   6   5   3\n",
    "History Scores  10  25  17  11  13  17  20  13  9   15</code>\n",
    "\n",
    "Compute Karl Pearson’s coefficient of correlation between these scores.\n",
    "\n",
    "Compute the answer correct to three decimal places.\n",
    "\n",
    "\n",
    "<b>Output Format</b>\n",
    "\n",
    "In the text box, using the language of your choice, print the floating point/decimal value required. Do not leave any leading or trailing spaces.\n",
    "\n",
    "For example, if your answer is 0.255. In python you can print using\n",
    "\n",
    "<code>print(\"0.255\")</code>\n",
    "\n",
    "This is <b>NOT</b> the actual answer - just the format in which you should provide your answer.\n",
    "\n",
    "---"
   ]
  },
  {
   "cell_type": "markdown",
   "metadata": {},
   "source": [
    "## Solution.\n",
    "According to HackerRank conditions, this challenge has to be solve it from scratch. Even though, you can also use <b>numpy</b> package.\n",
    "\n",
    "Pearson Coefficient or Sample Correlation is defined by the following equation:\n",
    "\n",
    "\\begin{equation}\n",
    "p = \\frac{Cov(X,Y)}{Std(X) * Std(Y)}\n",
    "\\end{equation}\n",
    "\n",
    "In order to compute <b>from scratch</b>, the equation above is equivalent to:\n",
    "\n",
    "\\begin{equation}\n",
    "p = \\frac{\\displaystyle\\sum_{i=1}^{N} [(X_i - mean(X_i)) * (Y_i - mean(Y_i)]}{\\sqrt{\\displaystyle\\sum_{i=1}^{N}[(X_i - mean(X_i)]^2} * \\sqrt{\\displaystyle\\sum_{i=1}^{N}[(Y_i - mean(Y_i)]^2}}\n",
    "\\end{equation}\n"
   ]
  },
  {
   "cell_type": "code",
   "execution_count": 1,
   "metadata": {},
   "outputs": [
    {
     "name": "stdout",
     "output_type": "stream",
     "text": [
      "0.145\n"
     ]
    }
   ],
   "source": [
    "# Enter your code here. Read input from STDIN. Print output to STDOUT\n",
    "\n",
    "# Pearson Coefficient or Sample Correlation:\n",
    "# It is defined as:             Cov(X,Y) \n",
    "#                          ----------------\n",
    "#                           Std(X) * Std(Y)\n",
    "\n",
    "# The formula above is the same of this equation:\n",
    "\n",
    "#              sum[ (Xi - mean(Xi)) * (Yi - mean(Yi)) ]\n",
    "# -----------------------------------------------------------------\n",
    "# sqrt{sum[ (Xi - mean(Xi))**2 )]* sqrt[sum( (Yi - mean(Yi))**2 ) ] } \n",
    "\n",
    "# From scratch\n",
    "\n",
    "X = [15, 12, 8, 8, 7, 7, 7, 6, 5, 3]              # physics\n",
    "Y = [10, 25, 17, 11, 13, 17, 20, 13, 9, 15]       # history\n",
    "\n",
    "# Mean calculation\n",
    "meanXY = [sum(X) / len(X), sum(Y) / len(Y)]\n",
    "\n",
    "# Deviation of each item from the mean. The lambda function is for substract each element from list by mean value\n",
    "deviationX = list(map(lambda x : x - meanXY[0], X))\n",
    "deviationY = list(map(lambda y : y - meanXY[1], Y))\n",
    "\n",
    "# Covariance. The lambda function is for multiply each element from two list. Then sum all the elements from results.\n",
    "cov = sum(list(map(lambda x,y: x*y, deviationX, deviationY)))\n",
    "\n",
    "# Standard deviation. Exponent 0.5 is square root.\n",
    "# The lambda function is to square each element from \"deviation\" lists.\n",
    "std_X = ( sum(list( map(lambda x : x**2, deviationX) )) )**0.5\n",
    "std_Y = ( sum(list( map(lambda y : y**2, deviationY) )) )**0.5\n",
    "\n",
    "pearson = cov / (std_X * std_Y)\n",
    "\n",
    "# Print result\n",
    "print(round(pearson,3))"
   ]
  },
  {
   "cell_type": "code",
   "execution_count": null,
   "metadata": {},
   "outputs": [],
   "source": []
  }
 ],
 "metadata": {
  "kernelspec": {
   "display_name": "Python 3",
   "language": "python",
   "name": "python3"
  },
  "language_info": {
   "codemirror_mode": {
    "name": "ipython",
    "version": 3
   },
   "file_extension": ".py",
   "mimetype": "text/x-python",
   "name": "python",
   "nbconvert_exporter": "python",
   "pygments_lexer": "ipython3",
   "version": "3.8.5"
  }
 },
 "nbformat": 4,
 "nbformat_minor": 4
}
