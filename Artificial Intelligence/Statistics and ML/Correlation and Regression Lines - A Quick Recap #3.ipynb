{
 "cells": [
  {
   "cell_type": "markdown",
   "metadata": {},
   "source": [
    "# Correlation and Regression Lines - A Quick Recap #3\n",
    "\n",
    "Follow this [link](https://www.hackerrank.com/challenges/correlation-and-regression-lines-8/problem) to read the challenge in HackerRank web.\n",
    "\n",
    "---"
   ]
  },
  {
   "cell_type": "markdown",
   "metadata": {},
   "source": [
    "## Problem.\n",
    "\n",
    "Here are the test scores of 10 students in physics and history:\n",
    "\n",
    "<code>Physics Scores  15  12  8   8   7   7   7   6   5   3\n",
    "History Scores  10  25  17  11  13  17  20  13  9   15</code>\n",
    "\n",
    "When a student scores 10 in Physics, what is his probable score in History? Compute the answer correct to one decimal place.\n",
    "\n",
    "\n",
    "<b>Output Format</b>\n",
    "\n",
    "In the text box, enter the floating point/decimal value required. Do not leave any leading or trailing spaces. Your answer may look like: 5.5\n",
    "\n",
    "This is <b>NOT</b> the actual answer - just the format in which you should provide your answer.\n",
    "\n",
    "---"
   ]
  },
  {
   "cell_type": "markdown",
   "metadata": {},
   "source": [
    "## Solution.\n",
    "According to HackerRank conditions, this challenge has to be solve it from scratch. Even though, you can also use <b>numpy</b> package.\n",
    "\n",
    "In order to get the probable score in History, first we have to compute the slope and intercept of the line of regression. After, we use the equation $y = mx + b$, where $x$ is the physics value and $y$ would be the history score.\n",
    "\n",
    "- The slope of the line of regression ($y = mx + b$) is defined by the following equation:\n",
    "\n",
    "\\begin{equation}\n",
    "m = \\frac{Cov(X,Y)}{Var(X)}\n",
    "\\end{equation}\n",
    "\n",
    "    In order to compute from scratch, the equation above is equivalent to:\n",
    "\n",
    "\\begin{equation}\n",
    "m = \\frac{\\displaystyle\\sum_{i=1}^{N} [(X_i - mean(X_i)) * (Y_i - mean(Y_i)]}{\\displaystyle\\sum_{i=1}^{N}[(X_i - mean(X_i)]^2}\n",
    "\\end{equation}\n",
    "\n",
    "- The intercept of the line of regression ($y = mx + b$) is defined by the following equation:\n",
    "\n",
    "\\begin{equation}\n",
    "b = \\overline{Y} - m \\overline{X}\n",
    "\\end{equation}\n"
   ]
  },
  {
   "cell_type": "code",
   "execution_count": 1,
   "metadata": {},
   "outputs": [
    {
     "name": "stdout",
     "output_type": "stream",
     "text": [
      "15.5\n"
     ]
    }
   ],
   "source": [
    "# Enter your code here. Read input from STDIN. Print output to STDOUT\n",
    "X = [15, 12, 8, 8, 7, 7, 7, 6, 5, 3]              # physics. Independent variable.\n",
    "Y = [10, 25, 17, 11, 13, 17, 20, 13, 9, 15]       # history. Dependent variable.\n",
    "\n",
    "# Mean calculation\n",
    "meanXY = [sum(X) / len(X), sum(Y) / len(Y)]\n",
    "\n",
    "# Deviation of each item from the mean. The lambda function is for substract each element from list by mean value\n",
    "deviationX = list(map(lambda x : x - meanXY[0], X))\n",
    "deviationY = list(map(lambda y : y - meanXY[1], Y))\n",
    "\n",
    "# Covariance. The lambda function is for multiply each element from two list. Then sum all the elements from results.\n",
    "cov = sum(list(map(lambda x,y: x*y, deviationX, deviationY)))\n",
    "\n",
    "# Variance of independent variable.\n",
    "# The lambda function is to square each element from \"deviation\" lists.\n",
    "var_X = sum(list( map(lambda x : x**2, deviationX) ))\n",
    "\n",
    "# Slope and intercept of the line of regression\n",
    "slope = cov / var_X\n",
    "intercept = meanXY[1] - slope*meanXY[0]\n",
    "\n",
    "# Compute the value of History (dependent value) when Physics (independent value) is equal to 10\n",
    "# y = mx + b\n",
    "value = slope * 10 + intercept\n",
    "\n",
    "# Print result\n",
    "print(round(value,1))"
   ]
  },
  {
   "cell_type": "code",
   "execution_count": null,
   "metadata": {},
   "outputs": [],
   "source": []
  }
 ],
 "metadata": {
  "kernelspec": {
   "display_name": "Python 3",
   "language": "python",
   "name": "python3"
  },
  "language_info": {
   "codemirror_mode": {
    "name": "ipython",
    "version": 3
   },
   "file_extension": ".py",
   "mimetype": "text/x-python",
   "name": "python",
   "nbconvert_exporter": "python",
   "pygments_lexer": "ipython3",
   "version": "3.8.5"
  }
 },
 "nbformat": 4,
 "nbformat_minor": 4
}
