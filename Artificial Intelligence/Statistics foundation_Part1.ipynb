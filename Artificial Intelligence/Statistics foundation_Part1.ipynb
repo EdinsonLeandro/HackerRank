{
 "cells": [
  {
   "cell_type": "markdown",
   "metadata": {},
   "source": [
    "# Probability & Statistics foundation. Part 1.\n",
    "\n",
    "In this notebook, you can find the explanation of the following challenges:\n",
    "- Day 6: Correlation and Regression Lines #2.\n",
    "---"
   ]
  },
  {
   "cell_type": "markdown",
   "metadata": {},
   "source": [
    "## Day 6: Correlation and Regression Lines #2"
   ]
  },
  {
   "cell_type": "markdown",
   "metadata": {},
   "source": [
    "<b>Objective</b>\n",
    "\n",
    "In this challenge, we practice calculating the slope of regression lines.\n",
    "\n",
    "\n",
    "<b>Task</b>\n",
    "\n",
    "There are $2$ series of data involving index numbers: $P$ for price index and $S$ for the commodity stock.\n",
    "\n",
    "The mean and standard deviation of $P$ are $100$ and $8$, respectively.\n",
    "\n",
    "The mean and standard deviation of $S$ are $103$ and $4$, respectively.\n",
    "\n",
    "The $R^2$ correlation coefficient between the two series is $0.4$.\n",
    "\n",
    "With this data, obtain the slope of the regression line of $P$ on $S$, correct to a scale of $2$ decimal places.\n",
    "\n",
    "\n",
    "<b>Output Format</b>\n",
    "\n",
    "Your answer should be a single floating point/decimal number, correct to a scale of $2$ decimal places. You can submit solutions in either of the $2$ following ways:\n",
    "\n",
    "1. Solve the problem manually and submit your result as Plain Text. In the text box below, enter a single floating point/decimal number.\n",
    "2. Submit an R or Python program, which uses the above parameters (hard-coded), then computes and prints the score.\n",
    "\n",
    "Your answer should follow the format below, and must not contain any extra white space or newline characters:\n",
    "\n",
    "<code>1.14</code>"
   ]
  },
  {
   "cell_type": "markdown",
   "metadata": {},
   "source": [
    "### Solution.\n",
    "The input data is mean and standard deviations of two variables $P$ and $S$ and square of its pearson correlation coefficient. Implicitly, we have variance beacause, as we know, standard deviation is the square root of the variance.\n",
    "\n",
    "Due the objective is obtain the slope of the regression line of $P$ on $S$, we can say that $P$ is the independent variable and $S$ is dependent variable. This is key in order to define $Var(y)$ and $Var(x)$ in the following equation:\n",
    "\n",
    "\\begin{equation}\n",
    "b = r * \\sqrt{\\frac{Var(y)}{Var(x)}}\n",
    "\\end{equation}\n",
    "\n",
    "This equation relates the slope of the regression line with pearson correlation coefficient and the variance of $X$ - $Y$ variables. You can find more information [here](http://nitro.biosci.arizona.edu/courses/EEB581-2006/handouts/bivdistrib.pdf). Where:\n",
    "\n",
    "1. $b$ is slope.\n",
    "2. $r$ is pearson correlation coefficient.\n",
    "3. $Var(x)$ and $Var(y)$ are the variance of $X$ - $Y$ variables."
   ]
  },
  {
   "cell_type": "code",
   "execution_count": 1,
   "metadata": {},
   "outputs": [
    {
     "name": "stdout",
     "output_type": "stream",
     "text": [
      "1.26\n"
     ]
    }
   ],
   "source": [
    "# Enter your code here. Read input from STDIN. Print output to STDOUT\n",
    "\n",
    "# Input data\n",
    "mean_std_P = [100, 8]\n",
    "mean_std_S = [103, 4]\n",
    "R2 = 0.4\n",
    "\n",
    "# Standard deviation is the square root of the variance.\n",
    "\n",
    "# We have to obtain the slope of the regression line of P on S.\n",
    "# Therefore, Price index (P) is in y-axis and Commodity Stock (S) in x-axis.\n",
    "\n",
    "# The least-squares regression coefficient is related to the correlation coefficient by: \n",
    "# b = r * sqrt(Var(y) / Var(x))\n",
    "\n",
    "# variance = [Var(x), Var(y)]\n",
    "variance = [mean_std_S[1]**(2), mean_std_P[1]**(2)]\n",
    "\n",
    "# Pearson correlation\n",
    "r = R2**(1/2)\n",
    "\n",
    "# Slope of the regression line\n",
    "b = r * ((variance[1] / variance[0])**(1/2))\n",
    "\n",
    "# Print result rounded to 2 decimals places.\n",
    "print(round(b,2))"
   ]
  },
  {
   "cell_type": "code",
   "execution_count": null,
   "metadata": {},
   "outputs": [],
   "source": []
  },
  {
   "cell_type": "code",
   "execution_count": null,
   "metadata": {},
   "outputs": [],
   "source": []
  },
  {
   "cell_type": "code",
   "execution_count": null,
   "metadata": {},
   "outputs": [],
   "source": []
  }
 ],
 "metadata": {
  "kernelspec": {
   "display_name": "Python 3",
   "language": "python",
   "name": "python3"
  },
  "language_info": {
   "codemirror_mode": {
    "name": "ipython",
    "version": 3
   },
   "file_extension": ".py",
   "mimetype": "text/x-python",
   "name": "python",
   "nbconvert_exporter": "python",
   "pygments_lexer": "ipython3",
   "version": "3.8.5"
  }
 },
 "nbformat": 4,
 "nbformat_minor": 4
}
