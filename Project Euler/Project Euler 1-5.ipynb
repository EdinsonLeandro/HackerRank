{
 "cells": [
  {
   "cell_type": "markdown",
   "metadata": {},
   "source": [
    "# Project Euler #1: Multiples of 3 and 5"
   ]
  },
  {
   "cell_type": "markdown",
   "metadata": {},
   "source": [
    "If we list all the natural numbers below <b>10</b> that are multiples of <b>3</b> or <b>5</b>, we get <b>3, 5, 6</b> and <b>9</b>. The sum of these multiples is <b>23</b>. Find the sum of all the multiples of <b>3</b> or <b>5</b> below <b>N</b>.\n",
    "\n",
    "<b>Input Format</b>\n",
    "\n",
    "First line contains <b>T</b> that denotes the number of test cases. This is followed by <b>T</b> lines, each containing an integer, <b>N</b>.\n",
    "\n",
    "\n",
    "<b>Constraints</b>\n",
    "- $1 \\leq T \\leq 10^5$\n",
    "- $1 \\leq N \\leq 10^9$\n",
    "\n",
    "\n",
    "<b>Output Format</b>\n",
    "\n",
    "For each test case, print an integer that denotes the sum of all the multiples of <b>3</b> or <b>5</b> below <b>N</b>.\n",
    "\n",
    "\n",
    "<b>Sample Input 0</b>\n",
    "\n",
    "<code>2\n",
    " 10\n",
    " 100</code>\n",
    "\n",
    "\n",
    "<b>Sample Output 0</b>\n",
    "\n",
    "<code>23\n",
    " 2318</code>\n",
    "\n",
    "\n",
    "<b>Explanation 0</b>\n",
    "\n",
    "For <b>N = 10</b>, if we list all the natural numbers below <b>10</b> that are multiples of <b>3</b> or <b>5</b>, we get <b>3, 5, 6</b> and <b>9</b>. The sum of these multiples is <b>23</b>.\n",
    "\n",
    "Similarly for <b>N = 100</b>, we get <b>2318</b>."
   ]
  },
  {
   "cell_type": "markdown",
   "metadata": {},
   "source": [
    "---\n",
    "\n",
    "### Solution:\n",
    "\n",
    "The multiples of $3$ below $N$ is an arithemtic progression with the following features:\n",
    "- Common difference: $d = 3$.\n",
    "- First term: $a_{1} = 3$.\n",
    "- Last term: $a_{n} = N$.\n",
    "\n",
    "Similar values applies for multiples of $5$ below $N$. Therefore, if we recall the equations from arithmetic progression:\n",
    "\n",
    "1. Sum of N terms:\n",
    "\\begin{equation}\n",
    "S_{n} = \\frac{(a_{1} + a_{n}) * n}{2}\n",
    "\\label{eq:eq1} \\tag{1}\n",
    "\\end{equation}\n",
    "\n",
    "2. Last term  $a_{n}$:\n",
    "\\begin{equation}\n",
    "a_{n} = a_{1} + (n - 1) * d\n",
    "\\label{eq:eq2} \\tag{2}\n",
    "\\end{equation}\n",
    "\n",
    "\n",
    "The last term $a_{n}$ will be the test case. The number of terms $n$ can be calculated by equation $\\eqref{eq:eq2}$. Finally, the solution is define a function to compute the sum of $n$ terms (multiples) of an arithmetic progression below the number $N$."
   ]
  },
  {
   "cell_type": "code",
   "execution_count": 1,
   "metadata": {},
   "outputs": [
    {
     "name": "stdin",
     "output_type": "stream",
     "text": [
      " 1\n",
      " 1000000000\n"
     ]
    },
    {
     "name": "stdout",
     "output_type": "stream",
     "text": [
      "233333333166666668\n"
     ]
    }
   ],
   "source": [
    "def euler1(a_n):\n",
    "    # The last term \"an\" will be the test case. The number of terms \"n \"is computed by Equation (2).\n",
    "    # First term \"a1\" and common difference \"r\" are equals and will be 3 or 5.\n",
    "    \n",
    "    # This function compute the sum of \"n\" terms (multiples) of an arithmetic progression below the number \"N\".\n",
    "    def sum_n_terms(an, r):\n",
    "        \"\"\" Use // operator in order to get integers\"\"\"\n",
    "        \n",
    "        # Round the last number of the arithmetic progression \"a_n_round\" that is multiple of \"r\" and near of \"an\".\n",
    "        a_n_round = ((an-1) // r) * r\n",
    "        \n",
    "        # Calculate n terms of the arithmetic progression:\n",
    "        n = (a_n_round - r) // r + 1\n",
    "        \n",
    "        Sn = ((r + a_n_round)*n) // 2\n",
    "        \n",
    "        return Sn\n",
    "    \n",
    "    # Sum arithmetic progression of multiples of 3 and 5.\n",
    "    Sn_3 = sum_n_terms(a_n, 3)    \n",
    "    Sn_5 = sum_n_terms(a_n, 5)\n",
    "    \n",
    "    # Substract the multiples of 15, in order to do not added twice the same number\n",
    "    Sn_15 = sum_n_terms(a_n, 15)\n",
    "    \n",
    "    print(Sn_3 + Sn_5 - Sn_15)\n",
    "\n",
    "    \n",
    "if __name__ == '__main__':\n",
    "\n",
    "    t = int(input().strip())\n",
    "    for a0 in range(t):\n",
    "        n = int(input().strip())\n",
    "        \n",
    "        # Call euler1 function\n",
    "        euler1(n)"
   ]
  },
  {
   "cell_type": "markdown",
   "metadata": {},
   "source": [
    "---"
   ]
  },
  {
   "cell_type": "markdown",
   "metadata": {},
   "source": [
    "--- "
   ]
  },
  {
   "cell_type": "markdown",
   "metadata": {},
   "source": [
    "--- "
   ]
  },
  {
   "cell_type": "markdown",
   "metadata": {},
   "source": [
    "# Project Euler #2: Even Fibonacci numbers"
   ]
  },
  {
   "cell_type": "markdown",
   "metadata": {},
   "source": [
    "Each new term in the Fibonacci sequence is generated by adding the previous two terms. By starting with <b>1</b> and <b>2</b>, the first <b>10</b> terms will be:\n",
    "\n",
    "<center> <b>1, 2, 3, 5, 8, 13, 21, 34, 55, 89, ...</b> </center>\n",
    "\n",
    "By considering the terms in the Fibonacci sequence whose values do not exceed <b>N</b>, find the sum of the even-valued terms.\n",
    "\n",
    "<b>Input Format</b>\n",
    "\n",
    "First line contains <b>T</b> that denotes the number of test cases. This is followed by <b>T</b> lines, each containing an integer, <b>N</b>.\n",
    "\n",
    "\n",
    "<b>Constraints</b>\n",
    "- $1 \\leq T \\leq 10^5$\n",
    "- $10 \\leq N \\leq 4 x 10^{16}$\n",
    "\n",
    "\n",
    "<b>Output Format</b>\n",
    "\n",
    "Print the required answer for each test case.\n",
    "\n",
    "\n",
    "<b>Sample Input 0</b>\n",
    "\n",
    "<code>2\n",
    " 10\n",
    " 100</code>\n",
    "\n",
    "\n",
    "<b>Sample Output 0</b>\n",
    "\n",
    "<code>10\n",
    " 44</code>\n",
    "\n",
    "\n",
    "<b>Explanation 0</b>\n",
    "\n",
    "For <b>N = 10</b>, we have <b>{2, 8}</b>, sum is <b>10</b>.\n",
    "For <b>N = 100</b>, we have <b>{2, 8, 34}</b>, sum is <b>44</b>."
   ]
  },
  {
   "cell_type": "markdown",
   "metadata": {},
   "source": [
    "---\n",
    "### Solution:\n",
    "The best way to compute the Fibonacci sequence is using <b>generator functions.</b>  Their are a special kind of function, because you can loop over like a list without store the contents in memory. Actually, this feature is very useful to improve the speed of code execution in large sequences.\n",
    "\n",
    "Here, I defined a generator function to compute each number in the Fibonacci sequences. Later, you can see two similar approach:\n",
    "1. Generate the entire Fibonnacci sequence below the input number $n$, filter the even terms with lambda function and then add the elements into the list filtered.\n",
    "\n",
    "2. For each Fibonacci number generated, check if it is even to keep it in a list and then sum the stored values.\n",
    "\n",
    "Both approach gives the same result."
   ]
  },
  {
   "cell_type": "code",
   "execution_count": 2,
   "metadata": {},
   "outputs": [
    {
     "name": "stdin",
     "output_type": "stream",
     "text": [
      " 1\n",
      " 100\n"
     ]
    },
    {
     "name": "stdout",
     "output_type": "stream",
     "text": [
      "44\n"
     ]
    }
   ],
   "source": [
    "### FIRST APPROACH\n",
    "\n",
    "def euler2(n):\n",
    "    \n",
    "    # Generator to compute fibonacci sequence\n",
    "    def genfibon(n):\n",
    "        \"\"\"\n",
    "        Generate a fibonnaci sequence up to n\n",
    "        \"\"\"\n",
    "        a = 1\n",
    "        b = 1\n",
    "        for i in range(n):\n",
    "            a,b = b,a+b\n",
    "            yield a\n",
    "\n",
    "    # Initialize generator\n",
    "    item=genfibon(100)\n",
    "\n",
    "    # First fibonacci number\n",
    "    number=0\n",
    "\n",
    "    # Initialize an empty list to keep the even numbers of the fibonacci sequence\n",
    "    fibo = []    \n",
    "    \n",
    "    while number < n:\n",
    "        number = next(item)\n",
    "        fibo.append(number)\n",
    "\n",
    "    # Remove the last item from the list because it does not meet the while condition\n",
    "    fibo.pop()\n",
    "\n",
    "    # From list \"fibo\", filter the even terms\n",
    "    fibo_even = list(filter(lambda x : x%2==0  , fibo))\n",
    "\n",
    "    # Print the sum of the even numbers of the fibonacci sequence\n",
    "    print(sum(fibo_even))\n",
    "\n",
    "if __name__ == '__main__':\n",
    "    t = int(input().strip())\n",
    "    for a0 in range(t):\n",
    "        n = int(input().strip())\n",
    "        euler2(n)"
   ]
  },
  {
   "cell_type": "code",
   "execution_count": 3,
   "metadata": {},
   "outputs": [
    {
     "name": "stdin",
     "output_type": "stream",
     "text": [
      " 1\n",
      " 100\n"
     ]
    },
    {
     "name": "stdout",
     "output_type": "stream",
     "text": [
      "44\n"
     ]
    }
   ],
   "source": [
    "### SECOND APPROACH\n",
    "\n",
    "def euler2(n):\n",
    "    \n",
    "    # Generator to compute fibonacci numbers\n",
    "    def genfibon(n):\n",
    "        \"\"\"\n",
    "        Generate a fibonnaci sequence up to n\n",
    "        \"\"\"\n",
    "        a = 1\n",
    "        b = 1\n",
    "        for i in range(n):\n",
    "            a,b = b,a+b\n",
    "            yield a\n",
    "\n",
    "    # Initialize generator\n",
    "    item=genfibon(100)\n",
    "\n",
    "    # First fibonacci number\n",
    "    number=0\n",
    "\n",
    "    # Initialize an empty list to keep the even numbers of the fibonacci sequence\n",
    "    fibo_even = []\n",
    "\n",
    "    while number < n:\n",
    "        number = next(item)\n",
    "        \n",
    "        # Check if the number is even to store into \"fibo_even\" list.\n",
    "        if number%2 == 0:\n",
    "            fibo_even.append(number)\n",
    "\n",
    "    # Remove the last item from the list because it does not meet the while condition\n",
    "    fibo_even.pop()\n",
    "\n",
    "    # Print the sum of the even numbers of the fibonacci sequence\n",
    "    print(sum(fibo_even))\n",
    "\n",
    "if __name__ == '__main__':\n",
    "    t = int(input().strip())\n",
    "    for a0 in range(t):\n",
    "        n = int(input().strip())\n",
    "        euler2(n)"
   ]
  },
  {
   "cell_type": "markdown",
   "metadata": {},
   "source": [
    "---\n",
    "---\n",
    "---"
   ]
  },
  {
   "cell_type": "markdown",
   "metadata": {},
   "source": [
    "# Project Euler #3: Largest prime factor"
   ]
  },
  {
   "cell_type": "code",
   "execution_count": null,
   "metadata": {},
   "outputs": [],
   "source": []
  }
 ],
 "metadata": {
  "kernelspec": {
   "display_name": "Python 3",
   "language": "python",
   "name": "python3"
  },
  "language_info": {
   "codemirror_mode": {
    "name": "ipython",
    "version": 3
   },
   "file_extension": ".py",
   "mimetype": "text/x-python",
   "name": "python",
   "nbconvert_exporter": "python",
   "pygments_lexer": "ipython3",
   "version": "3.8.5"
  }
 },
 "nbformat": 4,
 "nbformat_minor": 4
}
