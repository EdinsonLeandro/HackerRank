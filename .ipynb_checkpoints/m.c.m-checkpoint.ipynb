{
 "cells": [
  {
   "cell_type": "markdown",
   "metadata": {},
   "source": [
    "#### Problema\n",
    "El usuario introducirá tres números enteros (positivos, de no más de 5 cifras), uno en cada línea. Tu programa debe mostrar el mínimo común múltiplo de esos tres números.\n",
    "\n",
    "Cuidado: Como suele ocurrir en los retos de programación, hay que seguir exactamente las entradas y salidas (mira el ejemplo): NO es un programa interactivo, no debe avisar al usuario frases como \"Introduce un número\" o \"Dame un número\". Sólo debe tomar tres datos numéricos enteros de la entrada estándar, analizarlos y mostrar un resultado que también será un número entero. Tampoco debe responder a nada similar a \"Tu resultado es:\", ni comprobar si los números tienen menos de 6 cifras (esa información es para que escojas el tipo de datos adecuado). Del mismo modo, no debe existir ninguna pausa antes ni después de la ejecución del programa."
   ]
  },
  {
   "cell_type": "code",
   "execution_count": 4,
   "metadata": {},
   "outputs": [],
   "source": [
    "def primes_number(n):\n",
    "    # Calculate primes numbers between te set [2, n] using the Sieve of Eratosthenes algorithm\n",
    "    \n",
    "    mylist = []\n",
    "    primes = []\n",
    "    \n",
    "    #list of the numbers\n",
    "    for item in range(2,n+1):\n",
    "        mylist.append(item)\n",
    "\n",
    "    div=2\n",
    "    while div**2 < n:\n",
    "        mylist = list(filter(lambda item:item%div!=0,mylist))\n",
    "        primes.append(div)\n",
    "        div = mylist[0]\n",
    "    \n",
    "    primes += mylist\n",
    "    \n",
    "    return primes"
   ]
  },
  {
   "cell_type": "code",
   "execution_count": 7,
   "metadata": {},
   "outputs": [
    {
     "data": {
      "text/plain": [
       "[2, 3, 5, 7]"
      ]
     },
     "execution_count": 7,
     "metadata": {},
     "output_type": "execute_result"
    }
   ],
   "source": [
    "primes_number(10)"
   ]
  },
  {
   "cell_type": "code",
   "execution_count": 5,
   "metadata": {},
   "outputs": [],
   "source": [
    "def SieveOfEratosthenes(n): \n",
    "      \n",
    "    # Create a boolean array \"prime[0..n]\" and initialize \n",
    "    #  all entries it as true. A value in prime[i] will \n",
    "    # finally be false if i is Not a prime, else true. \n",
    "    prime = [True for i in range(n+1)] \n",
    "    result = []\n",
    "    p = 2\n",
    "    while (p * p <= n): \n",
    "          \n",
    "        # If prime[p] is not changed, then it is a prime \n",
    "        if (prime[p] == True): \n",
    "              \n",
    "            # Update all multiples of p \n",
    "            for i in range(p * p, n+1, p): \n",
    "                prime[i] = False\n",
    "        p += 1\n",
    "      \n",
    "    # Print all prime numbers \n",
    "    for p in range(2, n): \n",
    "        if prime[p]: \n",
    "            result.append(p)\n",
    "    return result"
   ]
  },
  {
   "cell_type": "code",
   "execution_count": 6,
   "metadata": {},
   "outputs": [
    {
     "data": {
      "text/plain": [
       "[2, 3, 5, 7]"
      ]
     },
     "execution_count": 6,
     "metadata": {},
     "output_type": "execute_result"
    }
   ],
   "source": [
    "SieveOfEratosthenes(10)"
   ]
  },
  {
   "cell_type": "code",
   "execution_count": 1,
   "metadata": {},
   "outputs": [],
   "source": [
    "def mcm(a,b,c):\n",
    "    # Order from least to greatest\n",
    "    mylist = sorted([a,b,c])\n",
    "    \n",
    "    maxi = mylist[2]\n",
    "    medi = mylist[1]\n",
    "    mini = mylist[0]\n",
    "\n",
    "    # Multiples\n",
    "    mul_maxi = maxi\n",
    "    mul_medi = medi\n",
    "    mul_mini = mini\n",
    "\n",
    "    Test = False\n",
    "\n",
    "    while not Test:\n",
    "\n",
    "        # Multiples of the intermediate number until the last one is less than or equal to the maximum\n",
    "        while mul_maxi - mul_medi >= medi:\n",
    "            mul_medi += medi\n",
    "\n",
    "        while mul_maxi - mul_mini >= mini:\n",
    "            mul_mini += mini\n",
    "\n",
    "        Test = (mul_maxi == mul_medi) and (mul_maxi == mul_mini)\n",
    "        mul_maxi += maxi\n",
    "\n",
    "    return mul_maxi - maxi"
   ]
  },
  {
   "cell_type": "code",
   "execution_count": 3,
   "metadata": {},
   "outputs": [
    {
     "data": {
      "text/plain": [
       "90"
      ]
     },
     "execution_count": 3,
     "metadata": {},
     "output_type": "execute_result"
    }
   ],
   "source": [
    "mcm(18,6,5)"
   ]
  },
  {
   "cell_type": "markdown",
   "metadata": {},
   "source": [
    "#### Ejemplo\n",
    "\n",
    "18 = 18 – 36 – 54 – 72 – 90\n",
    "\n",
    "6  = 6 – 12 – (18) -24 – 30 – (36) – 42 – 48 – (54) – 60 – 66 – (72) – 78 – 84 – (90)\n",
    "\n",
    "5  = 5 – 10 – (15) – 20 – 25 – 30 – (35) – 40 – 45 – (50) – 55 – 60 – 65 – (70) – 75 – 80 – 85 - (90)"
   ]
  },
  {
   "cell_type": "code",
   "execution_count": null,
   "metadata": {},
   "outputs": [],
   "source": []
  }
 ],
 "metadata": {
  "kernelspec": {
   "display_name": "Python 3 (ipykernel)",
   "language": "python",
   "name": "python3"
  },
  "language_info": {
   "codemirror_mode": {
    "name": "ipython",
    "version": 3
   },
   "file_extension": ".py",
   "mimetype": "text/x-python",
   "name": "python",
   "nbconvert_exporter": "python",
   "pygments_lexer": "ipython3",
   "version": "3.9.7"
  }
 },
 "nbformat": 4,
 "nbformat_minor": 2
}
